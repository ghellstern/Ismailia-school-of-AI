{
 "cells": [
  {
   "cell_type": "code",
   "execution_count": 1,
   "metadata": {},
   "outputs": [],
   "source": [
    "import numpy as np\n",
    "from qiskit import *\n",
    "from qiskit import Aer\n",
    "from qiskit.aqua.components.optimizers import *\n",
    "from qiskit.quantum_info import state_fidelity\n",
    "from qiskit.quantum_info.analysis import average_data,hellinger_fidelity\n",
    "from qiskit.providers.aer.noise import NoiseModel\n",
    "from qiskit.aqua.utils import get_subsystem_density_matrix\n",
    "np.set_printoptions(precision=15)\n",
    "%matplotlib inline"
   ]
  },
  {
   "cell_type": "code",
   "execution_count": 2,
   "metadata": {},
   "outputs": [
    {
     "data": {
      "text/html": [
       "<h3>Version Information</h3><table><tr><th>Qiskit Software</th><th>Version</th></tr><tr><td>Qiskit</td><td>0.16.0</td></tr><tr><td>Terra</td><td>0.12.0</td></tr><tr><td>Aer</td><td>0.4.0</td></tr><tr><td>Ignis</td><td>0.2.0</td></tr><tr><td>Aqua</td><td>0.7.0</td></tr><tr><td>IBM Q Provider</td><td>0.5.0</td></tr><tr><th>System information</th></tr><tr><td>Python</td><td>3.6.9 (default, Nov  7 2019, 10:44:02) \n",
       "[GCC 8.3.0]</td></tr><tr><td>OS</td><td>Linux</td></tr><tr><td>CPUs</td><td>2</td></tr><tr><td>Memory (Gb)</td><td>7.693023681640625</td></tr><tr><td colspan='2'>Fri Feb 28 17:40:16 2020 EET</td></tr></table>"
      ],
      "text/plain": [
       "<IPython.core.display.HTML object>"
      ]
     },
     "metadata": {},
     "output_type": "display_data"
    },
    {
     "data": {
      "text/html": [
       "<div style='width: 100%; background-color:#d5d9e0;padding-left: 10px; padding-bottom: 10px; padding-right: 10px; padding-top: 5px'><h3>This code is a part of Qiskit</h3><p>&copy; Copyright IBM 2017, 2020.</p><p>This code is licensed under the Apache License, Version 2.0. You may<br>obtain a copy of this license in the LICENSE.txt file in the root directory<br> of this source tree or at http://www.apache.org/licenses/LICENSE-2.0.<p>Any modifications or derivative works of this code must retain this<br>copyright notice, and modified files need to carry a notice indicating<br>that they have been altered from the originals.</p></div>"
      ],
      "text/plain": [
       "<IPython.core.display.HTML object>"
      ]
     },
     "metadata": {},
     "output_type": "display_data"
    }
   ],
   "source": [
    "import qiskit.tools.jupyter\n",
    "%qiskit_version_table\n",
    "%qiskit_copyright\n"
   ]
  },
  {
   "cell_type": "code",
   "execution_count": null,
   "metadata": {},
   "outputs": [],
   "source": [
    "provider = IBMQ.load_account()\n",
    "provider.backends()\n",
    "device_backend = provider.get_backend('ibmq_vigo')\n",
    "coupling_map = device_backend.configuration().coupling_map\n",
    "noise_model = NoiseModel.from_backend(device_backend)\n",
    "print(noise_model)\n",
    "basis_gates = noise_model.basis_gates\n",
    "\n",
    "# Select the QasmSimulator from the Aer provider\n",
    "simulator = Aer.get_backend('qasm_simulator')"
   ]
  },
  {
   "cell_type": "code",
   "execution_count": null,
   "metadata": {},
   "outputs": [],
   "source": [
    "def circuit(params):\n",
    "    q = QuantumRegister(2)\n",
    "    c = ClassicalRegister(2)\n",
    "    qc = QuantumCircuit(q,c)\n",
    "    #qc.h(q[0])\n",
    "    \n",
    "    qc.ry(params[0],q[0])\n",
    "    qc.rx(params[1],q[0])\n",
    "    \n",
    "    qc.cx(q[0],q[1])\n",
    "    qc.snapshot('0')\n",
    "    qc.measure(q[0],c[0])\n",
    "    qc.measure(q[1],c[1])\n",
    "    job = execute(qc, simulator, \n",
    "                       noise_model=noise_model,\n",
    "                       coupling_map=coupling_map,\n",
    "                       basis_gates=basis_gates,shots=100,backend_options={\"max_parallel_threads\":10}).result()\n",
    "    \n",
    "    statevector = np.array(job.data()['snapshots']['statevector']['0'][0])\n",
    "    statevector = get_subsystem_density_matrix(statevector,[2,3,4])\n",
    "    counts = job.get_counts()\n",
    "    return counts, statevector\n",
    "    "
   ]
  },
  {
   "cell_type": "code",
   "execution_count": null,
   "metadata": {},
   "outputs": [],
   "source": [
    "def cross_entropy(pred, targets, epsilon=1e-20):\n",
    "\n",
    "    pred = np.clip(pred, epsilon, 1. - epsilon)\n",
    "    \n",
    "    n_samples = pred.shape[0]\n",
    "    \n",
    "    loss = -np.sum(targets*np.log10(pred+epsilon))/n_samples\n",
    "\n",
    "    return loss\n",
    "\n",
    "labels = np.array([0.5,0,0,0.5])\n",
    "labels_vector = np.array([1/np.sqrt(2),0,0,1/np.sqrt(2)])\n",
    "p = []\n",
    "c = {'01': 0, '11': 50, '00': 50, '10': 0}\n",
    "def cost(var):\n",
    "    \n",
    "\n",
    "#    print(var)\n",
    "    st_vec = circuit(var)[1]\n",
    "#    print(st_vec)\n",
    "#    return cross_entropy(circuit(var),la)\n",
    "    \n",
    "    res = abs(1 - state_fidelity(st_vec,labels_vector))\n",
    "    #res = - hellinger_fidelity(c,st_vec)\n",
    "#    print(hellinger_fidelity(c,st_vec))\n",
    "#    print(res)\n",
    "    #if res < loss:\n",
    " #   print ('hey ',var)\n",
    "#        loss = res\n",
    "    return res"
   ]
  },
  {
   "cell_type": "code",
   "execution_count": null,
   "metadata": {},
   "outputs": [],
   "source": [
    "np.random.seed(5)\n",
    "init_params = np.random.randn(2)\n",
    "#init_params = [1.57079633]\n",
    "print(init_params)\n",
    "print(cost(init_params))"
   ]
  },
  {
   "cell_type": "code",
   "execution_count": null,
   "metadata": {},
   "outputs": [],
   "source": [
    "opt = AQGD(disp=True,maxiter=100)\n",
    "#opt = ADAM(tol=1e-11,lr=0.05)"
   ]
  },
  {
   "cell_type": "code",
   "execution_count": null,
   "metadata": {},
   "outputs": [],
   "source": [
    "opt.optimize(objective_function=cost,num_vars=2,initial_point=init_params)"
   ]
  },
  {
   "cell_type": "code",
   "execution_count": null,
   "metadata": {},
   "outputs": [],
   "source": [
    "np.pi/2"
   ]
  },
  {
   "cell_type": "code",
   "execution_count": null,
   "metadata": {},
   "outputs": [],
   "source": [
    "circuit([-6.1816324548196375])[0]"
   ]
  },
  {
   "cell_type": "code",
   "execution_count": null,
   "metadata": {},
   "outputs": [],
   "source": [
    "1024/2"
   ]
  },
  {
   "cell_type": "code",
   "execution_count": null,
   "metadata": {},
   "outputs": [],
   "source": [
    "x1 = np.linspace(-1, 2, 60)\n",
    "x2 = np.linspace(-1, 2, 60)\n",
    "X1, X2 = np.meshgrid(x1, x2)\n",
    "print(x1.shape)\n",
    "Z = np.zeros((len(X2),len(X1)))\n",
    "\n",
    "for id0,i in enumerate(x1):\n",
    "    for id1,j in enumerate(x2):\n",
    "        Z[id0,id1] = cost([i,j])"
   ]
  },
  {
   "cell_type": "code",
   "execution_count": null,
   "metadata": {},
   "outputs": [],
   "source": [
    "circuit([x1[0],x2[20]])"
   ]
  },
  {
   "cell_type": "code",
   "execution_count": null,
   "metadata": {},
   "outputs": [],
   "source": [
    "levels = [0.0, 1.0, 2.0, 4.0, 8.0, 12.0, 14.0]\n",
    "cp = plt.contour(X1, X2, Z, colors='black', linestyles='dashed', linewidths=1)\n",
    "plt.clabel(cp, inline=3, fontsize=10)\n",
    "cp = plt.contourf(X1, X2, Z,cmap=plt.cm.hot)\n",
    "plt.colorbar()\n",
    "plt.xlabel('X1')\n",
    "plt.ylabel('X2')\n",
    "plt.show()"
   ]
  },
  {
   "cell_type": "code",
   "execution_count": null,
   "metadata": {},
   "outputs": [],
   "source": [
    "cm = plt.cm.get_cmap('viridis')\n",
    "plt.scatter(X1, X2, c=Z, cmap=cm)\n",
    "plt.colorbar()\n",
    "plt.show()"
   ]
  },
  {
   "cell_type": "code",
   "execution_count": null,
   "metadata": {},
   "outputs": [],
   "source": []
  }
 ],
 "metadata": {
  "kernelspec": {
   "display_name": "Python 3",
   "language": "python",
   "name": "python3"
  },
  "language_info": {
   "codemirror_mode": {
    "name": "ipython",
    "version": 3
   },
   "file_extension": ".py",
   "mimetype": "text/x-python",
   "name": "python",
   "nbconvert_exporter": "python",
   "pygments_lexer": "ipython3",
   "version": "3.6.9"
  }
 },
 "nbformat": 4,
 "nbformat_minor": 2
}
