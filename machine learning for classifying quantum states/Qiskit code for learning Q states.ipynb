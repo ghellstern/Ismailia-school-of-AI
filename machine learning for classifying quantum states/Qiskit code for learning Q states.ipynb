{
  "nbformat": 4,
  "nbformat_minor": 0,
  "metadata": {
    "kernelspec": {
      "name": "python3",
      "display_name": "Python 3"
    },
    "language_info": {
      "codemirror_mode": {
        "name": "ipython",
        "version": 3
      },
      "file_extension": ".py",
      "mimetype": "text/x-python",
      "name": "python",
      "nbconvert_exporter": "python",
      "pygments_lexer": "ipython3",
      "version": "3.6.9"
    },
    "colab": {
      "name": "Qiskit code for learning Q states.ipynb",
      "provenance": [],
      "include_colab_link": true
    },
    "accelerator": "GPU"
  },
  "cells": [
    {
      "cell_type": "markdown",
      "metadata": {
        "id": "view-in-github",
        "colab_type": "text"
      },
      "source": [
        "<a href=\"https://colab.research.google.com/github/kareem1925/Ismailia-school-of-AI/blob/master/machine%20learning%20for%20classifying%20quantum%20states/Qiskit%20code%20for%20learning%20Q%20states.ipynb\" target=\"_parent\"><img src=\"https://colab.research.google.com/assets/colab-badge.svg\" alt=\"Open In Colab\"/></a>"
      ]
    },
    {
      "cell_type": "code",
      "metadata": {
        "id": "Mi6OdTK5eT9D",
        "colab_type": "code",
        "colab": {
          "base_uri": "https://localhost:8080/",
          "height": 34
        },
        "outputId": "71a6b46c-60f8-43ab-eabb-02793bdf75d3"
      },
      "source": [
        "!pip install git+https://github.com/Qiskit/qiskit-aqua.git -q"
      ],
      "execution_count": 1,
      "outputs": [
        {
          "output_type": "stream",
          "text": [
            "  Building wheel for qiskit-aqua (setup.py) ... \u001b[?25l\u001b[?25hdone\n"
          ],
          "name": "stdout"
        }
      ]
    },
    {
      "cell_type": "code",
      "metadata": {
        "id": "hXn0_C0OeoG4",
        "colab_type": "code",
        "colab": {}
      },
      "source": [
        "!pip install qiskit-aer qiskit-ignis qiskit-terra qiskit-ibmq-provider -q"
      ],
      "execution_count": 0,
      "outputs": []
    },
    {
      "cell_type": "code",
      "metadata": {
        "id": "a2fJiD-veSo5",
        "colab_type": "code",
        "colab": {}
      },
      "source": [
        "import numpy as np\n",
        "from qiskit import *\n",
        "from qiskit import Aer\n",
        "from qiskit.aqua.components.optimizers import *\n",
        "from qiskit.quantum_info import state_fidelity\n",
        "from qiskit.quantum_info.analysis import average_data,hellinger_fidelity\n",
        "from qiskit.providers.aer.noise import NoiseModel\n",
        "from qiskit.aqua.utils import get_subsystem_density_matrix\n",
        "from qiskit.tools.visualization import plot_histogram\n",
        "np.set_printoptions(precision=15)\n",
        "%matplotlib inline"
      ],
      "execution_count": 0,
      "outputs": []
    },
    {
      "cell_type": "code",
      "metadata": {
        "id": "UObz3A1GeSpC",
        "colab_type": "code",
        "colab": {
          "base_uri": "https://localhost:8080/",
          "height": 547
        },
        "outputId": "8ff24e42-5bbc-4cdd-e316-0881b1d147b8"
      },
      "source": [
        "import qiskit.tools.jupyter\n",
        "%qiskit_version_table\n",
        "%qiskit_copyright\n"
      ],
      "execution_count": 4,
      "outputs": [
        {
          "output_type": "display_data",
          "data": {
            "text/html": [
              "<h3>Version Information</h3><table><tr><th>Qiskit Software</th><th>Version</th></tr><tr><td>Qiskit</td><td>None</td></tr><tr><td>Terra</td><td>0.12.0</td></tr><tr><td>Aer</td><td>0.4.0</td></tr><tr><td>Ignis</td><td>0.2.0</td></tr><tr><td>Aqua</td><td>0.7.0</td></tr><tr><td>IBM Q Provider</td><td>0.5.0</td></tr><tr><th>System information</th></tr><tr><td>Python</td><td>3.6.9 (default, Nov  7 2019, 10:44:02) \n",
              "[GCC 8.3.0]</td></tr><tr><td>OS</td><td>Linux</td></tr><tr><td>CPUs</td><td>1</td></tr><tr><td>Memory (Gb)</td><td>12.717426300048828</td></tr><tr><td colspan='2'>Fri Feb 28 20:29:51 2020 UTC</td></tr></table>"
            ],
            "text/plain": [
              "<IPython.core.display.HTML object>"
            ]
          },
          "metadata": {
            "tags": []
          }
        },
        {
          "output_type": "display_data",
          "data": {
            "text/html": [
              "<div style='width: 100%; background-color:#d5d9e0;padding-left: 10px; padding-bottom: 10px; padding-right: 10px; padding-top: 5px'><h3>This code is a part of Qiskit</h3><p>&copy; Copyright IBM 2017, 2020.</p><p>This code is licensed under the Apache License, Version 2.0. You may<br>obtain a copy of this license in the LICENSE.txt file in the root directory<br> of this source tree or at http://www.apache.org/licenses/LICENSE-2.0.<p>Any modifications or derivative works of this code must retain this<br>copyright notice, and modified files need to carry a notice indicating<br>that they have been altered from the originals.</p></div>"
            ],
            "text/plain": [
              "<IPython.core.display.HTML object>"
            ]
          },
          "metadata": {
            "tags": []
          }
        }
      ]
    },
    {
      "cell_type": "code",
      "metadata": {
        "id": "UeKQbqAxeSpK",
        "colab_type": "code",
        "colab": {
          "base_uri": "https://localhost:8080/",
          "height": 139
        },
        "outputId": "ba016abb-0bec-4727-a3e5-03cca05c7625"
      },
      "source": [
        "IBMQ.save_account('', overwrite=True)\n",
        "provider = IBMQ.load_account()\n",
        "provider.backends()\n",
        "device_backend = provider.get_backend('ibmq_vigo')\n",
        "coupling_map = device_backend.configuration().coupling_map\n",
        "noise_model = NoiseModel.from_backend(device_backend)\n",
        "print(noise_model)\n",
        "basis_gates = noise_model.basis_gates\n",
        "\n",
        "# Select the QasmSimulator from the Aer provider\n",
        "simulator = Aer.get_backend('qasm_simulator')"
      ],
      "execution_count": 122,
      "outputs": [
        {
          "output_type": "stream",
          "text": [
            "Credentials are already in use. The existing account in the session will be replaced.\n"
          ],
          "name": "stderr"
        },
        {
          "output_type": "stream",
          "text": [
            "NoiseModel:\n",
            "  Basis gates: ['cx', 'id', 'u2', 'u3']\n",
            "  Instructions with noise: ['cx', 'u2', 'u3', 'measure', 'id']\n",
            "  Qubits with noise: [0, 1, 2, 3, 4]\n",
            "  Specific qubit errors: [('id', [0]), ('id', [1]), ('id', [2]), ('id', [3]), ('id', [4]), ('u2', [0]), ('u2', [1]), ('u2', [2]), ('u2', [3]), ('u2', [4]), ('u3', [0]), ('u3', [1]), ('u3', [2]), ('u3', [3]), ('u3', [4]), ('cx', [0, 1]), ('cx', [1, 0]), ('cx', [1, 2]), ('cx', [1, 3]), ('cx', [2, 1]), ('cx', [3, 1]), ('cx', [3, 4]), ('cx', [4, 3]), ('measure', [0]), ('measure', [1]), ('measure', [2]), ('measure', [3]), ('measure', [4])]\n"
          ],
          "name": "stdout"
        }
      ]
    },
    {
      "cell_type": "code",
      "metadata": {
        "id": "Z5gJ17eaeSpQ",
        "colab_type": "code",
        "colab": {}
      },
      "source": [
        "def circuit(params):\n",
        "    q = QuantumRegister(2)\n",
        "    c = ClassicalRegister(2)\n",
        "    qc = QuantumCircuit(q,c)\n",
        "    #qc.h(q[0])\n",
        "    \n",
        "    qc.ry(params[0],q[0])\n",
        "#    qc.rx(params[1],q[0])\n",
        "    \n",
        "    qc.cx(q[0],q[1])\n",
        "    qc.snapshot('0')\n",
        "    qc.measure(q[0],c[0])\n",
        "    qc.measure(q[1],c[1])\n",
        "    job = execute(qc, simulator, \n",
        "                       noise_model=noise_model,\n",
        "                       coupling_map=coupling_map,\n",
        "                       basis_gates=basis_gates,shots=10,backend_options={\"max_parallel_threads\":10}).result()\n",
        "    \n",
        "    statevector = np.array(job.data()['snapshots']['statevector']['0'][0])\n",
        "    statevector = get_subsystem_density_matrix(statevector,[2,3,4])\n",
        "    counts = job.get_counts()\n",
        "    return counts, statevector\n"
      ],
      "execution_count": 0,
      "outputs": []
    },
    {
      "cell_type": "code",
      "metadata": {
        "id": "7sqxa0WveSpX",
        "colab_type": "code",
        "colab": {}
      },
      "source": [
        "def cross_entropy(pred, targets, epsilon=1e-20):\n",
        "\n",
        "    pred = np.clip(pred, epsilon, 1. - epsilon)\n",
        "    \n",
        "    n_samples = pred.shape[0]\n",
        "    \n",
        "    loss = -np.sum(targets*np.log10(pred+epsilon))/n_samples\n",
        "\n",
        "    return loss\n",
        "\n",
        "labels = np.array([0.5,0,0,0.5])\n",
        "labels_vector = np.array([1/np.sqrt(2),0,0,1/np.sqrt(2)])\n",
        "c = {'01': 0, '11': 50, '00': 50, '10': 0}\n",
        "\n",
        "def cost(var):\n",
        "    \n",
        "\n",
        "#    print(var)\n",
        "    st_vec = circuit(var)[1]\n",
        "\n",
        "#    return cross_entropy(circuit(var),la)\n",
        "    \n",
        "    res = abs(1 - state_fidelity(st_vec,labels_vector))\n",
        "#    res = - hellinger_fidelity(c,st_vec)\n",
        "#    print(hellinger_fidelity(c,st_vec))\n",
        "\n",
        "    return res"
      ],
      "execution_count": 0,
      "outputs": []
    },
    {
      "cell_type": "code",
      "metadata": {
        "id": "ytUpfi5seSpg",
        "colab_type": "code",
        "colab": {
          "base_uri": "https://localhost:8080/",
          "height": 51
        },
        "outputId": "9af6e002-84a0-4935-a422-6eb7a216627b"
      },
      "source": [
        "np.random.seed(5)\n",
        "init_params = np.random.randn(1)\n",
        "#init_params = [1.57079633]\n",
        "print(init_params)\n",
        "print(cost(init_params))"
      ],
      "execution_count": 156,
      "outputs": [
        {
          "output_type": "stream",
          "text": [
            "[2.57079633]\n",
            "0.5679959683493738\n"
          ],
          "name": "stdout"
        }
      ]
    },
    {
      "cell_type": "code",
      "metadata": {
        "id": "djLW6LwbeSpo",
        "colab_type": "code",
        "colab": {}
      },
      "source": [
        "opt = AQGD(disp=True,maxiter=100,tol=1e-16)\n",
        "#opt = ADAM(tol=1e-11,lr=0.05)"
      ],
      "execution_count": 0,
      "outputs": []
    },
    {
      "cell_type": "code",
      "metadata": {
        "id": "OOzGyA4geSpt",
        "colab_type": "code",
        "colab": {
          "base_uri": "https://localhost:8080/",
          "height": 1000
        },
        "outputId": "f8333dea-52d4-4d5d-a30d-bdfe5cf8becb"
      },
      "source": [
        "opt.optimize(objective_function=cost,num_vars=1,initial_point=init_params)"
      ],
      "execution_count": 158,
      "outputs": [
        {
          "output_type": "stream",
          "text": [
            "Iteration: 0 \t| Energy: 0.22984884841443087\n",
            "Iteration: 1 \t| Energy: 0.0007112573866856486\n",
            "Iteration: 2 \t| Energy: 0.12298848100841453\n",
            "Iteration: 3 \t| Energy: 0.07509163480584002\n",
            "Iteration: 4 \t| Energy: 0.0062996831237469575\n",
            "Iteration: 5 \t| Energy: 0.06520827289594189\n",
            "Iteration: 6 \t| Energy: 0.013061734790205337\n",
            "Iteration: 7 \t| Energy: 0.014558646433361133\n",
            "Iteration: 8 \t| Energy: 0.026277918198980066\n",
            "Iteration: 9 \t| Energy: 0.00020360190688462065\n",
            "Iteration: 10 \t| Energy: 0.012758881223493779\n",
            "Iteration: 11 \t| Energy: 0.006796589442922496\n",
            "Iteration: 12 \t| Energy: 0.0010814977037281182\n",
            "Iteration: 13 \t| Energy: 0.00678844919769217\n",
            "Iteration: 14 \t| Energy: 0.0007453649289186348\n",
            "Iteration: 15 \t| Energy: 0.0008659996926765334\n",
            "Iteration: 16 \t| Energy: 0.001511884874684788\n",
            "Iteration: 17 \t| Energy: 5.189269298155885e-06\n",
            "Iteration: 18 \t| Energy: 0.0007696328961306342\n",
            "Iteration: 19 \t| Energy: 0.000363455066797691\n",
            "Iteration: 20 \t| Energy: 7.89968337897573e-05\n",
            "Iteration: 21 \t| Energy: 0.00039416324460939123\n",
            "Iteration: 22 \t| Energy: 3.3051219950452904e-05\n",
            "Iteration: 23 \t| Energy: 0.00012763570888907338\n",
            "Iteration: 24 \t| Energy: 0.0001293627113740925\n",
            "Iteration: 25 \t| Energy: 1.8591677650725558e-06\n",
            "Iteration: 26 \t| Energy: 8.803269086210541e-05\n",
            "Iteration: 27 \t| Energy: 2.344651490560068e-05\n",
            "Iteration: 28 \t| Energy: 1.6084718010844767e-05\n",
            "Iteration: 29 \t| Energy: 3.7678244595884536e-05\n",
            "Iteration: 30 \t| Energy: 6.866948194517164e-07\n",
            "Iteration: 31 \t| Energy: 1.6693708699055954e-05\n",
            "Iteration: 32 \t| Energy: 1.0081747914836292e-05\n",
            "Iteration: 33 \t| Energy: 1.1660557084347545e-06\n",
            "Iteration: 34 \t| Energy: 9.340867696439048e-06\n",
            "Iteration: 35 \t| Energy: 1.2107054923049532e-06\n",
            "Iteration: 36 \t| Energy: 2.57446464069222e-06\n",
            "Iteration: 37 \t| Energy: 3.341819070801222e-06\n",
            "Iteration: 38 \t| Energy: 3.7015652765148843e-09\n",
            "Iteration: 39 \t| Energy: 1.9854890432879913e-06\n",
            "Iteration: 40 \t| Energy: 6.972969239793514e-07\n",
            "Iteration: 41 \t| Energy: 2.861215173677323e-07\n",
            "Iteration: 42 \t| Energy: 9.227464141670083e-07\n",
            "Iteration: 43 \t| Energy: 3.9679183383434236e-08\n",
            "Iteration: 44 \t| Energy: 3.551564418113884e-07\n",
            "Iteration: 45 \t| Energy: 2.723443164320827e-07\n",
            "Iteration: 46 \t| Energy: 1.4591688968224048e-08\n",
            "Iteration: 47 \t| Energy: 2.1799297822422403e-07\n",
            "Iteration: 48 \t| Energy: 4.0486984209664456e-08\n",
            "Iteration: 49 \t| Energy: 5.036176897732503e-08\n",
            "Iteration: 50 \t| Energy: 8.47795402769691e-08\n",
            "Iteration: 51 \t| Energy: 1.8687174030418419e-10\n",
            "Iteration: 52 \t| Energy: 4.402994568941665e-08\n",
            "Iteration: 53 \t| Energy: 1.9993477318180908e-08\n",
            "Iteration: 54 \t| Energy: 4.761126937147253e-09\n",
            "Iteration: 55 \t| Energy: 2.2252970133251893e-08\n",
            "Iteration: 56 \t| Energy: 1.7208601210683128e-09\n",
            "Iteration: 57 \t| Energy: 7.3880372930545946e-09\n",
            "Iteration: 58 \t| Energy: 7.196721663049743e-09\n",
            "Iteration: 59 \t| Energy: 1.3097301021502972e-10\n",
            "Iteration: 60 \t| Energy: 5.009501258257387e-09\n",
            "Iteration: 61 \t| Energy: 1.27112897985171e-09\n",
            "Iteration: 62 \t| Energy: 9.4865959532342e-10\n",
            "Iteration: 63 \t| Energy: 2.1150677875780843e-09\n",
            "Iteration: 64 \t| Energy: 3.1848523818212016e-11\n",
            "Iteration: 65 \t| Energy: 9.58847112819683e-10\n",
            "Iteration: 66 \t| Energy: 5.562929006330819e-10\n",
            "Iteration: 67 \t| Energy: 7.195777307344997e-11\n",
            "Iteration: 68 \t| Energy: 5.285921700348695e-10\n",
            "Iteration: 69 \t| Energy: 1.147339112606005e-09\n",
            "Iteration: 70 \t| Energy: 1.5420664745136037e-11\n",
            "Iteration: 71 \t| Energy: 5.267017932908402e-10\n",
            "Iteration: 72 \t| Energy: 0.9999999997010935\n",
            "Iteration: 73 \t| Energy: 4.104871997867576e-11\n",
            "Iteration: 74 \t| Energy: 2.8801538931588766e-10\n",
            "Iteration: 75 \t| Energy: 3.365985268288796e-11\n",
            "Iteration: 76 \t| Energy: 8.285017116804738e-11\n",
            "Iteration: 77 \t| Energy: 1.0080447587768049e-10\n",
            "Iteration: 78 \t| Energy: 3.0453417565468044e-13\n",
            "Iteration: 79 \t| Energy: 6.201317237497506e-11\n",
            "Iteration: 80 \t| Energy: 0.999999999979677\n",
            "Iteration: 81 \t| Energy: 9.539480316789195e-12\n",
            "Iteration: 82 \t| Energy: 2.8211433189540003e-11\n",
            "Iteration: 83 \t| Energy: 1.006750238730092e-12\n",
            "Iteration: 84 \t| Energy: 4.9639181654015374e-12\n",
            "Iteration: 85 \t| Energy: 4.600764214046649e-12\n",
            "Iteration: 86 \t| Energy: 1.0946799022804043e-13\n",
            "Iteration: 87 \t| Energy: 3.2949198924825396e-12\n",
            "Iteration: 88 \t| Energy: 7.864819906444609e-13\n",
            "Iteration: 89 \t| Energy: 6.517009154549669e-13\n",
            "Iteration: 90 \t| Energy: 1.3677947663381929e-12\n",
            "Iteration: 91 \t| Energy: 1.5987211554602254e-14\n",
            "Iteration: 92 \t| Energy: 6.3815619455454e-13\n",
            "Iteration: 93 \t| Energy: 3.5216274341109965e-13\n",
            "Iteration: 94 \t| Energy: 5.218048215738236e-14\n",
            "Iteration: 95 \t| Energy: 3.455014052633487e-13\n",
            "Iteration: 96 \t| Energy: 3.863576125695545e-14\n",
            "Iteration: 97 \t| Energy: 1.0147438445073931e-13\n",
            "Iteration: 98 \t| Energy: 1.199040866595169e-13\n",
            "Iteration: 99 \t| Energy: 6.661338147750939e-16\n",
            "Iteration: 100 \t| Energy: 7.505107646466058e-14\n"
          ],
          "name": "stdout"
        },
        {
          "output_type": "execute_result",
          "data": {
            "text/plain": [
              "(array([1.570796873664514]), 6.661338147750939e-16, 100)"
            ]
          },
          "metadata": {
            "tags": []
          },
          "execution_count": 158
        }
      ]
    },
    {
      "cell_type": "code",
      "metadata": {
        "id": "C19UazaIeSpy",
        "colab_type": "code",
        "colab": {}
      },
      "source": [
        ""
      ],
      "execution_count": 0,
      "outputs": []
    },
    {
      "cell_type": "code",
      "metadata": {
        "id": "JTLCwZbCeSp5",
        "colab_type": "code",
        "colab": {
          "base_uri": "https://localhost:8080/",
          "height": 331
        },
        "outputId": "00b31b07-d462-47de-c50c-76a3aacf9955"
      },
      "source": [
        "counts,density_matrix = circuit([1.570796873664514])\n",
        "plot_histogram(counts)"
      ],
      "execution_count": 159,
      "outputs": [
        {
          "output_type": "execute_result",
          "data": {
            "image/png": "[encoded data removed]",
            "text/plain": [
              "<Figure size 504x360 with 1 Axes>"
            ]
          },
          "metadata": {
            "tags": []
          },
          "execution_count": 159
        }
      ]
    },
    {
      "cell_type": "code",
      "metadata": {
        "id": "wA-GjuExeSp_",
        "colab_type": "code",
        "colab": {
          "base_uri": "https://localhost:8080/",
          "height": 34
        },
        "outputId": "201febdf-9ab3-4fa3-dd72-b3162ad90108"
      },
      "source": [
        "print(state_fidelity(density_matrix,labels_vector))"
      ],
      "execution_count": 160,
      "outputs": [
        {
          "output_type": "stream",
          "text": [
            "0.9999999999999251\n"
          ],
          "name": "stdout"
        }
      ]
    }
  ]
}