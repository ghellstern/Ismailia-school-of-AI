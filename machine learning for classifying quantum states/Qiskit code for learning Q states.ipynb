{
  "nbformat": 4,
  "nbformat_minor": 0,
  "metadata": {
    "kernelspec": {
      "name": "python3",
      "display_name": "Python 3"
    },
    "language_info": {
      "codemirror_mode": {
        "name": "ipython",
        "version": 3
      },
      "file_extension": ".py",
      "mimetype": "text/x-python",
      "name": "python",
      "nbconvert_exporter": "python",
      "pygments_lexer": "ipython3",
      "version": "3.6.9"
    },
    "colab": {
      "name": "Qiskit code for learning Q states.ipynb",
      "provenance": [],
      "include_colab_link": true
    },
    "accelerator": "GPU"
  },
  "cells": [
    {
      "cell_type": "markdown",
      "metadata": {
        "id": "view-in-github",
        "colab_type": "text"
      },
      "source": [
        "<a href=\"https://colab.research.google.com/github/kareem1925/Ismailia-school-of-AI/blob/master/machine%20learning%20for%20classifying%20quantum%20states/Qiskit%20code%20for%20learning%20Q%20states.ipynb\" target=\"_parent\"><img src=\"https://colab.research.google.com/assets/colab-badge.svg\" alt=\"Open In Colab\"/></a>"
      ]
    },
    {
      "cell_type": "markdown",
      "metadata": {
        "id": "xMIjYJBVl6qg",
        "colab_type": "text"
      },
      "source": [
        "### Notebook configration\n",
        "\n",
        "**Important**\n",
        "Due to an error in the while loop of the AQGD optimizer in Qiskit-Aqua version 0.6.4, I have a separate repo for solving it and also I have updated the returned values to include the history of the loss function so that we can plot it.\n",
        "The following two cells must be run sequentially."
      ]
    },
    {
      "cell_type": "code",
      "metadata": {
        "id": "Mi6OdTK5eT9D",
        "colab_type": "code",
        "colab": {
          "base_uri": "https://localhost:8080/",
          "height": 1000
        },
        "outputId": "7ad7bde3-d4cd-41de-d7ce-99dcfe23f16e"
      },
      "source": [
        "!pip install git+https://github.com/kareem1925/qiskit-aqua.git@kareem1925-mentor "
      ],
      "execution_count": 1,
      "outputs": [
        {
          "output_type": "stream",
          "text": [
            "Collecting git+https://github.com/kareem1925/qiskit-aqua.git@kareem1925-mentor\n",
            "  Cloning https://github.com/kareem1925/qiskit-aqua.git (to revision kareem1925-mentor) to /tmp/pip-req-build-vmp3xf8c\n",
            "  Running command git clone -q https://github.com/kareem1925/qiskit-aqua.git /tmp/pip-req-build-vmp3xf8c\n",
            "  Running command git checkout -b kareem1925-mentor --track origin/kareem1925-mentor\n",
            "  Switched to a new branch 'kareem1925-mentor'\n",
            "  Branch 'kareem1925-mentor' set up to track remote branch 'kareem1925-mentor' from 'origin'.\n",
            "Collecting qiskit-terra>=0.11.0\n",
            "\u001b[?25l  Downloading https://files.pythonhosted.org/packages/30/6e/3aada46aa05013279b918002a6123d9cf5d4014d65cef90f7f5306969ccc/qiskit_terra-0.12.0-cp36-cp36m-manylinux2010_x86_64.whl (2.9MB)\n",
            "\u001b[K     |████████████████████████████████| 2.9MB 2.8MB/s \n",
            "\u001b[?25hCollecting qiskit-ignis>=0.2.0\n",
            "\u001b[?25l  Downloading https://files.pythonhosted.org/packages/78/f2/f4f89c65d2c13f473092f7e800519836611ddeeaab8d4591a70555b26a37/qiskit_ignis-0.2.0-py3-none-any.whl (100kB)\n",
            "\u001b[K     |████████████████████████████████| 102kB 12.4MB/s \n",
            "\u001b[?25hRequirement already satisfied: scipy>=1.0 in /usr/local/lib/python3.6/dist-packages (from qiskit-aqua==0.7.0) (1.4.1)\n",
            "Collecting sympy>=1.3\n",
            "\u001b[?25l  Downloading https://files.pythonhosted.org/packages/ce/5b/acc12e3c0d0be685601fc2b2d20ed18dc0bf461380e763afc9d0a548deb0/sympy-1.5.1-py2.py3-none-any.whl (5.6MB)\n",
            "\u001b[K     |████████████████████████████████| 5.6MB 21.2MB/s \n",
            "\u001b[?25hRequirement already satisfied: numpy>=1.13 in /usr/local/lib/python3.6/dist-packages (from qiskit-aqua==0.7.0) (1.17.5)\n",
            "Requirement already satisfied: psutil>=5 in /usr/local/lib/python3.6/dist-packages (from qiskit-aqua==0.7.0) (5.4.8)\n",
            "Requirement already satisfied: scikit-learn>=0.20.0 in /usr/local/lib/python3.6/dist-packages (from qiskit-aqua==0.7.0) (0.22.1)\n",
            "Collecting dlx\n",
            "  Downloading https://files.pythonhosted.org/packages/54/c0/b8fb5bb727e983b6f5251433ef941b48f38c65bb0bd6ec509e9185bcd406/dlx-1.0.4.tar.gz\n",
            "Collecting docplex\n",
            "\u001b[?25l  Downloading https://files.pythonhosted.org/packages/1c/06/de7833f2e70d51286611a2676f130f0978d2c16f65047cb965d0af579d08/docplex-2.12.182.tar.gz (565kB)\n",
            "\u001b[K     |████████████████████████████████| 573kB 39.3MB/s \n",
            "\u001b[?25hRequirement already satisfied: fastdtw in /usr/local/lib/python3.6/dist-packages (from qiskit-aqua==0.7.0) (0.3.4)\n",
            "Collecting quandl\n",
            "  Downloading https://files.pythonhosted.org/packages/07/ab/8cd479fba8a9b197a43a0d55dd534b066fb8e5a0a04b5c0384cbc5d663aa/Quandl-3.5.0-py2.py3-none-any.whl\n",
            "Requirement already satisfied: setuptools>=40.1.0 in /usr/local/lib/python3.6/dist-packages (from qiskit-aqua==0.7.0) (45.1.0)\n",
            "Requirement already satisfied: h5py in /usr/local/lib/python3.6/dist-packages (from qiskit-aqua==0.7.0) (2.8.0)\n",
            "Requirement already satisfied: networkx>=2.2 in /usr/local/lib/python3.6/dist-packages (from qiskit-aqua==0.7.0) (2.4)\n",
            "Requirement already satisfied: cvxopt in /usr/local/lib/python3.6/dist-packages (from qiskit-aqua==0.7.0) (1.2.4)\n",
            "Collecting pyscf\n",
            "\u001b[?25l  Downloading https://files.pythonhosted.org/packages/22/37/c9ed47f2b3f92a4f6955ab5454bf364cee6c05edb40e35b31b21b56d39f4/pyscf-1.7.0-cp36-cp36m-manylinux1_x86_64.whl (24.3MB)\n",
            "\u001b[K     |████████████████████████████████| 24.3MB 28.9MB/s \n",
            "\u001b[?25hRequirement already satisfied: dill>=0.3 in /usr/local/lib/python3.6/dist-packages (from qiskit-terra>=0.11.0->qiskit-aqua==0.7.0) (0.3.1.1)\n",
            "Requirement already satisfied: jsonschema>=2.6 in /usr/local/lib/python3.6/dist-packages (from qiskit-terra>=0.11.0->qiskit-aqua==0.7.0) (2.6.0)\n",
            "Collecting ply>=3.10\n",
            "\u001b[?25l  Downloading https://files.pythonhosted.org/packages/a3/58/35da89ee790598a0700ea49b2a66594140f44dec458c07e8e3d4979137fc/ply-3.11-py2.py3-none-any.whl (49kB)\n",
            "\u001b[K     |████████████████████████████████| 51kB 8.7MB/s \n",
            "\u001b[?25hCollecting marshmallow-polyfield<6,>=5.7\n",
            "  Downloading https://files.pythonhosted.org/packages/b5/9a/8c303051f9d0f844c06b8d607f7578a2ac9aec2ffe02947fea5d5ba589d8/marshmallow_polyfield-5.8-py3-none-any.whl\n",
            "Collecting marshmallow<4,>=3\n",
            "\u001b[?25l  Downloading https://files.pythonhosted.org/packages/54/b5/d10256349371486f195edce0bb5cf53aeb757e887a251cf98286eda8b4ec/marshmallow-3.5.0-py2.py3-none-any.whl (45kB)\n",
            "\u001b[K     |████████████████████████████████| 51kB 10.1MB/s \n",
            "\u001b[?25hRequirement already satisfied: mpmath>=0.19 in /usr/local/lib/python3.6/dist-packages (from sympy>=1.3->qiskit-aqua==0.7.0) (1.1.0)\n",
            "Requirement already satisfied: joblib>=0.11 in /usr/local/lib/python3.6/dist-packages (from scikit-learn>=0.20.0->qiskit-aqua==0.7.0) (0.14.1)\n",
            "Requirement already satisfied: requests in /usr/local/lib/python3.6/dist-packages (from docplex->qiskit-aqua==0.7.0) (2.21.0)\n",
            "Requirement already satisfied: six in /usr/local/lib/python3.6/dist-packages (from docplex->qiskit-aqua==0.7.0) (1.12.0)\n",
            "Collecting docloud>=1.0.375\n",
            "  Downloading https://files.pythonhosted.org/packages/89/1c/fcb7ea86ae5cb7137a22f00bcaa785de2d102bd4a2b16383ec4a877a835b/docloud-1.0.375.tar.gz\n",
            "Requirement already satisfied: python-dateutil in /usr/local/lib/python3.6/dist-packages (from quandl->qiskit-aqua==0.7.0) (2.6.1)\n",
            "Requirement already satisfied: pandas>=0.14 in /usr/local/lib/python3.6/dist-packages (from quandl->qiskit-aqua==0.7.0) (0.25.3)\n",
            "Requirement already satisfied: more-itertools in /usr/local/lib/python3.6/dist-packages (from quandl->qiskit-aqua==0.7.0) (8.2.0)\n",
            "Collecting inflection>=0.3.1\n",
            "  Downloading https://files.pythonhosted.org/packages/d5/35/a6eb45b4e2356fe688b21570864d4aa0d0a880ce387defe9c589112077f8/inflection-0.3.1.tar.gz\n",
            "Requirement already satisfied: decorator>=4.3.0 in /usr/local/lib/python3.6/dist-packages (from networkx>=2.2->qiskit-aqua==0.7.0) (4.4.1)\n",
            "Requirement already satisfied: urllib3<1.25,>=1.21.1 in /usr/local/lib/python3.6/dist-packages (from requests->docplex->qiskit-aqua==0.7.0) (1.24.3)\n",
            "Requirement already satisfied: idna<2.9,>=2.5 in /usr/local/lib/python3.6/dist-packages (from requests->docplex->qiskit-aqua==0.7.0) (2.8)\n",
            "Requirement already satisfied: chardet<3.1.0,>=3.0.2 in /usr/local/lib/python3.6/dist-packages (from requests->docplex->qiskit-aqua==0.7.0) (3.0.4)\n",
            "Requirement already satisfied: certifi>=2017.4.17 in /usr/local/lib/python3.6/dist-packages (from requests->docplex->qiskit-aqua==0.7.0) (2019.11.28)\n",
            "Requirement already satisfied: pytz>=2017.2 in /usr/local/lib/python3.6/dist-packages (from pandas>=0.14->quandl->qiskit-aqua==0.7.0) (2018.9)\n",
            "Building wheels for collected packages: qiskit-aqua, dlx, docplex, docloud, inflection\n",
            "  Building wheel for qiskit-aqua (setup.py) ... \u001b[?25l\u001b[?25hdone\n",
            "  Created wheel for qiskit-aqua: filename=qiskit_aqua-0.7.0-cp36-none-any.whl size=1740668 sha256=c0819967289d72b641d9c532b1f0cf57bb3b4b658d2281ffc53ed9a626ec6b32\n",
            "  Stored in directory: /tmp/pip-ephem-wheel-cache-i66m_6uo/wheels/2f/b7/f1/c656b56b5969883339b3d045afd5cc6c163d6a71ce8ab17d41\n",
            "  Building wheel for dlx (setup.py) ... \u001b[?25l\u001b[?25hdone\n",
            "  Created wheel for dlx: filename=dlx-1.0.4-cp36-none-any.whl size=5712 sha256=0bcb67e79c77aa3a3bcbd9ae582689284a8f1a6bab8f9b3d6ecb88750b8ad7e0\n",
            "  Stored in directory: /root/.cache/pip/wheels/bb/ba/15/fdd0deb104df3254912998150ba9245668db06b00af5912d1a\n",
            "  Building wheel for docplex (setup.py) ... \u001b[?25l\u001b[?25hdone\n",
            "  Created wheel for docplex: filename=docplex-2.12.182-cp36-none-any.whl size=627978 sha256=f87dc56e25bb4f3c7684d5bb1aba4ca219a4786ab3f250e7e08f442fdb690d62\n",
            "  Stored in directory: /root/.cache/pip/wheels/9b/ef/71/204f676be3eae44c121c5b779077bd06f573d86cc6524aecc8\n",
            "  Building wheel for docloud (setup.py) ... \u001b[?25l\u001b[?25hdone\n",
            "  Created wheel for docloud: filename=docloud-1.0.375-cp36-none-any.whl size=19481 sha256=47585283a927b07182abdf3cb202a143a91bd8e1184f6773466b5a360122a20f\n",
            "  Stored in directory: /root/.cache/pip/wheels/4e/24/19/9b0e57545d7543ecec35c5faff78c058bf0c2506369c8b1d31\n",
            "  Building wheel for inflection (setup.py) ... \u001b[?25l\u001b[?25hdone\n",
            "  Created wheel for inflection: filename=inflection-0.3.1-cp36-none-any.whl size=6077 sha256=1f2ac5c65c48e37395c581162272bcc62cfa4b69370104d102b5da05a1b06f3c\n",
            "  Stored in directory: /root/.cache/pip/wheels/9f/5a/d3/6fc3bf6516d2a3eb7e18f9f28b472110b59325f3f258fe9211\n",
            "Successfully built qiskit-aqua dlx docplex docloud inflection\n",
            "Installing collected packages: sympy, ply, marshmallow, marshmallow-polyfield, qiskit-terra, qiskit-ignis, dlx, docloud, docplex, inflection, quandl, pyscf, qiskit-aqua\n",
            "  Found existing installation: sympy 1.1.1\n",
            "    Uninstalling sympy-1.1.1:\n",
            "      Successfully uninstalled sympy-1.1.1\n",
            "Successfully installed dlx-1.0.4 docloud-1.0.375 docplex-2.12.182 inflection-0.3.1 marshmallow-3.5.0 marshmallow-polyfield-5.8 ply-3.11 pyscf-1.7.0 qiskit-aqua-0.7.0 qiskit-ignis-0.2.0 qiskit-terra-0.12.0 quandl-3.5.0 sympy-1.5.1\n"
          ],
          "name": "stdout"
        }
      ]
    },
    {
      "cell_type": "code",
      "metadata": {
        "id": "hXn0_C0OeoG4",
        "colab_type": "code",
        "colab": {
          "base_uri": "https://localhost:8080/",
          "height": 119
        },
        "outputId": "9a913390-7467-47ab-f69f-1375606d2010"
      },
      "source": [
        "!pip install qiskit-aer qiskit-ignis qiskit-terra qiskit-ibmq-provider -q"
      ],
      "execution_count": 2,
      "outputs": [
        {
          "output_type": "stream",
          "text": [
            "\u001b[K     |████████████████████████████████| 23.1MB 132kB/s \n",
            "\u001b[K     |████████████████████████████████| 143kB 58.9MB/s \n",
            "\u001b[K     |████████████████████████████████| 153kB 59.8MB/s \n",
            "\u001b[K     |████████████████████████████████| 71kB 12.0MB/s \n",
            "\u001b[K     |████████████████████████████████| 51kB 9.2MB/s \n",
            "\u001b[K     |████████████████████████████████| 2.3MB 73.5MB/s \n",
            "\u001b[?25h"
          ],
          "name": "stdout"
        }
      ]
    },
    {
      "cell_type": "code",
      "metadata": {
        "id": "a2fJiD-veSo5",
        "colab_type": "code",
        "colab": {}
      },
      "source": [
        "import numpy as np\n",
        "from qiskit import *\n",
        "from qiskit import Aer\n",
        "from qiskit.aqua.components.optimizers import *\n",
        "from qiskit.quantum_info import state_fidelity\n",
        "from qiskit.quantum_info.analysis import average_data,hellinger_fidelity\n",
        "from qiskit.providers.aer.noise import NoiseModel\n",
        "from qiskit.aqua.utils import get_subsystem_density_matrix\n",
        "from qiskit.tools.visualization import plot_histogram\n",
        "import matplotlib.pyplot as plt\n",
        "\n",
        "np.set_printoptions(precision=15)\n",
        "%matplotlib inline"
      ],
      "execution_count": 0,
      "outputs": []
    },
    {
      "cell_type": "code",
      "metadata": {
        "id": "UObz3A1GeSpC",
        "colab_type": "code",
        "colab": {
          "base_uri": "https://localhost:8080/",
          "height": 547
        },
        "outputId": "21fb8ed6-a001-49ff-f5e0-885769d0b9b4"
      },
      "source": [
        "plt.style.use(\"ggplot\")\n",
        "\n",
        "import qiskit.tools.jupyter\n",
        "%qiskit_version_table\n",
        "%qiskit_copyright\n"
      ],
      "execution_count": 65,
      "outputs": [
        {
          "output_type": "display_data",
          "data": {
            "text/html": [
              "<h3>Version Information</h3><table><tr><th>Qiskit Software</th><th>Version</th></tr><tr><td>Qiskit</td><td>None</td></tr><tr><td>Terra</td><td>0.12.0</td></tr><tr><td>Aer</td><td>0.4.0</td></tr><tr><td>Ignis</td><td>0.2.0</td></tr><tr><td>Aqua</td><td>0.7.0</td></tr><tr><td>IBM Q Provider</td><td>0.5.0</td></tr><tr><th>System information</th></tr><tr><td>Python</td><td>3.6.9 (default, Nov  7 2019, 10:44:02) \n",
              "[GCC 8.3.0]</td></tr><tr><td>OS</td><td>Linux</td></tr><tr><td>CPUs</td><td>1</td></tr><tr><td>Memory (Gb)</td><td>12.717426300048828</td></tr><tr><td colspan='2'>Sat Feb 29 02:04:20 2020 UTC</td></tr></table>"
            ],
            "text/plain": [
              "<IPython.core.display.HTML object>"
            ]
          },
          "metadata": {
            "tags": []
          }
        },
        {
          "output_type": "display_data",
          "data": {
            "text/html": [
              "<div style='width: 100%; background-color:#d5d9e0;padding-left: 10px; padding-bottom: 10px; padding-right: 10px; padding-top: 5px'><h3>This code is a part of Qiskit</h3><p>&copy; Copyright IBM 2017, 2020.</p><p>This code is licensed under the Apache License, Version 2.0. You may<br>obtain a copy of this license in the LICENSE.txt file in the root directory<br> of this source tree or at http://www.apache.org/licenses/LICENSE-2.0.<p>Any modifications or derivative works of this code must retain this<br>copyright notice, and modified files need to carry a notice indicating<br>that they have been altered from the originals.</p></div>"
            ],
            "text/plain": [
              "<IPython.core.display.HTML object>"
            ]
          },
          "metadata": {
            "tags": []
          }
        }
      ]
    },
    {
      "cell_type": "markdown",
      "metadata": {
        "id": "T_y50y24mtEU",
        "colab_type": "text"
      },
      "source": [
        "### Quantum Device selection\n",
        "I've chosen IBM Vigo quantum computer to be the main backend. To run the following cell please get your tokken from IBMQ dashboard."
      ]
    },
    {
      "cell_type": "code",
      "metadata": {
        "id": "UeKQbqAxeSpK",
        "colab_type": "code",
        "colab": {
          "base_uri": "https://localhost:8080/",
          "height": 122
        },
        "outputId": "4302ef77-c701-46a3-967f-6bbd63fe1139"
      },
      "source": [
        "IBMQ.save_account('', overwrite=True)\n",
        "provider = IBMQ.load_account()\n",
        "#provider.backends()\n",
        "device_backend = provider.get_backend('ibmq_vigo')\n",
        "noise_model = NoiseModel.from_backend(device_backend)\n",
        "coupling_map = device_backend.configuration().coupling_map\n",
        "basis_gates = noise_model.basis_gates\n",
        "print(noise_model)\n",
        "# Select the QasmSimulator from the Aer provider\n",
        "simulator = Aer.get_backend('qasm_simulator')"
      ],
      "execution_count": 5,
      "outputs": [
        {
          "output_type": "stream",
          "text": [
            "NoiseModel:\n",
            "  Basis gates: ['cx', 'id', 'u2', 'u3']\n",
            "  Instructions with noise: ['id', 'u2', 'cx', 'u3', 'measure']\n",
            "  Qubits with noise: [0, 1, 2, 3, 4]\n",
            "  Specific qubit errors: [('id', [0]), ('id', [1]), ('id', [2]), ('id', [3]), ('id', [4]), ('u2', [0]), ('u2', [1]), ('u2', [2]), ('u2', [3]), ('u2', [4]), ('u3', [0]), ('u3', [1]), ('u3', [2]), ('u3', [3]), ('u3', [4]), ('cx', [0, 1]), ('cx', [1, 0]), ('cx', [1, 2]), ('cx', [1, 3]), ('cx', [2, 1]), ('cx', [3, 1]), ('cx', [3, 4]), ('cx', [4, 3]), ('measure', [0]), ('measure', [1]), ('measure', [2]), ('measure', [3]), ('measure', [4])]\n"
          ],
          "name": "stdout"
        }
      ]
    },
    {
      "cell_type": "markdown",
      "metadata": {
        "id": "8gY842rOnJ4x",
        "colab_type": "text"
      },
      "source": [
        "### Circuit Preparation\n",
        "\n",
        "As I've shown in the [Pennylane notebook](https://github.com/kareem1925/Ismailia-school-of-AI/blob/master/machine%20learning%20for%20classifying%20quantum%20states/pennylane-quantum-state-learning.ipynb), I've initalized the same circuit in Qiskit. I only included a noisy backend with its properties and a snapshot to get the statevector. This means that the number of shots won't affect the the statevector unlike the counts measurements which are affected by it. We use one the utils in qiskit to get the density matrix of the first and second qubits only."
      ]
    },
    {
      "cell_type": "code",
      "metadata": {
        "id": "Z5gJ17eaeSpQ",
        "colab_type": "code",
        "colab": {}
      },
      "source": [
        "shots = 1000\n",
        "def circuit(params):\n",
        "    \n",
        "    q = QuantumRegister(2)\n",
        "    c = ClassicalRegister(2)\n",
        "    qc = QuantumCircuit(q,c)\n",
        "    #qc.h(q[0])\n",
        "    \n",
        "    qc.ry(params[0],q[0])\n",
        "#    qc.rx(params[1],q[0])\n",
        "    \n",
        "    qc.cx(q[0],q[1])\n",
        "    qc.snapshot('0')\n",
        "    qc.measure(q[0],c[0])\n",
        "    qc.measure(q[1],c[1])\n",
        "    job = execute(qc, simulator, \n",
        "                       noise_model=noise_model,\n",
        "                       coupling_map=coupling_map,\n",
        "                       basis_gates=basis_gates,shots=shots,backend_options={\"max_parallel_threads\":10}).result()\n",
        "    \n",
        "    statevector = np.array(job.data()['snapshots']['statevector']['0'][0])\n",
        "    statevector = get_subsystem_density_matrix(statevector,[2,3,4])\n",
        "    counts = job.get_counts()\n",
        "    return counts, statevector\n"
      ],
      "execution_count": 0,
      "outputs": []
    },
    {
      "cell_type": "markdown",
      "metadata": {
        "id": "RAwn-yXNocZ8",
        "colab_type": "text"
      },
      "source": [
        "### Define cost function\n",
        "we can use the cost function through $3$ ways:\n",
        "\n",
        "\n",
        "1.   Fiddelity measurement.\n",
        "2.   Count measurement difference.\n",
        "3.   average_data function which mimics the Hermitian measurement in Pennylane.\n",
        "\n"
      ]
    },
    {
      "cell_type": "code",
      "metadata": {
        "id": "7sqxa0WveSpX",
        "colab_type": "code",
        "colab": {}
      },
      "source": [
        "# for count difference in the cost function\n",
        "labels = np.array([0.5,0,0,0.5])\n",
        "\n",
        "labels_vector = np.array([1/np.sqrt(2),0,0,1/np.sqrt(2)])\n",
        "\n",
        "\n",
        "metric = 'vectorstate'\n",
        "def cost(var):\n",
        "    \n",
        "    st_vec = circuit(var)\n",
        "    if metric == 'vectorstate':\n",
        "      return abs(1 - state_fidelity(st_vec[1],labels_vector))\n",
        "    \n",
        "    else:\n",
        "      co = np.zeros(4)\n",
        "        \n",
        "      if '00' in st_vec[0].keys():\n",
        "        co[0] = st_vec[0]['00']\n",
        "      if '11' in st_vec[0].keys():\n",
        "        co[3] = st_vec[0]['11']\n",
        "      if '10' in st_vec[0].keys():\n",
        "        co[2] = st_vec[0]['10']\n",
        "      if '01' in st_vec[0].keys():\n",
        "        co[1] = st_vec[0]['01']\n",
        "\n",
        "      return (abs(labels - co/shots)).mean()"
      ],
      "execution_count": 0,
      "outputs": []
    },
    {
      "cell_type": "code",
      "metadata": {
        "id": "ytUpfi5seSpg",
        "colab_type": "code",
        "colab": {
          "base_uri": "https://localhost:8080/",
          "height": 51
        },
        "outputId": "405c7b57-3fae-4f39-d645-7733efa4e0a3"
      },
      "source": [
        "# weight initialization\n",
        "np.random.seed(6)\n",
        "init_params = np.random.rand(1)\n",
        "#init_params = [1.57079633]\n",
        "print(init_params)\n",
        "print(cost(init_params))"
      ],
      "execution_count": 96,
      "outputs": [
        {
          "output_type": "stream",
          "text": [
            "[0.892860151436002]\n",
            "0.11056560980919783\n"
          ],
          "name": "stdout"
        }
      ]
    },
    {
      "cell_type": "markdown",
      "metadata": {
        "id": "SN35ciT5pnDn",
        "colab_type": "text"
      },
      "source": [
        "### Training\n",
        "the data parameter is a list which contains:\n",
        "\n",
        "\n",
        "1.   The final best weights.\n",
        "2.   The value of the cost function.\n",
        "3.   The number of last iteration.\n",
        "4.   The history of the cost funciton to be plotted. \"*I added this in the main code*\"\n"
      ]
    },
    {
      "cell_type": "code",
      "metadata": {
        "id": "djLW6LwbeSpo",
        "colab_type": "code",
        "colab": {}
      },
      "source": [
        "opt = AQGD(disp=True,maxiter=1000,tol=1e-17,momentum=0,eta=0.2)\n",
        "data = opt.optimize(objective_function=cost,num_vars=1,initial_point=init_params)"
      ],
      "execution_count": 0,
      "outputs": []
    },
    {
      "cell_type": "code",
      "metadata": {
        "id": "tmYfKkKBlFBI",
        "colab_type": "code",
        "colab": {
          "base_uri": "https://localhost:8080/",
          "height": 34
        },
        "outputId": "fd2772bd-56b8-4c68-c089-3c8102f64998"
      },
      "source": [
        "data[:3]"
      ],
      "execution_count": 120,
      "outputs": [
        {
          "output_type": "execute_result",
          "data": {
            "text/plain": [
              "(array([1.570796309123547]), 1.1102230246251565e-16, 564)"
            ]
          },
          "metadata": {
            "tags": []
          },
          "execution_count": 120
        }
      ]
    },
    {
      "cell_type": "code",
      "metadata": {
        "id": "zFTW1YHMrm4Y",
        "colab_type": "code",
        "colab": {
          "base_uri": "https://localhost:8080/",
          "height": 282
        },
        "outputId": "39d40573-0289-4237-e328-5cc2e8f9edab"
      },
      "source": [
        "plt.plot(data[3],\"*\", label=\"loss\")\n",
        "plt.legend()"
      ],
      "execution_count": 121,
      "outputs": [
        {
          "output_type": "execute_result",
          "data": {
            "text/plain": [
              "<matplotlib.legend.Legend at 0x7fe4090b2630>"
            ]
          },
          "metadata": {
            "tags": []
          },
          "execution_count": 121
        },
        {
          "output_type": "display_data",
          "data": {
            "image/png": "[encoded data removed]",
            "text/plain": [
              "<Figure size 432x288 with 1 Axes>"
            ]
          },
          "metadata": {
            "tags": []
          }
        }
      ]
    },
    {
      "cell_type": "code",
      "metadata": {
        "id": "LRVCQlchv5VL",
        "colab_type": "code",
        "colab": {
          "base_uri": "https://localhost:8080/",
          "height": 348
        },
        "outputId": "ad1c261a-3f5e-4e5d-9527-6ac75fc38cf9"
      },
      "source": [
        "counts,density_matrix = circuit(data[0])\n",
        "print('counts', counts)\n",
        "plot_histogram(counts)"
      ],
      "execution_count": 122,
      "outputs": [
        {
          "output_type": "stream",
          "text": [
            "counts {'11': 488, '10': 17, '00': 469, '01': 26}\n"
          ],
          "name": "stdout"
        },
        {
          "output_type": "execute_result",
          "data": {
            "image/png": "[encoded data removed]",
            "text/plain": [
              "<Figure size 504x360 with 1 Axes>"
            ]
          },
          "metadata": {
            "tags": []
          },
          "execution_count": 122
        }
      ]
    },
    {
      "cell_type": "code",
      "metadata": {
        "id": "40-Xby6jwUD9",
        "colab_type": "code",
        "colab": {
          "base_uri": "https://localhost:8080/",
          "height": 34
        },
        "outputId": "0e0bac00-4c31-4796-96d0-f945854d72f7"
      },
      "source": [
        "print(\"state fidelity: \", state_fidelity(density_matrix,labels_vector))"
      ],
      "execution_count": 123,
      "outputs": [
        {
          "output_type": "stream",
          "text": [
            "state fidelity:  0.9999999999999998\n"
          ],
          "name": "stdout"
        }
      ]
    },
    {
      "cell_type": "markdown",
      "metadata": {
        "id": "N_qXVpYtltWt",
        "colab_type": "text"
      },
      "source": [
        "### Quantum Gradients\n",
        "\n",
        "We can also compute the gradients ourselves and implement any gradient optimization technique.\n",
        "[Quantum gradients](https://arxiv.org/abs/1811.11184) can be computed by the following equation:\n",
        "\n",
        "\\begin{align}\n",
        "  \\frac{df}{d\\theta }\\,=\\,\\frac{1}{2}\\,\\left( f\\left( \\theta +\\frac{\\pi }{2} \\right)-f\\left( \\theta -\\frac{\\pi }{2} \\right) \\right)\\\\ \\\\\n",
        "\\end{align}\n",
        "\n",
        "where $\\theta$ is the weights and $f$ is quantum unitary gate."
      ]
    },
    {
      "cell_type": "code",
      "metadata": {
        "id": "kCDfCs2thoaM",
        "colab_type": "code",
        "colab": {}
      },
      "source": [
        "def gradient(params):\n",
        "    g = np.zeros(len(params))\n",
        "\n",
        "    for id,i in enumerate(params):\n",
        "      \n",
        "      f1 = cost([i+(np.pi/2)])\n",
        "      f2 = cost([i-(np.pi/2)])\n",
        "      g[id] = (f1-f2)/2\n",
        "\n",
        "    return g"
      ],
      "execution_count": 0,
      "outputs": []
    },
    {
      "cell_type": "code",
      "metadata": {
        "id": "ClsLubOdjSu6",
        "colab_type": "code",
        "colab": {}
      },
      "source": [
        "def optimize(params,lr):\n",
        "    \"\"\"\n",
        "\n",
        "    this fucntion controls SGD by computing the gradients and updating the weights\n",
        "\n",
        "    \"\"\"\n",
        "    g = gradient(params)\n",
        "    \n",
        "    new_weights = params - (lr*g)\n",
        "    \n",
        "    return new_weights"
      ],
      "execution_count": 0,
      "outputs": []
    },
    {
      "cell_type": "code",
      "metadata": {
        "id": "729jPJi5lbCk",
        "colab_type": "code",
        "colab": {}
      },
      "source": [
        "\n",
        "epochs = 1000\n",
        "params = init_params\n",
        "loss = np.inf\n",
        "hist = []\n",
        "\n",
        "for it in range(epochs):\n",
        "  params = optimize(params,lr=0.2)\n",
        "  temp = cost(params)\n",
        "  if temp < loss:\n",
        "    best = params\n",
        "    loss = temp\n",
        "  hist.append(temp)\n",
        "  print(temp)"
      ],
      "execution_count": 0,
      "outputs": []
    },
    {
      "cell_type": "code",
      "metadata": {
        "id": "EmXMfoaGnqT8",
        "colab_type": "code",
        "colab": {
          "base_uri": "https://localhost:8080/",
          "height": 314
        },
        "outputId": "4a9f6325-0e2b-4b96-a5b1-189817ca5c17"
      },
      "source": [
        "plt.plot(hist,\"*\", label=\"loss\")\n",
        "plt.tight_layout()\n",
        "plt.legend()"
      ],
      "execution_count": 108,
      "outputs": [
        {
          "output_type": "execute_result",
          "data": {
            "text/plain": [
              "<matplotlib.legend.Legend at 0x7fe408f98ef0>"
            ]
          },
          "metadata": {
            "tags": []
          },
          "execution_count": 108
        },
        {
          "output_type": "display_data",
          "data": {
            "image/png": "[encoded data removed]",
            "text/plain": [
              "<Figure size 432x288 with 1 Axes>"
            ]
          },
          "metadata": {
            "tags": []
          }
        }
      ]
    },
    {
      "cell_type": "code",
      "metadata": {
        "id": "drsc-MEEvbZv",
        "colab_type": "code",
        "colab": {
          "base_uri": "https://localhost:8080/",
          "height": 354
        },
        "outputId": "f15cd449-fd66-42ae-9379-e2cf29e88614"
      },
      "source": [
        "counts,density_matrix = circuit(best)\n",
        "print('counts', counts)\n",
        "plot_histogram(counts)"
      ],
      "execution_count": 117,
      "outputs": [
        {
          "output_type": "stream",
          "text": [
            "counts {'11': 465, '10': 15, '00': 500, '01': 20}\n"
          ],
          "name": "stdout"
        },
        {
          "output_type": "execute_result",
          "data": {
            "image/png": "[encoded data removed]",
            "text/plain": [
              "<Figure size 504x360 with 1 Axes>"
            ]
          },
          "metadata": {
            "tags": []
          },
          "execution_count": 117
        }
      ]
    },
    {
      "cell_type": "code",
      "metadata": {
        "id": "CYTvHjTxvlJ_",
        "colab_type": "code",
        "colab": {
          "base_uri": "https://localhost:8080/",
          "height": 34
        },
        "outputId": "cf2f972d-3956-4551-f8f7-7a25207342f8"
      },
      "source": [
        "print(\"state fidelity: \", state_fidelity(density_matrix,labels_vector))"
      ],
      "execution_count": 118,
      "outputs": [
        {
          "output_type": "stream",
          "text": [
            "state fidelity:  1.0\n"
          ],
          "name": "stdout"
        }
      ]
    },
    {
      "cell_type": "code",
      "metadata": {
        "id": "pqGe9uZhwse5",
        "colab_type": "code",
        "colab": {}
      },
      "source": [
        ""
      ],
      "execution_count": 0,
      "outputs": []
    }
  ]
}