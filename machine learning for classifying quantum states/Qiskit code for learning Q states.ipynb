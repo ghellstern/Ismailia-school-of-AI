{
  "nbformat": 4,
  "nbformat_minor": 0,
  "metadata": {
    "kernelspec": {
      "name": "python3",
      "display_name": "Python 3"
    },
    "language_info": {
      "codemirror_mode": {
        "name": "ipython",
        "version": 3
      },
      "file_extension": ".py",
      "mimetype": "text/x-python",
      "name": "python",
      "nbconvert_exporter": "python",
      "pygments_lexer": "ipython3",
      "version": "3.6.9"
    },
    "colab": {
      "name": "Qiskit code for learning Q states.ipynb",
      "provenance": [],
      "include_colab_link": true
    },
    "accelerator": "GPU"
  },
  "cells": [
    {
      "cell_type": "markdown",
      "metadata": {
        "id": "view-in-github",
        "colab_type": "text"
      },
      "source": [
        "<a href=\"https://colab.research.google.com/github/kareem1925/Ismailia-school-of-AI/blob/master/machine%20learning%20for%20classifying%20quantum%20states/Qiskit%20code%20for%20learning%20Q%20states.ipynb\" target=\"_parent\"><img src=\"https://colab.research.google.com/assets/colab-badge.svg\" alt=\"Open In Colab\"/></a>"
      ]
    },
    {
      "cell_type": "markdown",
      "metadata": {
        "id": "xMIjYJBVl6qg",
        "colab_type": "text"
      },
      "source": [
        "### Notebook configration\n",
        "\n",
        "**Important**\n",
        "Due to an error in the while loop of the AQGD optimizer in Qiskit-Aqua version 0.6.4, I have a separate repo for solving it and also I have updated the returned values to include the history of the loss function so that we can plot it.\n",
        "The following two cells must be run sequentially."
      ]
    },
    {
      "cell_type": "code",
      "metadata": {
        "id": "Mi6OdTK5eT9D",
        "colab_type": "code",
        "colab": {
          "base_uri": "https://localhost:8080/",
          "height": 1000
        },
        "outputId": "7ad7bde3-d4cd-41de-d7ce-99dcfe23f16e"
      },
      "source": [
        "!pip install git+https://github.com/kareem1925/qiskit-aqua.git@kareem1925-mentor "
      ],
      "execution_count": 1,
      "outputs": [
        {
          "output_type": "stream",
          "text": [
            "Collecting git+https://github.com/kareem1925/qiskit-aqua.git@kareem1925-mentor\n",
            "  Cloning https://github.com/kareem1925/qiskit-aqua.git (to revision kareem1925-mentor) to /tmp/pip-req-build-vmp3xf8c\n",
            "  Running command git clone -q https://github.com/kareem1925/qiskit-aqua.git /tmp/pip-req-build-vmp3xf8c\n",
            "  Running command git checkout -b kareem1925-mentor --track origin/kareem1925-mentor\n",
            "  Switched to a new branch 'kareem1925-mentor'\n",
            "  Branch 'kareem1925-mentor' set up to track remote branch 'kareem1925-mentor' from 'origin'.\n",
            "Collecting qiskit-terra>=0.11.0\n",
            "\u001b[?25l  Downloading https://files.pythonhosted.org/packages/30/6e/3aada46aa05013279b918002a6123d9cf5d4014d65cef90f7f5306969ccc/qiskit_terra-0.12.0-cp36-cp36m-manylinux2010_x86_64.whl (2.9MB)\n",
            "\u001b[K     |████████████████████████████████| 2.9MB 2.8MB/s \n",
            "\u001b[?25hCollecting qiskit-ignis>=0.2.0\n",
            "\u001b[?25l  Downloading https://files.pythonhosted.org/packages/78/f2/f4f89c65d2c13f473092f7e800519836611ddeeaab8d4591a70555b26a37/qiskit_ignis-0.2.0-py3-none-any.whl (100kB)\n",
            "\u001b[K     |████████████████████████████████| 102kB 12.4MB/s \n",
            "\u001b[?25hRequirement already satisfied: scipy>=1.0 in /usr/local/lib/python3.6/dist-packages (from qiskit-aqua==0.7.0) (1.4.1)\n",
            "Collecting sympy>=1.3\n",
            "\u001b[?25l  Downloading https://files.pythonhosted.org/packages/ce/5b/acc12e3c0d0be685601fc2b2d20ed18dc0bf461380e763afc9d0a548deb0/sympy-1.5.1-py2.py3-none-any.whl (5.6MB)\n",
            "\u001b[K     |████████████████████████████████| 5.6MB 21.2MB/s \n",
            "\u001b[?25hRequirement already satisfied: numpy>=1.13 in /usr/local/lib/python3.6/dist-packages (from qiskit-aqua==0.7.0) (1.17.5)\n",
            "Requirement already satisfied: psutil>=5 in /usr/local/lib/python3.6/dist-packages (from qiskit-aqua==0.7.0) (5.4.8)\n",
            "Requirement already satisfied: scikit-learn>=0.20.0 in /usr/local/lib/python3.6/dist-packages (from qiskit-aqua==0.7.0) (0.22.1)\n",
            "Collecting dlx\n",
            "  Downloading https://files.pythonhosted.org/packages/54/c0/b8fb5bb727e983b6f5251433ef941b48f38c65bb0bd6ec509e9185bcd406/dlx-1.0.4.tar.gz\n",
            "Collecting docplex\n",
            "\u001b[?25l  Downloading https://files.pythonhosted.org/packages/1c/06/de7833f2e70d51286611a2676f130f0978d2c16f65047cb965d0af579d08/docplex-2.12.182.tar.gz (565kB)\n",
            "\u001b[K     |████████████████████████████████| 573kB 39.3MB/s \n",
            "\u001b[?25hRequirement already satisfied: fastdtw in /usr/local/lib/python3.6/dist-packages (from qiskit-aqua==0.7.0) (0.3.4)\n",
            "Collecting quandl\n",
            "  Downloading https://files.pythonhosted.org/packages/07/ab/8cd479fba8a9b197a43a0d55dd534b066fb8e5a0a04b5c0384cbc5d663aa/Quandl-3.5.0-py2.py3-none-any.whl\n",
            "Requirement already satisfied: setuptools>=40.1.0 in /usr/local/lib/python3.6/dist-packages (from qiskit-aqua==0.7.0) (45.1.0)\n",
            "Requirement already satisfied: h5py in /usr/local/lib/python3.6/dist-packages (from qiskit-aqua==0.7.0) (2.8.0)\n",
            "Requirement already satisfied: networkx>=2.2 in /usr/local/lib/python3.6/dist-packages (from qiskit-aqua==0.7.0) (2.4)\n",
            "Requirement already satisfied: cvxopt in /usr/local/lib/python3.6/dist-packages (from qiskit-aqua==0.7.0) (1.2.4)\n",
            "Collecting pyscf\n",
            "\u001b[?25l  Downloading https://files.pythonhosted.org/packages/22/37/c9ed47f2b3f92a4f6955ab5454bf364cee6c05edb40e35b31b21b56d39f4/pyscf-1.7.0-cp36-cp36m-manylinux1_x86_64.whl (24.3MB)\n",
            "\u001b[K     |████████████████████████████████| 24.3MB 28.9MB/s \n",
            "\u001b[?25hRequirement already satisfied: dill>=0.3 in /usr/local/lib/python3.6/dist-packages (from qiskit-terra>=0.11.0->qiskit-aqua==0.7.0) (0.3.1.1)\n",
            "Requirement already satisfied: jsonschema>=2.6 in /usr/local/lib/python3.6/dist-packages (from qiskit-terra>=0.11.0->qiskit-aqua==0.7.0) (2.6.0)\n",
            "Collecting ply>=3.10\n",
            "\u001b[?25l  Downloading https://files.pythonhosted.org/packages/a3/58/35da89ee790598a0700ea49b2a66594140f44dec458c07e8e3d4979137fc/ply-3.11-py2.py3-none-any.whl (49kB)\n",
            "\u001b[K     |████████████████████████████████| 51kB 8.7MB/s \n",
            "\u001b[?25hCollecting marshmallow-polyfield<6,>=5.7\n",
            "  Downloading https://files.pythonhosted.org/packages/b5/9a/8c303051f9d0f844c06b8d607f7578a2ac9aec2ffe02947fea5d5ba589d8/marshmallow_polyfield-5.8-py3-none-any.whl\n",
            "Collecting marshmallow<4,>=3\n",
            "\u001b[?25l  Downloading https://files.pythonhosted.org/packages/54/b5/d10256349371486f195edce0bb5cf53aeb757e887a251cf98286eda8b4ec/marshmallow-3.5.0-py2.py3-none-any.whl (45kB)\n",
            "\u001b[K     |████████████████████████████████| 51kB 10.1MB/s \n",
            "\u001b[?25hRequirement already satisfied: mpmath>=0.19 in /usr/local/lib/python3.6/dist-packages (from sympy>=1.3->qiskit-aqua==0.7.0) (1.1.0)\n",
            "Requirement already satisfied: joblib>=0.11 in /usr/local/lib/python3.6/dist-packages (from scikit-learn>=0.20.0->qiskit-aqua==0.7.0) (0.14.1)\n",
            "Requirement already satisfied: requests in /usr/local/lib/python3.6/dist-packages (from docplex->qiskit-aqua==0.7.0) (2.21.0)\n",
            "Requirement already satisfied: six in /usr/local/lib/python3.6/dist-packages (from docplex->qiskit-aqua==0.7.0) (1.12.0)\n",
            "Collecting docloud>=1.0.375\n",
            "  Downloading https://files.pythonhosted.org/packages/89/1c/fcb7ea86ae5cb7137a22f00bcaa785de2d102bd4a2b16383ec4a877a835b/docloud-1.0.375.tar.gz\n",
            "Requirement already satisfied: python-dateutil in /usr/local/lib/python3.6/dist-packages (from quandl->qiskit-aqua==0.7.0) (2.6.1)\n",
            "Requirement already satisfied: pandas>=0.14 in /usr/local/lib/python3.6/dist-packages (from quandl->qiskit-aqua==0.7.0) (0.25.3)\n",
            "Requirement already satisfied: more-itertools in /usr/local/lib/python3.6/dist-packages (from quandl->qiskit-aqua==0.7.0) (8.2.0)\n",
            "Collecting inflection>=0.3.1\n",
            "  Downloading https://files.pythonhosted.org/packages/d5/35/a6eb45b4e2356fe688b21570864d4aa0d0a880ce387defe9c589112077f8/inflection-0.3.1.tar.gz\n",
            "Requirement already satisfied: decorator>=4.3.0 in /usr/local/lib/python3.6/dist-packages (from networkx>=2.2->qiskit-aqua==0.7.0) (4.4.1)\n",
            "Requirement already satisfied: urllib3<1.25,>=1.21.1 in /usr/local/lib/python3.6/dist-packages (from requests->docplex->qiskit-aqua==0.7.0) (1.24.3)\n",
            "Requirement already satisfied: idna<2.9,>=2.5 in /usr/local/lib/python3.6/dist-packages (from requests->docplex->qiskit-aqua==0.7.0) (2.8)\n",
            "Requirement already satisfied: chardet<3.1.0,>=3.0.2 in /usr/local/lib/python3.6/dist-packages (from requests->docplex->qiskit-aqua==0.7.0) (3.0.4)\n",
            "Requirement already satisfied: certifi>=2017.4.17 in /usr/local/lib/python3.6/dist-packages (from requests->docplex->qiskit-aqua==0.7.0) (2019.11.28)\n",
            "Requirement already satisfied: pytz>=2017.2 in /usr/local/lib/python3.6/dist-packages (from pandas>=0.14->quandl->qiskit-aqua==0.7.0) (2018.9)\n",
            "Building wheels for collected packages: qiskit-aqua, dlx, docplex, docloud, inflection\n",
            "  Building wheel for qiskit-aqua (setup.py) ... \u001b[?25l\u001b[?25hdone\n",
            "  Created wheel for qiskit-aqua: filename=qiskit_aqua-0.7.0-cp36-none-any.whl size=1740668 sha256=c0819967289d72b641d9c532b1f0cf57bb3b4b658d2281ffc53ed9a626ec6b32\n",
            "  Stored in directory: /tmp/pip-ephem-wheel-cache-i66m_6uo/wheels/2f/b7/f1/c656b56b5969883339b3d045afd5cc6c163d6a71ce8ab17d41\n",
            "  Building wheel for dlx (setup.py) ... \u001b[?25l\u001b[?25hdone\n",
            "  Created wheel for dlx: filename=dlx-1.0.4-cp36-none-any.whl size=5712 sha256=0bcb67e79c77aa3a3bcbd9ae582689284a8f1a6bab8f9b3d6ecb88750b8ad7e0\n",
            "  Stored in directory: /root/.cache/pip/wheels/bb/ba/15/fdd0deb104df3254912998150ba9245668db06b00af5912d1a\n",
            "  Building wheel for docplex (setup.py) ... \u001b[?25l\u001b[?25hdone\n",
            "  Created wheel for docplex: filename=docplex-2.12.182-cp36-none-any.whl size=627978 sha256=f87dc56e25bb4f3c7684d5bb1aba4ca219a4786ab3f250e7e08f442fdb690d62\n",
            "  Stored in directory: /root/.cache/pip/wheels/9b/ef/71/204f676be3eae44c121c5b779077bd06f573d86cc6524aecc8\n",
            "  Building wheel for docloud (setup.py) ... \u001b[?25l\u001b[?25hdone\n",
            "  Created wheel for docloud: filename=docloud-1.0.375-cp36-none-any.whl size=19481 sha256=47585283a927b07182abdf3cb202a143a91bd8e1184f6773466b5a360122a20f\n",
            "  Stored in directory: /root/.cache/pip/wheels/4e/24/19/9b0e57545d7543ecec35c5faff78c058bf0c2506369c8b1d31\n",
            "  Building wheel for inflection (setup.py) ... \u001b[?25l\u001b[?25hdone\n",
            "  Created wheel for inflection: filename=inflection-0.3.1-cp36-none-any.whl size=6077 sha256=1f2ac5c65c48e37395c581162272bcc62cfa4b69370104d102b5da05a1b06f3c\n",
            "  Stored in directory: /root/.cache/pip/wheels/9f/5a/d3/6fc3bf6516d2a3eb7e18f9f28b472110b59325f3f258fe9211\n",
            "Successfully built qiskit-aqua dlx docplex docloud inflection\n",
            "Installing collected packages: sympy, ply, marshmallow, marshmallow-polyfield, qiskit-terra, qiskit-ignis, dlx, docloud, docplex, inflection, quandl, pyscf, qiskit-aqua\n",
            "  Found existing installation: sympy 1.1.1\n",
            "    Uninstalling sympy-1.1.1:\n",
            "      Successfully uninstalled sympy-1.1.1\n",
            "Successfully installed dlx-1.0.4 docloud-1.0.375 docplex-2.12.182 inflection-0.3.1 marshmallow-3.5.0 marshmallow-polyfield-5.8 ply-3.11 pyscf-1.7.0 qiskit-aqua-0.7.0 qiskit-ignis-0.2.0 qiskit-terra-0.12.0 quandl-3.5.0 sympy-1.5.1\n"
          ],
          "name": "stdout"
        }
      ]
    },
    {
      "cell_type": "code",
      "metadata": {
        "id": "hXn0_C0OeoG4",
        "colab_type": "code",
        "colab": {
          "base_uri": "https://localhost:8080/",
          "height": 119
        },
        "outputId": "9a913390-7467-47ab-f69f-1375606d2010"
      },
      "source": [
        "!pip install qiskit-aer qiskit-ignis qiskit-terra qiskit-ibmq-provider -q"
      ],
      "execution_count": 2,
      "outputs": [
        {
          "output_type": "stream",
          "text": [
            "\u001b[K     |████████████████████████████████| 23.1MB 132kB/s \n",
            "\u001b[K     |████████████████████████████████| 143kB 58.9MB/s \n",
            "\u001b[K     |████████████████████████████████| 153kB 59.8MB/s \n",
            "\u001b[K     |████████████████████████████████| 71kB 12.0MB/s \n",
            "\u001b[K     |████████████████████████████████| 51kB 9.2MB/s \n",
            "\u001b[K     |████████████████████████████████| 2.3MB 73.5MB/s \n",
            "\u001b[?25h"
          ],
          "name": "stdout"
        }
      ]
    },
    {
      "cell_type": "code",
      "metadata": {
        "id": "a2fJiD-veSo5",
        "colab_type": "code",
        "colab": {}
      },
      "source": [
        "import numpy as np\n",
        "from qiskit import *\n",
        "from qiskit import Aer\n",
        "from qiskit.aqua.components.optimizers import *\n",
        "from qiskit.quantum_info import state_fidelity\n",
        "from qiskit.quantum_info.analysis import average_data,hellinger_fidelity\n",
        "from qiskit.providers.aer.noise import NoiseModel\n",
        "from qiskit.aqua.utils import get_subsystem_density_matrix\n",
        "from qiskit.tools.visualization import plot_histogram\n",
        "import matplotlib.pyplot as plt\n",
        "\n",
        "np.set_printoptions(precision=15)\n",
        "%matplotlib inline"
      ],
      "execution_count": 0,
      "outputs": []
    },
    {
      "cell_type": "code",
      "metadata": {
        "id": "UObz3A1GeSpC",
        "colab_type": "code",
        "colab": {
          "base_uri": "https://localhost:8080/",
          "height": 547
        },
        "outputId": "21fb8ed6-a001-49ff-f5e0-885769d0b9b4"
      },
      "source": [
        "plt.style.use(\"ggplot\")\n",
        "\n",
        "import qiskit.tools.jupyter\n",
        "%qiskit_version_table\n",
        "%qiskit_copyright\n"
      ],
      "execution_count": 65,
      "outputs": [
        {
          "output_type": "display_data",
          "data": {
            "text/html": [
              "<h3>Version Information</h3><table><tr><th>Qiskit Software</th><th>Version</th></tr><tr><td>Qiskit</td><td>None</td></tr><tr><td>Terra</td><td>0.12.0</td></tr><tr><td>Aer</td><td>0.4.0</td></tr><tr><td>Ignis</td><td>0.2.0</td></tr><tr><td>Aqua</td><td>0.7.0</td></tr><tr><td>IBM Q Provider</td><td>0.5.0</td></tr><tr><th>System information</th></tr><tr><td>Python</td><td>3.6.9 (default, Nov  7 2019, 10:44:02) \n",
              "[GCC 8.3.0]</td></tr><tr><td>OS</td><td>Linux</td></tr><tr><td>CPUs</td><td>1</td></tr><tr><td>Memory (Gb)</td><td>12.717426300048828</td></tr><tr><td colspan='2'>Sat Feb 29 02:04:20 2020 UTC</td></tr></table>"
            ],
            "text/plain": [
              "<IPython.core.display.HTML object>"
            ]
          },
          "metadata": {
            "tags": []
          }
        },
        {
          "output_type": "display_data",
          "data": {
            "text/html": [
              "<div style='width: 100%; background-color:#d5d9e0;padding-left: 10px; padding-bottom: 10px; padding-right: 10px; padding-top: 5px'><h3>This code is a part of Qiskit</h3><p>&copy; Copyright IBM 2017, 2020.</p><p>This code is licensed under the Apache License, Version 2.0. You may<br>obtain a copy of this license in the LICENSE.txt file in the root directory<br> of this source tree or at http://www.apache.org/licenses/LICENSE-2.0.<p>Any modifications or derivative works of this code must retain this<br>copyright notice, and modified files need to carry a notice indicating<br>that they have been altered from the originals.</p></div>"
            ],
            "text/plain": [
              "<IPython.core.display.HTML object>"
            ]
          },
          "metadata": {
            "tags": []
          }
        }
      ]
    },
    {
      "cell_type": "markdown",
      "metadata": {
        "id": "T_y50y24mtEU",
        "colab_type": "text"
      },
      "source": [
        "### Quantum Device selection\n",
        "I've chosen IBM Vigo quantum computer to be the main backend. To run the following cell please get your tokken from IBMQ dashboard."
      ]
    },
    {
      "cell_type": "code",
      "metadata": {
        "id": "UeKQbqAxeSpK",
        "colab_type": "code",
        "colab": {
          "base_uri": "https://localhost:8080/",
          "height": 122
        },
        "outputId": "4302ef77-c701-46a3-967f-6bbd63fe1139"
      },
      "source": [
        "IBMQ.save_account('', overwrite=True)\n",
        "provider = IBMQ.load_account()\n",
        "#provider.backends()\n",
        "device_backend = provider.get_backend('ibmq_vigo')\n",
        "noise_model = NoiseModel.from_backend(device_backend)\n",
        "coupling_map = device_backend.configuration().coupling_map\n",
        "basis_gates = noise_model.basis_gates\n",
        "print(noise_model)\n",
        "# Select the QasmSimulator from the Aer provider\n",
        "simulator = Aer.get_backend('qasm_simulator')"
      ],
      "execution_count": 5,
      "outputs": [
        {
          "output_type": "stream",
          "text": [
            "NoiseModel:\n",
            "  Basis gates: ['cx', 'id', 'u2', 'u3']\n",
            "  Instructions with noise: ['id', 'u2', 'cx', 'u3', 'measure']\n",
            "  Qubits with noise: [0, 1, 2, 3, 4]\n",
            "  Specific qubit errors: [('id', [0]), ('id', [1]), ('id', [2]), ('id', [3]), ('id', [4]), ('u2', [0]), ('u2', [1]), ('u2', [2]), ('u2', [3]), ('u2', [4]), ('u3', [0]), ('u3', [1]), ('u3', [2]), ('u3', [3]), ('u3', [4]), ('cx', [0, 1]), ('cx', [1, 0]), ('cx', [1, 2]), ('cx', [1, 3]), ('cx', [2, 1]), ('cx', [3, 1]), ('cx', [3, 4]), ('cx', [4, 3]), ('measure', [0]), ('measure', [1]), ('measure', [2]), ('measure', [3]), ('measure', [4])]\n"
          ],
          "name": "stdout"
        }
      ]
    },
    {
      "cell_type": "markdown",
      "metadata": {
        "id": "8gY842rOnJ4x",
        "colab_type": "text"
      },
      "source": [
        "### Circuit Preparation\n",
        "\n",
        "As I've shown in the [Pennylane notebook](https://github.com/kareem1925/Ismailia-school-of-AI/blob/master/machine%20learning%20for%20classifying%20quantum%20states/pennylane-quantum-state-learning.ipynb), I've initalized the same circuit in Qiskit. I only included a noisy backend with its properties and a snapshot to get the statevector. This means that the number of shots won't affect the the statevector unlike the counts measurements which are affected by it. We use one the utils in qiskit to get the density matrix of the first and second qubits only."
      ]
    },
    {
      "cell_type": "code",
      "metadata": {
        "id": "Z5gJ17eaeSpQ",
        "colab_type": "code",
        "colab": {}
      },
      "source": [
        "\n",
        "def circuit(params,shots):\n",
        "    \n",
        "    q = QuantumRegister(2)\n",
        "    c = ClassicalRegister(2)\n",
        "    qc = QuantumCircuit(q,c)\n",
        "    #qc.h(q[0])\n",
        "    \n",
        "    qc.ry(params[0],q[0])\n",
        "#    qc.rx(params[1],q[0])\n",
        "#    qc.ry(params[2],q[0])\n",
        "#    qc.rx(params[1],q[0])\n",
        "    \n",
        "    qc.cx(q[0],q[1])\n",
        "    qc.snapshot('0')\n",
        "    qc.measure(q[0],c[0])\n",
        "    qc.measure(q[1],c[1])\n",
        "    job = execute(qc, simulator, \n",
        "                       noise_model=noise_model,\n",
        "                       coupling_map=coupling_map,\n",
        "                       basis_gates=basis_gates,shots=shots,backend_options={\"max_parallel_threads\":10},optimization_level=3).result()\n",
        "    \n",
        "    statevector = np.array(job.data()['snapshots']['statevector']['0'][0])\n",
        "    statevector = get_subsystem_density_matrix(statevector,[2,3,4])\n",
        "    counts = job.get_counts()\n",
        "    return counts, statevector\n"
      ],
      "execution_count": 0,
      "outputs": []
    },
    {
      "cell_type": "markdown",
      "metadata": {
        "id": "RAwn-yXNocZ8",
        "colab_type": "text"
      },
      "source": [
        "### Define cost function\n",
        "we can use the cost function through $3$ ways:\n",
        "\n",
        "\n",
        "1.   Fiddelity measurement.\n",
        "2.   Count measurement difference.\n",
        "3.   average_data function which mimics the Hermitian measurement in Pennylane.\n",
        "\n"
      ]
    },
    {
      "cell_type": "code",
      "metadata": {
        "id": "7sqxa0WveSpX",
        "colab_type": "code",
        "colab": {}
      },
      "source": [
        "# for count difference in the cost function\n",
        "labels = np.array([0.5,0,0,0.5])\n",
        "\n",
        "labels_vector = np.array([1/np.sqrt(2),0,0,1/np.sqrt(2)])\n",
        "\n",
        "\n",
        "#metric = 'vectorstate'\n",
        "metric = 'average_data'\n",
        "def cost_vec(var):\n",
        "    st_vec = circuit(var,1000)[1]\n",
        "    return abs(1 - state_fidelity(st_vec,labels_vector))\n",
        "\n",
        "def cost_count100(var):\n",
        "    st_vec = circuit(var,100)[0]\n",
        "    return  -average_data(st_vec,{\"00\":1, \"01\":0, \"10\":0, \"11\":1})\n",
        "\n",
        "def cost_count10(var):\n",
        "    st_vec = circuit(var,10)[0]\n",
        "    return  -average_data(st_vec,{\"00\":1, \"01\":0, \"10\":0, \"11\":1})\n",
        "\n",
        "def cost_count1000(var):\n",
        "    st_vec = circuit(var,1000)[0]\n",
        "    return  -average_data(st_vec,{\"00\":1, \"01\":0, \"10\":0, \"11\":1})\n",
        "\n",
        "def cost_count1(var):\n",
        "    st_vec = circuit(var,1)[0]\n",
        "    return  -average_data(st_vec,{\"00\":1, \"01\":0, \"10\":0, \"11\":1})\n",
        "\n",
        " #   else:\n",
        "  #    co = np.zeros(4)\n",
        "        \n",
        "   #   if '00' in st_vec[0].keys():\n",
        "     #   co[0] = st_vec[0]['00']\n",
        "    #  if '11' in st_vec[0].keys():\n",
        "       # co[3] = st_vec[0]['11']\n",
        "      #if '10' in st_vec[0].keys():\n",
        "        #co[2] = st_vec[0]['10']\n",
        "      #if '01' in st_vec[0].keys():\n",
        "       # co[1] = st_vec[0]['01']\n",
        "\n",
        "      #return (abs(labels - co/shots)).mean()"
      ],
      "execution_count": 0,
      "outputs": []
    },
    {
      "cell_type": "code",
      "metadata": {
        "id": "ytUpfi5seSpg",
        "colab_type": "code",
        "colab": {
          "base_uri": "https://localhost:8080/",
          "height": 51
        },
        "outputId": "2ce63c24-2af5-43df-de8a-f4226fe89523"
      },
      "source": [
        "# weight initialization\n",
        "np.random.seed(20)\n",
        "init_params = np.random.rand(1)\n",
        "#init_params = [1.57079633]\n",
        "print(init_params)\n",
        "print(cost_vec(init_params))"
      ],
      "execution_count": 399,
      "outputs": [
        {
          "output_type": "stream",
          "text": [
            "[0.588130801077274]\n",
            "0.2225965707704386\n"
          ],
          "name": "stdout"
        }
      ]
    },
    {
      "cell_type": "markdown",
      "metadata": {
        "id": "SN35ciT5pnDn",
        "colab_type": "text"
      },
      "source": [
        "### Training\n",
        "the data parameter is a list which contains:\n",
        "\n",
        "\n",
        "1.   The final best weights.\n",
        "2.   The value of the cost function.\n",
        "3.   The number of last iteration.\n",
        "4.   The history of the cost funciton to be plotted. \"*I added this in the main code*\"\n"
      ]
    },
    {
      "cell_type": "markdown",
      "metadata": {
        "id": "YAkNZnwVB_-B",
        "colab_type": "text"
      },
      "source": [
        "Testing state vector logic"
      ]
    },
    {
      "cell_type": "code",
      "metadata": {
        "id": "djLW6LwbeSpo",
        "colab_type": "code",
        "colab": {
          "base_uri": "https://localhost:8080/",
          "height": 1000
        },
        "outputId": "1a591686-79d8-4c4f-94e5-d678fdca24aa"
      },
      "source": [
        "opt = AQGD(disp=True,maxiter=500,tol=1e-17)\n",
        "data = opt.optimize(objective_function=cost_vec,num_vars=1,initial_point=init_params)"
      ],
      "execution_count": 332,
      "outputs": [
        {
          "output_type": "stream",
          "text": [
            "Iteration: 0 \t| Energy: 0.2225965707704386\n",
            "Iteration: 1 \t| Energy: 0.0005448655801651991\n",
            "Iteration: 2 \t| Energy: 0.12010279019547865\n",
            "Iteration: 3 \t| Energy: 0.07172049371268607\n",
            "Iteration: 4 \t| Energy: 0.0065869580967996555\n",
            "Iteration: 5 \t| Energy: 0.06339344262534208\n",
            "Iteration: 6 \t| Energy: 0.0121265368623249\n",
            "Iteration: 7 \t| Energy: 0.014550354842057134\n",
            "Iteration: 8 \t| Energy: 0.02527386767148765\n",
            "Iteration: 9 \t| Energy: 0.00014716657275293255\n",
            "Iteration: 10 \t| Energy: 0.012526687982597151\n",
            "Iteration: 11 \t| Energy: 0.006426679017094816\n",
            "Iteration: 12 \t| Energy: 0.0011267351762527245\n",
            "Iteration: 13 \t| Energy: 0.006579144294567962\n",
            "Iteration: 14 \t| Energy: 0.000674385191892668\n",
            "Iteration: 15 \t| Energy: 0.00199277119621466\n",
            "Iteration: 16 \t| Energy: 0.002250306963876514\n",
            "Iteration: 17 \t| Energy: 1.4076367247373156e-05\n",
            "Iteration: 18 \t| Energy: 0.0014384769828521549\n",
            "Iteration: 19 \t| Energy: 0.00043830507620201686\n",
            "Iteration: 20 \t| Energy: 0.0002358985695321003\n",
            "Iteration: 21 \t| Energy: 0.0006402272780533513\n",
            "Iteration: 22 \t| Energy: 1.8561679406170484e-05\n",
            "Iteration: 23 \t| Energy: 0.0001308556518718751\n",
            "Iteration: 24 \t| Energy: 0.00010778295272262373\n",
            "Iteration: 25 \t| Energy: 1.0\n",
            "Iteration: 26 \t| Energy: 8.267634017844472e-05\n",
            "Iteration: 27 \t| Energy: 1.694188336776037e-05\n",
            "Iteration: 28 \t| Energy: 1.8036830706336104e-05\n",
            "Iteration: 29 \t| Energy: 3.296417255782558e-05\n",
            "Iteration: 30 \t| Energy: 1.6266698865674556e-07\n",
            "Iteration: 31 \t| Energy: 1.6435078886045673e-05\n",
            "Iteration: 32 \t| Energy: 8.044629692172123e-06\n",
            "Iteration: 33 \t| Energy: 1.607348638188455e-06\n",
            "Iteration: 34 \t| Energy: 8.524137231069595e-06\n",
            "Iteration: 35 \t| Energy: 7.637349563882623e-07\n",
            "Iteration: 36 \t| Energy: 2.701130442095412e-06\n",
            "Iteration: 37 \t| Energy: 2.8312683642006675e-06\n",
            "Iteration: 38 \t| Energy: 3.275443805073053e-08\n",
            "Iteration: 39 \t| Energy: 1.8908775406556444e-06\n",
            "Iteration: 40 \t| Energy: 5.237390083845384e-07\n",
            "Iteration: 41 \t| Energy: 5.529677771232144e-08\n",
            "Iteration: 42 \t| Energy: 1.566601879332552e-07\n",
            "Iteration: 43 \t| Energy: 0.9999998204430948\n",
            "Iteration: 44 \t| Energy: 1.0248889514841153e-09\n",
            "Iteration: 45 \t| Energy: 1.1411887124168629e-07\n",
            "Iteration: 46 \t| Energy: 3.501535328354066e-08\n",
            "Iteration: 47 \t| Energy: 1.8607333007736315e-08\n",
            "Iteration: 48 \t| Energy: 5.089462051799387e-08\n",
            "Iteration: 49 \t| Energy: 1.4971066608637784e-09\n",
            "Iteration: 50 \t| Energy: 2.102963558847648e-08\n",
            "Iteration: 51 \t| Energy: 1.4317160568211307e-08\n",
            "Iteration: 52 \t| Energy: 1.1545062683637752e-09\n",
            "Iteration: 53 \t| Energy: 1.2315898967329986e-08\n",
            "Iteration: 54 \t| Energy: 1.925201553731881e-09\n",
            "Iteration: 55 \t| Energy: 3.1147078249915694e-09\n",
            "Iteration: 56 \t| Energy: 4.5953238991813805e-09\n",
            "Iteration: 57 \t| Energy: 2.611244553918368e-13\n",
            "Iteration: 58 \t| Energy: 2.5525070945775497e-09\n",
            "Iteration: 59 \t| Energy: 1.021415729773878e-09\n",
            "Iteration: 60 \t| Energy: 3.2101943325812954e-10\n",
            "Iteration: 61 \t| Energy: 1.236776125956851e-09\n",
            "Iteration: 62 \t| Energy: 7.296829807046379e-11\n",
            "Iteration: 63 \t| Energy: 4.425571020760799e-10\n",
            "Iteration: 64 \t| Energy: 0.9999999996176119\n",
            "Iteration: 65 \t| Energy: 1.2645662295085458e-11\n",
            "Iteration: 66 \t| Energy: 2.8522473272118987e-10\n",
            "Iteration: 67 \t| Energy: 6.222578008419077e-11\n",
            "Iteration: 68 \t| Energy: 0.0770395097902341\n",
            "Iteration: 69 \t| Energy: 0.03649318559797987\n",
            "Iteration: 70 \t| Energy: 0.007295816063807914\n",
            "Iteration: 71 \t| Energy: 0.0387245331461159\n",
            "Iteration: 72 \t| Energy: 0.004276572075627039\n",
            "Iteration: 73 \t| Energy: 0.011500555945579749\n",
            "Iteration: 74 \t| Energy: 0.01366479802467735\n",
            "Iteration: 75 \t| Energy: 3.7880180353777604e-05\n",
            "Iteration: 76 \t| Energy: 0.008389027848085151\n",
            "Iteration: 77 \t| Energy: 0.002836796510318873\n",
            "Iteration: 78 \t| Energy: 0.0012506899832827045\n",
            "Iteration: 79 \t| Energy: 0.0038522085031151843\n",
            "Iteration: 80 \t| Energy: 0.0001554048980267897\n",
            "Iteration: 81 \t| Energy: 0.0015036430977772852\n",
            "Iteration: 82 \t| Energy: 0.0011309004660434718\n",
            "Iteration: 83 \t| Energy: 6.463031768566552e-05\n",
            "Iteration: 84 \t| Energy: 0.0009148686304869535\n",
            "Iteration: 85 \t| Energy: 0.00016635824979549518\n",
            "Iteration: 86 \t| Energy: 0.00021388934962063288\n",
            "Iteration: 87 \t| Energy: 0.00035403896500874055\n",
            "Iteration: 88 \t| Energy: 6.344668641578011e-07\n",
            "Iteration: 89 \t| Energy: 0.0001853551611270543\n",
            "Iteration: 90 \t| Energy: 8.296487431591615e-05\n",
            "Iteration: 91 \t| Energy: 2.040987325313548e-05\n",
            "Iteration: 92 \t| Energy: 9.321869476353051e-05\n",
            "Iteration: 93 \t| Energy: 7.0056662258011215e-06\n",
            "Iteration: 94 \t| Energy: 6.808983852746309e-06\n",
            "Iteration: 95 \t| Energy: 1.3075476988810841e-05\n",
            "Iteration: 96 \t| Energy: 9.180157545252143e-08\n",
            "Iteration: 97 \t| Energy: 5.532882245917747e-06\n",
            "Iteration: 98 \t| Energy: 2.8811025492014863e-06\n",
            "Iteration: 99 \t| Energy: 4.946170729658306e-07\n",
            "Iteration: 100 \t| Energy: 2.9329722003312853e-06\n",
            "Iteration: 101 \t| Energy: 2.9474773000082166e-07\n",
            "Iteration: 102 \t| Energy: 8.932665991334687e-07\n",
            "Iteration: 103 \t| Energy: 9.957755110479027e-07\n",
            "Iteration: 104 \t| Energy: 7.253362466208557e-09\n",
            "Iteration: 105 \t| Energy: 6.42632059677517e-07\n",
            "Iteration: 106 \t| Energy: 1.9110232130081783e-07\n",
            "Iteration: 107 \t| Energy: 1.0759198876275633e-07\n",
            "Iteration: 108 \t| Energy: 2.839525818920663e-07\n",
            "Iteration: 109 \t| Energy: 7.575265525971986e-09\n",
            "Iteration: 110 \t| Energy: 1.1920206566262692e-07\n",
            "Iteration: 111 \t| Energy: 7.899604859140652e-08\n",
            "Iteration: 112 \t| Energy: 6.935292784504554e-09\n",
            "Iteration: 113 \t| Energy: 1.2711647190410957e-07\n",
            "Iteration: 114 \t| Energy: 2.572013002577478e-08\n",
            "Iteration: 115 \t| Energy: 2.7944513369959623e-08\n",
            "Iteration: 116 \t| Energy: 5.0517082739176544e-08\n",
            "Iteration: 117 \t| Energy: 2.2802382204645255e-10\n",
            "Iteration: 118 \t| Energy: 2.532307674663059e-08\n",
            "Iteration: 119 \t| Energy: 1.2272874272412082e-08\n",
            "Iteration: 120 \t| Energy: 2.5109940793299756e-09\n",
            "Iteration: 121 \t| Energy: 1.3088707673247768e-08\n",
            "Iteration: 122 \t| Energy: 1.1506561259366777e-09\n",
            "Iteration: 123 \t| Energy: 4.1736243350243285e-09\n",
            "Iteration: 124 \t| Energy: 4.332040060006648e-09\n",
            "Iteration: 125 \t| Energy: 5.352851495388222e-11\n",
            "Iteration: 126 \t| Energy: 2.9091312692131055e-09\n",
            "Iteration: 127 \t| Energy: 7.965379467123057e-10\n",
            "Iteration: 128 \t| Energy: 5.204281450232884e-10\n",
            "Iteration: 129 \t| Energy: 1.2549530303829215e-09\n",
            "Iteration: 130 \t| Energy: 2.531264087224372e-11\n",
            "Iteration: 131 \t| Energy: 5.487080789734478e-10\n",
            "Iteration: 132 \t| Energy: 3.390638880773622e-10\n",
            "Iteration: 133 \t| Energy: 3.672173676250168e-11\n",
            "Iteration: 134 \t| Energy: 3.0967761688316386e-10\n",
            "Iteration: 135 \t| Energy: 4.165012779111521e-11\n",
            "Iteration: 136 \t| Energy: 8.399192452657189e-11\n",
            "Iteration: 137 \t| Energy: 1.1168677094275381e-10\n",
            "Iteration: 138 \t| Energy: 7.227551890309769e-14\n",
            "Iteration: 139 \t| Energy: 6.551137410326646e-11\n",
            "Iteration: 140 \t| Energy: 2.3594237674728902e-11\n",
            "Iteration: 141 \t| Energy: 9.208855900055823e-12\n",
            "Iteration: 142 \t| Energy: 3.068767462366395e-11\n",
            "Iteration: 143 \t| Energy: 1.4075407506197735e-12\n",
            "Iteration: 144 \t| Energy: 1.1650458375811468e-11\n",
            "Iteration: 145 \t| Energy: 9.139133894109364e-12\n",
            "Iteration: 146 \t| Energy: 4.496403249731884e-13\n",
            "Iteration: 147 \t| Energy: 7.2168937492733676e-12\n",
            "Iteration: 148 \t| Energy: 1.383337888682945e-12\n",
            "Iteration: 149 \t| Energy: 1.638023050531956e-12\n",
            "Iteration: 150 \t| Energy: 2.829070311349824e-12\n",
            "Iteration: 151 \t| Energy: 8.43769498715119e-15\n",
            "Iteration: 152 \t| Energy: 1.4506174039752295e-12\n",
            "Iteration: 153 \t| Energy: 6.746825320647076e-13\n",
            "Iteration: 154 \t| Energy: 0.07703778877181544\n",
            "Iteration: 155 \t| Energy: 0.03648976974975704\n",
            "Iteration: 156 \t| Energy: 0.007296500368594305\n",
            "Iteration: 157 \t| Energy: 0.03872289217548852\n",
            "Iteration: 158 \t| Energy: 0.004275783345336404\n",
            "Iteration: 159 \t| Energy: 0.011500693695351893\n",
            "Iteration: 160 \t| Energy: 0.01366384320283709\n",
            "Iteration: 161 \t| Energy: 3.791934712582545e-05\n",
            "Iteration: 162 \t| Energy: 0.008388827965813084\n",
            "Iteration: 163 \t| Energy: 0.002836467684904198\n",
            "Iteration: 164 \t| Energy: 0.0012507698601100792\n",
            "Iteration: 165 \t| Energy: 0.0038520091504193887\n",
            "Iteration: 166 \t| Energy: 0.0001553583531930247\n",
            "Iteration: 167 \t| Energy: 0.00150364005935133\n",
            "Iteration: 168 \t| Energy: 0.0011308046808378158\n",
            "Iteration: 169 \t| Energy: 6.464422335317188e-05\n",
            "Iteration: 170 \t| Energy: 0.0009148366992127732\n",
            "Iteration: 171 \t| Energy: 0.0001663329786621981\n",
            "Iteration: 172 \t| Energy: 0.0002138956861461594\n",
            "Iteration: 173 \t| Energy: 0.0003540164160206194\n",
            "Iteration: 174 \t| Energy: 6.336108134830098e-07\n",
            "Iteration: 175 \t| Energy: 0.00018535207031833423\n",
            "Iteration: 176 \t| Energy: 8.295623721721324e-05\n",
            "Iteration: 177 \t| Energy: 2.041178241030117e-05\n",
            "Iteration: 178 \t| Energy: 9.321437831055768e-05\n",
            "Iteration: 179 \t| Energy: 7.004087573481144e-06\n",
            "Iteration: 180 \t| Energy: 3.1215237451087674e-05\n",
            "Iteration: 181 \t| Energy: 2.9996751826799617e-05\n",
            "Iteration: 182 \t| Energy: 5.884356633067966e-07\n",
            "Iteration: 183 \t| Energy: 2.1041820118528065e-05\n",
            "Iteration: 184 \t| Energy: 5.251975590203628e-06\n",
            "Iteration: 185 \t| Energy: 4.032178029023115e-06\n",
            "Iteration: 186 \t| Energy: 8.843551686732454e-06\n",
            "Iteration: 187 \t| Energy: 1.2434933160943018e-07\n",
            "Iteration: 188 \t| Energy: 4.0399597863727266e-06\n",
            "Iteration: 189 \t| Energy: 1.430281544279044e-05\n",
            "Iteration: 190 \t| Energy: 7.3318580473547e-07\n",
            "Iteration: 191 \t| Energy: 5.295842471664258e-06\n",
            "Iteration: 192 \t| Energy: 4.328478604320729e-06\n",
            "Iteration: 193 \t| Energy: 1.8116419975289233e-07\n",
            "Iteration: 194 \t| Energy: 3.335722547181952e-06\n",
            "Iteration: 195 \t| Energy: 0.07605423753232754\n",
            "Iteration: 196 \t| Energy: 0.036450698378246216\n",
            "Iteration: 197 \t| Energy: 0.007074609290864897\n",
            "Iteration: 198 \t| Energy: 0.03836852589288764\n",
            "Iteration: 199 \t| Energy: 0.004318972223194217\n",
            "Iteration: 200 \t| Energy: 0.011309604118400651\n",
            "Iteration: 201 \t| Energy: 0.05457142130237114\n",
            "Iteration: 202 \t| Energy: 0.0059443592560117775\n",
            "Iteration: 203 \t| Energy: 0.016360215691040292\n",
            "Iteration: 204 \t| Energy: 0.019367657260783933\n",
            "Iteration: 205 \t| Energy: 4.757275558664453e-05\n",
            "Iteration: 206 \t| Energy: 0.01183981457412464\n",
            "Iteration: 207 \t| Energy: 0.0040825512937257\n",
            "Iteration: 208 \t| Energy: 0.0017306178885501122\n",
            "Iteration: 209 \t| Energy: 0.9945316632126143\n",
            "Iteration: 210 \t| Energy: 0.00023572999758791902\n",
            "Iteration: 211 \t| Energy: 0.0021065038818179893\n",
            "Iteration: 212 \t| Energy: 0.00162189337432328\n",
            "Iteration: 213 \t| Energy: 8.479063896116301e-05\n",
            "Iteration: 214 \t| Energy: 0.0012931755476346396\n",
            "Iteration: 215 \t| Energy: 0.0002436202182505287\n",
            "Iteration: 216 \t| Energy: 0.0002964274528969302\n",
            "Iteration: 217 \t| Energy: 0.0005048948485630866\n",
            "Iteration: 218 \t| Energy: 1.299413225908097e-06\n",
            "Iteration: 219 \t| Energy: 0.0002605211140245256\n",
            "Iteration: 220 \t| Energy: 0.00011981992349596737\n",
            "Iteration: 221 \t| Energy: 2.7704305141873498e-05\n",
            "Iteration: 222 \t| Energy: 0.00013223589132205227\n",
            "Iteration: 223 \t| Energy: 1.05026270373898e-05\n",
            "Iteration: 224 \t| Energy: 4.354902142933437e-05\n",
            "Iteration: 225 \t| Energy: 4.297149525356314e-05\n",
            "Iteration: 226 \t| Energy: 7.261271566250116e-07\n",
            "Iteration: 227 \t| Energy: 2.9692027566086132e-05\n",
            "Iteration: 228 \t| Energy: 7.654550555624695e-06\n",
            "Iteration: 229 \t| Energy: 5.558280849138342e-06\n",
            "Iteration: 230 \t| Energy: 1.259200260117499e-05\n",
            "Iteration: 231 \t| Energy: 2.021957014042286e-07\n",
            "Iteration: 232 \t| Energy: 5.666092529388322e-06\n",
            "Iteration: 233 \t| Energy: 3.3305485613865926e-06\n",
            "Iteration: 234 \t| Energy: 4.1557516772261494e-07\n",
            "Iteration: 235 \t| Energy: 3.138713087880163e-06\n",
            "Iteration: 236 \t| Energy: 3.8911661337515113e-07\n",
            "Iteration: 237 \t| Energy: 8.814605187978941e-07\n",
            "Iteration: 238 \t| Energy: 1.1122506371474827e-06\n",
            "Iteration: 239 \t| Energy: 2.0249534271599146e-09\n",
            "Iteration: 240 \t| Energy: 6.709238848934262e-07\n",
            "Iteration: 241 \t| Energy: 1.9590875981467804e-06\n",
            "Iteration: 242 \t| Energy: 6.784670980586327e-08\n",
            "Iteration: 243 \t| Energy: 7.866972144832118e-07\n",
            "Iteration: 244 \t| Energy: 5.620587022470147e-07\n",
            "Iteration: 245 \t| Energy: 3.8672515190185663e-08\n",
            "Iteration: 246 \t| Energy: 4.6948207121921826e-07\n",
            "Iteration: 247 \t| Energy: 7.882200336872813e-08\n",
            "Iteration: 248 \t| Energy: 5.095746047345528e-10\n",
            "Iteration: 249 \t| Energy: 5.047796747259525e-08\n",
            "Iteration: 250 \t| Energy: 1.524986203982337e-08\n",
            "Iteration: 251 \t| Energy: 8.339947177304907e-09\n",
            "Iteration: 252 \t| Energy: 2.2408538580265258e-08\n",
            "Iteration: 253 \t| Energy: 6.28343599373693e-10\n",
            "Iteration: 254 \t| Energy: 9.332405404016697e-09\n",
            "Iteration: 255 \t| Energy: 6.269127661440166e-09\n",
            "Iteration: 256 \t| Energy: 5.274898295937192e-10\n",
            "Iteration: 257 \t| Energy: 5.437267747154806e-09\n",
            "Iteration: 258 \t| Energy: 8.329452683142335e-10\n",
            "Iteration: 259 \t| Energy: 1.3887087035868717e-09\n",
            "Iteration: 260 \t| Energy: 2.019285183507691e-09\n",
            "Iteration: 261 \t| Energy: 1.887379141862766e-14\n",
            "Iteration: 262 \t| Energy: 1.1301155566911802e-09\n",
            "Iteration: 263 \t| Energy: 4.457558766546299e-10\n",
            "Iteration: 264 \t| Energy: 1.4441603468640096e-10\n",
            "Iteration: 265 \t| Energy: 5.450130347028903e-10\n",
            "Iteration: 266 \t| Energy: 3.111400026512001e-11\n",
            "Iteration: 267 \t| Energy: 1.9664203598779295e-10\n",
            "Iteration: 268 \t| Energy: 1.6764534205293558e-10\n",
            "Iteration: 269 \t| Energy: 5.879963183019754e-12\n",
            "Iteration: 270 \t| Energy: 1.2603118548781822e-10\n",
            "Iteration: 271 \t| Energy: 2.701794343806796e-11\n",
            "Iteration: 272 \t| Energy: 2.6740498704214133e-11\n",
            "Iteration: 273 \t| Energy: 5.0841775234289344e-11\n",
            "Iteration: 274 \t| Energy: 3.3439917501709715e-13\n",
            "Iteration: 275 \t| Energy: 2.4864554859505006e-11\n",
            "Iteration: 276 \t| Energy: 1.2603473820149702e-11\n",
            "Iteration: 277 \t| Energy: 2.3135937610163637e-12\n",
            "Iteration: 278 \t| Energy: 1.3055445613474603e-11\n",
            "Iteration: 279 \t| Energy: 1.2490009027033011e-12\n",
            "Iteration: 280 \t| Energy: 4.0460967909439205e-12\n",
            "Iteration: 281 \t| Energy: 4.390487973182644e-12\n",
            "Iteration: 282 \t| Energy: 3.985700658404312e-14\n",
            "Iteration: 283 \t| Energy: 2.8761437675939305e-12\n",
            "Iteration: 284 \t| Energy: 8.294476216974545e-13\n",
            "Iteration: 285 \t| Energy: 4.940492459581947e-13\n",
            "Iteration: 286 \t| Energy: 2.3028245976774997e-12\n",
            "Iteration: 287 \t| Energy: 1.7763568394002505e-13\n",
            "Iteration: 288 \t| Energy: 7.653877531765829e-13\n",
            "Iteration: 289 \t| Energy: 7.4451556031363e-13\n",
            "Iteration: 290 \t| Energy: 1.3766765505351941e-14\n",
            "Iteration: 291 \t| Energy: 5.186961971048731e-13\n",
            "Iteration: 292 \t| Energy: 1.3145040611561853e-13\n",
            "Iteration: 293 \t| Energy: 9.85878045867139e-14\n",
            "Iteration: 294 \t| Energy: 2.191580250610059e-13\n",
            "Iteration: 295 \t| Energy: 3.4416913763379853e-15\n",
            "Iteration: 296 \t| Energy: 9.9253938401489e-14\n",
            "Iteration: 297 \t| Energy: 5.773159728050814e-14\n",
            "Iteration: 298 \t| Energy: 7.549516567451064e-15\n",
            "Iteration: 299 \t| Energy: 5.484501741648273e-14\n",
            "Iteration: 300 \t| Energy: 0.9999999999999934\n",
            "Iteration: 301 \t| Energy: 1.554312234475219e-14\n",
            "Iteration: 302 \t| Energy: 1.9539925233402755e-14\n",
            "Iteration: 303 \t| Energy: 2.220446049250313e-16\n",
            "Iteration: 304 \t| Energy: 1.199040866595169e-14\n",
            "Iteration: 305 \t| Energy: 4.107825191113079e-15\n",
            "Iteration: 306 \t| Energy: 1.887379141862766e-15\n",
            "Iteration: 307 \t| Energy: 5.551115123125783e-15\n",
            "Iteration: 308 \t| Energy: 3.3306690738754696e-16\n",
            "Iteration: 309 \t| Energy: 2.3314683517128287e-15\n",
            "Iteration: 310 \t| Energy: 1.7763568394002505e-15\n",
            "Iteration: 311 \t| Energy: 2.220446049250313e-16\n",
            "Iteration: 312 \t| Energy: 1.5543122344752192e-15\n",
            "Iteration: 313 \t| Energy: 3.3306690738754696e-16\n",
            "Iteration: 314 \t| Energy: 4.440892098500626e-16\n",
            "Iteration: 315 \t| Energy: 6.661338147750939e-16\n",
            "Iteration: 316 \t| Energy: 2.220446049250313e-16\n",
            "Iteration: 317 \t| Energy: 4.440892098500626e-16\n",
            "Iteration: 318 \t| Energy: 2.220446049250313e-16\n",
            "Iteration: 319 \t| Energy: 2.220446049250313e-16\n",
            "Iteration: 320 \t| Energy: 3.3306690738754696e-16\n",
            "Iteration: 321 \t| Energy: 2.220446049250313e-16\n",
            "Iteration: 322 \t| Energy: 2.220446049250313e-16\n",
            "Iteration: 323 \t| Energy: 2.220446049250313e-16\n"
          ],
          "name": "stdout"
        }
      ]
    },
    {
      "cell_type": "code",
      "metadata": {
        "id": "tmYfKkKBlFBI",
        "colab_type": "code",
        "colab": {
          "base_uri": "https://localhost:8080/",
          "height": 34
        },
        "outputId": "21d79388-6349-4cd5-b465-9c5a9f39ae33"
      },
      "source": [
        "data[:3]"
      ],
      "execution_count": 333,
      "outputs": [
        {
          "output_type": "execute_result",
          "data": {
            "text/plain": [
              "(array([1.570796314249988]), 2.220446049250313e-16, 323)"
            ]
          },
          "metadata": {
            "tags": []
          },
          "execution_count": 333
        }
      ]
    },
    {
      "cell_type": "code",
      "metadata": {
        "colab_type": "code",
        "outputId": "d7c6852e-44e1-4a38-f647-5f8072e3acc0",
        "id": "xl8zMaaIDqm6",
        "colab": {
          "base_uri": "https://localhost:8080/",
          "height": 348
        }
      },
      "source": [
        "counts,density_matrix = circuit(data[0],1000)\n",
        "print('counts', counts)\n",
        "plot_histogram(counts)"
      ],
      "execution_count": 0,
      "outputs": [
        {
          "output_type": "stream",
          "text": [
            "counts {'11': 469, '10': 22, '00': 487, '01': 22}\n"
          ],
          "name": "stdout"
        },
        {
          "output_type": "execute_result",
          "data": {
            "image/png": "[encoded data removed]",
            "text/plain": [
              "<Figure size 504x360 with 1 Axes>"
            ]
          },
          "metadata": {
            "tags": []
          },
          "execution_count": 337
        }
      ]
    },
    {
      "cell_type": "code",
      "metadata": {
        "colab_type": "code",
        "outputId": "af8d6db6-69ef-4acf-b463-a6bfd94c9fb5",
        "id": "2hGC6CILDqJ3",
        "colab": {
          "base_uri": "https://localhost:8080/",
          "height": 34
        }
      },
      "source": [
        "print(\"state fidelity: \", state_fidelity(density_matrix,labels_vector))"
      ],
      "execution_count": 0,
      "outputs": [
        {
          "output_type": "stream",
          "text": [
            "state fidelity:  0.9999999999999998\n"
          ],
          "name": "stdout"
        }
      ]
    },
    {
      "cell_type": "markdown",
      "metadata": {
        "colab_type": "text",
        "id": "zn0-9Ua-DpyK"
      },
      "source": [
        "### Testing Count measurement"
      ]
    },
    {
      "cell_type": "markdown",
      "metadata": {
        "id": "N_qXVpYtltWt",
        "colab_type": "text"
      },
      "source": [
        "**Quantum Gradients**\n",
        "\n",
        "We can also compute the gradients ourselves and implement any gradient optimization technique.\n",
        "[Quantum gradients](https://arxiv.org/abs/1811.11184) can be computed by the following equation:\n",
        "\n",
        "\\begin{align}\n",
        "  \\frac{df}{d\\theta }\\,=\\,\\frac{1}{2}\\,\\left( f\\left( \\theta +\\frac{\\pi }{2} \\right)-f\\left( \\theta -\\frac{\\pi }{2} \\right) \\right)\\\\ \\\\\n",
        "\\end{align}\n",
        "\n",
        "where $\\theta$ is the weights and $f$ is quantum unitary gate."
      ]
    },
    {
      "cell_type": "code",
      "metadata": {
        "id": "kCDfCs2thoaM",
        "colab_type": "code",
        "colab": {}
      },
      "source": [
        "def gradient(params,cost):\n",
        "    g = np.zeros(len(params))\n",
        "\n",
        "    for id,i in enumerate(params):\n",
        "      params[id] = params[id] + np.pi/2\n",
        "      f1 = cost(params)\n",
        "      params[id] = params[id] - np.pi\n",
        "      f2 = cost(params)\n",
        "      params[id] = params[id] + np.pi/2\n",
        "      g[id] = (f1-f2)/2\n",
        "\n",
        "    return g"
      ],
      "execution_count": 0,
      "outputs": []
    },
    {
      "cell_type": "code",
      "metadata": {
        "id": "ClsLubOdjSu6",
        "colab_type": "code",
        "colab": {}
      },
      "source": [
        "def optimize(params,lr,cost):\n",
        "    \"\"\"\n",
        "\n",
        "    this fucntion controls SGD by computing the gradients and updating the weights\n",
        "\n",
        "    \"\"\"\n",
        "    g = gradient(params,cost)\n",
        "    \n",
        "    new_weights = params - (lr*g)\n",
        "    \n",
        "    return new_weights"
      ],
      "execution_count": 0,
      "outputs": []
    },
    {
      "cell_type": "markdown",
      "metadata": {
        "id": "IwKCBfsvE1lX",
        "colab_type": "text"
      },
      "source": [
        "**10 shots**"
      ]
    },
    {
      "cell_type": "code",
      "metadata": {
        "id": "729jPJi5lbCk",
        "colab_type": "code",
        "colab": {
          "base_uri": "https://localhost:8080/",
          "height": 697
        },
        "outputId": "a9912026-51af-44de-fe7c-96fec27efb6d"
      },
      "source": [
        "\n",
        "epochs = 400\n",
        "params = init_params\n",
        "loss = np.inf\n",
        "hist = []\n",
        "\n",
        "for it in range(epochs):\n",
        "  params = optimize(params,lr=0.1,cost=cost_count10)\n",
        "  temp = cost_count10(params)\n",
        "  if temp < loss:\n",
        "    best = params\n",
        "    loss = temp\n",
        "  hist.append(temp)\n",
        "  if it % 10 == 0:\n",
        "    print(temp)"
      ],
      "execution_count": 387,
      "outputs": [
        {
          "output_type": "stream",
          "text": [
            "-1.0\n",
            "-1.0\n",
            "-0.8999999999999999\n",
            "-1.0\n",
            "-0.8\n",
            "-1.0\n",
            "-0.8999999999999999\n",
            "-1.0\n",
            "-1.0\n",
            "-1.0\n",
            "-1.0\n",
            "-0.8999999999999999\n",
            "-1.0\n",
            "-1.0\n",
            "-1.0\n",
            "-0.8999999999999999\n",
            "-1.0\n",
            "-1.0\n",
            "-1.0\n",
            "-1.0\n",
            "-1.0\n",
            "-1.0\n",
            "-1.0\n",
            "-1.0\n",
            "-0.8999999999999999\n",
            "-1.0\n",
            "-0.9\n",
            "-0.8999999999999999\n",
            "-1.0\n",
            "-1.0\n",
            "-1.0\n",
            "-1.0\n",
            "-1.0\n",
            "-1.0\n",
            "-1.0\n",
            "-1.0\n",
            "-1.0\n",
            "-1.0\n",
            "-0.9\n",
            "-0.9\n"
          ],
          "name": "stdout"
        }
      ]
    },
    {
      "cell_type": "code",
      "metadata": {
        "id": "EmXMfoaGnqT8",
        "colab_type": "code",
        "colab": {
          "base_uri": "https://localhost:8080/",
          "height": 314
        },
        "outputId": "6d53cf24-b800-4838-9d57-12b4723b97b9"
      },
      "source": [
        "plt.plot(hist,\"*\", label=\"10 shots loss\")\n",
        "plt.tight_layout()\n",
        "plt.legend()"
      ],
      "execution_count": 388,
      "outputs": [
        {
          "output_type": "execute_result",
          "data": {
            "text/plain": [
              "<matplotlib.legend.Legend at 0x7fe406b25588>"
            ]
          },
          "metadata": {
            "tags": []
          },
          "execution_count": 388
        },
        {
          "output_type": "display_data",
          "data": {
            "image/png": "[encoded data removed]",
            "text/plain": [
              "<Figure size 432x288 with 1 Axes>"
            ]
          },
          "metadata": {
            "tags": []
          }
        }
      ]
    },
    {
      "cell_type": "code",
      "metadata": {
        "id": "drsc-MEEvbZv",
        "colab_type": "code",
        "colab": {
          "base_uri": "https://localhost:8080/",
          "height": 348
        },
        "outputId": "4d33b8af-c924-4d8c-d371-61a139263b4a"
      },
      "source": [
        "counts,density_matrix = circuit(best,10)\n",
        "print('counts', counts)\n",
        "plot_histogram(counts)"
      ],
      "execution_count": 389,
      "outputs": [
        {
          "output_type": "stream",
          "text": [
            "counts {'11': 6, '00': 4}\n"
          ],
          "name": "stdout"
        },
        {
          "output_type": "execute_result",
          "data": {
            "image/png": "[encoded data removed]",
            "text/plain": [
              "<Figure size 504x360 with 1 Axes>"
            ]
          },
          "metadata": {
            "tags": []
          },
          "execution_count": 389
        }
      ]
    },
    {
      "cell_type": "code",
      "metadata": {
        "id": "CYTvHjTxvlJ_",
        "colab_type": "code",
        "colab": {
          "base_uri": "https://localhost:8080/",
          "height": 34
        },
        "outputId": "8e833cb1-b185-4321-c342-5e28ec496312"
      },
      "source": [
        "print(\"state fidelity: \", state_fidelity(density_matrix,labels_vector))"
      ],
      "execution_count": 390,
      "outputs": [
        {
          "output_type": "stream",
          "text": [
            "state fidelity:  0.9145973769270366\n"
          ],
          "name": "stdout"
        }
      ]
    },
    {
      "cell_type": "markdown",
      "metadata": {
        "id": "PYiwpw5kGfoz",
        "colab_type": "text"
      },
      "source": [
        "**100 shots**"
      ]
    },
    {
      "cell_type": "code",
      "metadata": {
        "id": "6wUu3gf_AlU6",
        "colab_type": "code",
        "colab": {
          "base_uri": "https://localhost:8080/",
          "height": 697
        },
        "outputId": "7bc678c4-3bc9-423a-9b14-2dc4ebb9a2f7"
      },
      "source": [
        "\n",
        "epochs = 400\n",
        "params = init_params\n",
        "loss = np.inf\n",
        "hist = []\n",
        "\n",
        "for it in range(epochs):\n",
        "  params = optimize(params,lr=0.1,cost=cost_count100)\n",
        "  temp = cost_count100(params)\n",
        "  if temp < loss:\n",
        "    best = params\n",
        "    loss = temp\n",
        "  hist.append(temp)\n",
        "  if it % 10 == 0:\n",
        "    print(temp)"
      ],
      "execution_count": 381,
      "outputs": [
        {
          "output_type": "stream",
          "text": [
            "-0.95\n",
            "-0.97\n",
            "-0.96\n",
            "-0.97\n",
            "-0.97\n",
            "-0.94\n",
            "-0.94\n",
            "-0.95\n",
            "-0.9500000000000001\n",
            "-0.9199999999999999\n",
            "-0.94\n",
            "-0.97\n",
            "-0.96\n",
            "-0.97\n",
            "-0.91\n",
            "-0.97\n",
            "-0.94\n",
            "-0.94\n",
            "-0.96\n",
            "-0.99\n",
            "-0.95\n",
            "-0.98\n",
            "-0.95\n",
            "-0.92\n",
            "-0.99\n",
            "-0.9600000000000001\n",
            "-0.98\n",
            "-0.95\n",
            "-0.96\n",
            "-0.96\n",
            "-0.95\n",
            "-0.94\n",
            "-0.96\n",
            "-0.94\n",
            "-0.96\n",
            "-0.97\n",
            "-0.97\n",
            "-0.96\n",
            "-0.96\n",
            "-0.9299999999999999\n"
          ],
          "name": "stdout"
        }
      ]
    },
    {
      "cell_type": "code",
      "metadata": {
        "id": "-sK1251CFOY6",
        "colab_type": "code",
        "colab": {
          "base_uri": "https://localhost:8080/",
          "height": 314
        },
        "outputId": "821b42ff-73c2-452c-8e75-a4064ddc0a36"
      },
      "source": [
        "plt.plot(hist,\"*\", label=\"100 shots loss\")\n",
        "plt.tight_layout()\n",
        "plt.legend()"
      ],
      "execution_count": 382,
      "outputs": [
        {
          "output_type": "execute_result",
          "data": {
            "text/plain": [
              "<matplotlib.legend.Legend at 0x7fe406727b00>"
            ]
          },
          "metadata": {
            "tags": []
          },
          "execution_count": 382
        },
        {
          "output_type": "display_data",
          "data": {
            "image/png": "[encoded data removed]",
            "text/plain": [
              "<Figure size 432x288 with 1 Axes>"
            ]
          },
          "metadata": {
            "tags": []
          }
        }
      ]
    },
    {
      "cell_type": "code",
      "metadata": {
        "id": "IayK8_GMFbNW",
        "colab_type": "code",
        "colab": {
          "base_uri": "https://localhost:8080/",
          "height": 348
        },
        "outputId": "c21de80f-15cf-4280-ff2f-16815e628aad"
      },
      "source": [
        "counts,density_matrix = circuit(best,100)\n",
        "print('counts', counts)\n",
        "plot_histogram(counts)"
      ],
      "execution_count": 384,
      "outputs": [
        {
          "output_type": "stream",
          "text": [
            "counts {'11': 52, '10': 3, '00': 43, '01': 2}\n"
          ],
          "name": "stdout"
        },
        {
          "output_type": "execute_result",
          "data": {
            "image/png": "[encoded data removed]",
            "text/plain": [
              "<Figure size 504x360 with 1 Axes>"
            ]
          },
          "metadata": {
            "tags": []
          },
          "execution_count": 384
        }
      ]
    },
    {
      "cell_type": "code",
      "metadata": {
        "id": "bXewpLDTFe5n",
        "colab_type": "code",
        "colab": {
          "base_uri": "https://localhost:8080/",
          "height": 34
        },
        "outputId": "787a046d-017b-4202-dbee-c5a07d45027d"
      },
      "source": [
        "print(\"state fidelity: \", state_fidelity(density_matrix,labels_vector))"
      ],
      "execution_count": 385,
      "outputs": [
        {
          "output_type": "stream",
          "text": [
            "state fidelity:  0.9999946389299257\n"
          ],
          "name": "stdout"
        }
      ]
    },
    {
      "cell_type": "markdown",
      "metadata": {
        "id": "GoEjDw2uGoin",
        "colab_type": "text"
      },
      "source": [
        "**1000 shots**"
      ]
    },
    {
      "cell_type": "code",
      "metadata": {
        "id": "s-ufOM_5FjC3",
        "colab_type": "code",
        "colab": {
          "base_uri": "https://localhost:8080/",
          "height": 697
        },
        "outputId": "2dc50584-f7cb-4aff-fd68-6bf2239f004b"
      },
      "source": [
        "\n",
        "epochs = 400\n",
        "params = init_params\n",
        "loss = np.inf\n",
        "hist = []\n",
        "\n",
        "for it in range(epochs):\n",
        "  params = optimize(params,lr=0.1,cost=cost_count1000)\n",
        "  temp = cost_count1000(params)\n",
        "  if temp < loss:\n",
        "    best = params\n",
        "    loss = temp\n",
        "  hist.append(temp)\n",
        "  if it % 10 == 0:\n",
        "    print(temp)"
      ],
      "execution_count": 391,
      "outputs": [
        {
          "output_type": "stream",
          "text": [
            "-0.942\n",
            "-0.955\n",
            "-0.9359999999999999\n",
            "-0.945\n",
            "-0.949\n",
            "-0.944\n",
            "-0.9500000000000001\n",
            "-0.9420000000000001\n",
            "-0.9580000000000001\n",
            "-0.958\n",
            "-0.9570000000000001\n",
            "-0.96\n",
            "-0.9630000000000001\n",
            "-0.9450000000000001\n",
            "-0.95\n",
            "-0.955\n",
            "-0.952\n",
            "-0.95\n",
            "-0.958\n",
            "-0.959\n",
            "-0.951\n",
            "-0.953\n",
            "-0.9530000000000001\n",
            "-0.958\n",
            "-0.946\n",
            "-0.956\n",
            "-0.96\n",
            "-0.956\n",
            "-0.958\n",
            "-0.9550000000000001\n",
            "-0.9550000000000001\n",
            "-0.952\n",
            "-0.952\n",
            "-0.965\n",
            "-0.96\n",
            "-0.9530000000000001\n",
            "-0.9570000000000001\n",
            "-0.968\n",
            "-0.9690000000000001\n",
            "-0.9570000000000001\n"
          ],
          "name": "stdout"
        }
      ]
    },
    {
      "cell_type": "code",
      "metadata": {
        "id": "5glj1qQ8Fq7K",
        "colab_type": "code",
        "colab": {
          "base_uri": "https://localhost:8080/",
          "height": 314
        },
        "outputId": "42656e81-a84a-4824-8f6b-97f6ed83a4c6"
      },
      "source": [
        "plt.plot(hist,\"*\", label=\"1000 shots loss\")\n",
        "plt.tight_layout()\n",
        "plt.legend()"
      ],
      "execution_count": 392,
      "outputs": [
        {
          "output_type": "execute_result",
          "data": {
            "text/plain": [
              "<matplotlib.legend.Legend at 0x7fe4068c37f0>"
            ]
          },
          "metadata": {
            "tags": []
          },
          "execution_count": 392
        },
        {
          "output_type": "display_data",
          "data": {
            "image/png": "[encoded data removed]",
            "text/plain": [
              "<Figure size 432x288 with 1 Axes>"
            ]
          },
          "metadata": {
            "tags": []
          }
        }
      ]
    },
    {
      "cell_type": "code",
      "metadata": {
        "id": "6eIBJrz-GNAR",
        "colab_type": "code",
        "colab": {
          "base_uri": "https://localhost:8080/",
          "height": 348
        },
        "outputId": "97565483-2f26-445b-c249-5e9799192775"
      },
      "source": [
        "counts,density_matrix = circuit(best,1000)\n",
        "print('counts', counts)\n",
        "plot_histogram(counts)"
      ],
      "execution_count": 393,
      "outputs": [
        {
          "output_type": "stream",
          "text": [
            "counts {'11': 588, '10': 22, '00': 367, '01': 23}\n"
          ],
          "name": "stdout"
        },
        {
          "output_type": "execute_result",
          "data": {
            "image/png": "[encoded data removed]",
            "text/plain": [
              "<Figure size 504x360 with 1 Axes>"
            ]
          },
          "metadata": {
            "tags": []
          },
          "execution_count": 393
        }
      ]
    },
    {
      "cell_type": "code",
      "metadata": {
        "id": "OMkxMemSGQkE",
        "colab_type": "code",
        "colab": {
          "base_uri": "https://localhost:8080/",
          "height": 34
        },
        "outputId": "4e360e31-bb35-46b3-fd40-54eeb7d71c2f"
      },
      "source": [
        "print(\"state fidelity: \", state_fidelity(density_matrix,labels_vector))"
      ],
      "execution_count": 394,
      "outputs": [
        {
          "output_type": "stream",
          "text": [
            "state fidelity:  0.9837140431186004\n"
          ],
          "name": "stdout"
        }
      ]
    },
    {
      "cell_type": "code",
      "metadata": {
        "id": "962XwNQ4GUnj",
        "colab_type": "code",
        "colab": {
          "base_uri": "https://localhost:8080/",
          "height": 170
        },
        "outputId": "255040c9-46ab-4ce6-9e96-63a2230167a3"
      },
      "source": [
        "circuit([-np.pi/2],10000)"
      ],
      "execution_count": 397,
      "outputs": [
        {
          "output_type": "execute_result",
          "data": {
            "text/plain": [
              "({'00': 4896, '01': 173, '10': 214, '11': 4717},\n",
              " array([[ 0.5+0.000000000000000e+00j,  0. +0.000000000000000e+00j,\n",
              "          0. +0.000000000000000e+00j, -0.5-6.123233995736766e-17j],\n",
              "        [ 0. +0.000000000000000e+00j,  0. +0.000000000000000e+00j,\n",
              "          0. +0.000000000000000e+00j,  0. +0.000000000000000e+00j],\n",
              "        [ 0. +0.000000000000000e+00j,  0. +0.000000000000000e+00j,\n",
              "          0. +0.000000000000000e+00j,  0. +0.000000000000000e+00j],\n",
              "        [-0.5+6.123233995736766e-17j,  0. +0.000000000000000e+00j,\n",
              "          0. +0.000000000000000e+00j,  0.5+0.000000000000000e+00j]]))"
            ]
          },
          "metadata": {
            "tags": []
          },
          "execution_count": 397
        }
      ]
    },
    {
      "cell_type": "markdown",
      "metadata": {
        "id": "FhiYsEzIR2Pv",
        "colab_type": "text"
      },
      "source": [
        "**1 shot**"
      ]
    },
    {
      "cell_type": "code",
      "metadata": {
        "id": "RCjKQSSBMMx9",
        "colab_type": "code",
        "colab": {
          "base_uri": "https://localhost:8080/",
          "height": 697
        },
        "outputId": "a85195c3-36b9-43be-ef36-8d1c7c157e1c"
      },
      "source": [
        "\n",
        "epochs = 400\n",
        "params = init_params\n",
        "loss = np.inf\n",
        "hist = []\n",
        "\n",
        "for it in range(epochs):\n",
        "  params = optimize(params,lr=0.1,cost=cost_count1)\n",
        "  temp = cost_count1(params)\n",
        "  if temp < loss:\n",
        "    best = params\n",
        "    loss = temp\n",
        "  hist.append(temp)\n",
        "  if it % 10 == 0:\n",
        "    print(temp)"
      ],
      "execution_count": 400,
      "outputs": [
        {
          "output_type": "stream",
          "text": [
            "-1.0\n",
            "-1.0\n",
            "-1.0\n",
            "-1.0\n",
            "-1.0\n",
            "-1.0\n",
            "-1.0\n",
            "-1.0\n",
            "-1.0\n",
            "-1.0\n",
            "-1.0\n",
            "-1.0\n",
            "-1.0\n",
            "-1.0\n",
            "-1.0\n",
            "-1.0\n",
            "-1.0\n",
            "-1.0\n",
            "-0.0\n",
            "-1.0\n",
            "-1.0\n",
            "-1.0\n",
            "-1.0\n",
            "-1.0\n",
            "-1.0\n",
            "-1.0\n",
            "-1.0\n",
            "-1.0\n",
            "-1.0\n",
            "-1.0\n",
            "-1.0\n",
            "-1.0\n",
            "-1.0\n",
            "-1.0\n",
            "-1.0\n",
            "-1.0\n",
            "-1.0\n",
            "-1.0\n",
            "-1.0\n",
            "-1.0\n"
          ],
          "name": "stdout"
        }
      ]
    },
    {
      "cell_type": "code",
      "metadata": {
        "id": "2h9-xU-aRdCL",
        "colab_type": "code",
        "colab": {
          "base_uri": "https://localhost:8080/",
          "height": 314
        },
        "outputId": "972263bc-db80-4f02-b5af-8a2053e50a26"
      },
      "source": [
        "plt.plot(hist,\"*\", label=\"1 shot loss\")\n",
        "plt.tight_layout()\n",
        "plt.legend()"
      ],
      "execution_count": 401,
      "outputs": [
        {
          "output_type": "execute_result",
          "data": {
            "text/plain": [
              "<matplotlib.legend.Legend at 0x7fe40659c668>"
            ]
          },
          "metadata": {
            "tags": []
          },
          "execution_count": 401
        },
        {
          "output_type": "display_data",
          "data": {
            "image/png": "[encoded data removed]",
            "text/plain": [
              "<Figure size 432x288 with 1 Axes>"
            ]
          },
          "metadata": {
            "tags": []
          }
        }
      ]
    },
    {
      "cell_type": "code",
      "metadata": {
        "id": "mGrCUYXtRjQB",
        "colab_type": "code",
        "colab": {
          "base_uri": "https://localhost:8080/",
          "height": 348
        },
        "outputId": "daa4d3c8-ea64-410d-da99-bbd01f401b37"
      },
      "source": [
        "counts,density_matrix = circuit(best,1)\n",
        "print('counts', counts)\n",
        "plot_histogram(counts)"
      ],
      "execution_count": 402,
      "outputs": [
        {
          "output_type": "stream",
          "text": [
            "counts {'00': 1}\n"
          ],
          "name": "stdout"
        },
        {
          "output_type": "execute_result",
          "data": {
            "image/png": "[encoded data removed]",
            "text/plain": [
              "<Figure size 504x360 with 1 Axes>"
            ]
          },
          "metadata": {
            "tags": []
          },
          "execution_count": 402
        }
      ]
    },
    {
      "cell_type": "code",
      "metadata": {
        "id": "QWXd8vAnRkZl",
        "colab_type": "code",
        "colab": {
          "base_uri": "https://localhost:8080/",
          "height": 34
        },
        "outputId": "608e40bd-4f53-4643-ebcb-99da12e7d862"
      },
      "source": [
        "print(\"state fidelity: \", state_fidelity(density_matrix,labels_vector))"
      ],
      "execution_count": 403,
      "outputs": [
        {
          "output_type": "stream",
          "text": [
            "state fidelity:  0.7774034292295615\n"
          ],
          "name": "stdout"
        }
      ]
    },
    {
      "cell_type": "code",
      "metadata": {
        "id": "YWCAmY9PRqV5",
        "colab_type": "code",
        "colab": {}
      },
      "source": [
        ""
      ],
      "execution_count": 0,
      "outputs": []
    }
  ]
}