{
  "nbformat": 4,
  "nbformat_minor": 0,
  "metadata": {
    "kernelspec": {
      "display_name": "Python 3",
      "language": "python",
      "name": "python3"
    },
    "language_info": {
      "codemirror_mode": {
        "name": "ipython",
        "version": 3
      },
      "file_extension": ".py",
      "mimetype": "text/x-python",
      "name": "python",
      "nbconvert_exporter": "python",
      "pygments_lexer": "ipython3",
      "version": "3.6.9"
    },
    "colab": {
      "name": "pennylane-quantum-state-learning.ipynb",
      "provenance": [],
      "include_colab_link": true
    }
  },
  "cells": [
    {
      "cell_type": "markdown",
      "metadata": {
        "id": "view-in-github",
        "colab_type": "text"
      },
      "source": [
        "<a href=\"https://colab.research.google.com/github/kareem1925/Ismailia-school-of-AI/blob/master/machine%20learning%20for%20classifying%20quantum%20states/pennylane-quantum-state-learning.ipynb\" target=\"_parent\"><img src=\"https://colab.research.google.com/assets/colab-badge.svg\" alt=\"Open In Colab\"/></a>"
      ]
    },
    {
      "cell_type": "markdown",
      "metadata": {
        "id": "VAN6Nl1iE09l",
        "colab_type": "text"
      },
      "source": [
        "We will start by configuring the environment and install the libraries we need."
      ]
    },
    {
      "cell_type": "code",
      "metadata": {
        "id": "Hq1xp_OiW5OF",
        "colab_type": "code",
        "outputId": "cd0761d4-c3fb-4574-ba91-558863b7f31d",
        "colab": {
          "base_uri": "https://localhost:8080/",
          "height": 377
        }
      },
      "source": [
        "!pip install pennylane --upgrade\n",
        "# it's important to restart the runtime so that pennylane works fine\n",
        "import os\n",
        "os.kill(os.getpid(), 9)"
      ],
      "execution_count": 0,
      "outputs": [
        {
          "output_type": "stream",
          "text": [
            "Collecting pennylane\n",
            "\u001b[?25l  Downloading https://files.pythonhosted.org/packages/c5/41/29728add010dbe35f1c6682dd79e7369e9a69659328df0050f5b589052df/PennyLane-0.8.1-py3-none-any.whl (199kB)\n",
            "\r\u001b[K     |█▋                              | 10kB 19.6MB/s eta 0:00:01\r\u001b[K     |███▎                            | 20kB 3.1MB/s eta 0:00:01\r\u001b[K     |█████                           | 30kB 4.4MB/s eta 0:00:01\r\u001b[K     |██████▋                         | 40kB 5.7MB/s eta 0:00:01\r\u001b[K     |████████▎                       | 51kB 3.6MB/s eta 0:00:01\r\u001b[K     |█████████▉                      | 61kB 4.2MB/s eta 0:00:01\r\u001b[K     |███████████▌                    | 71kB 4.8MB/s eta 0:00:01\r\u001b[K     |█████████████▏                  | 81kB 5.4MB/s eta 0:00:01\r\u001b[K     |██████████████▉                 | 92kB 6.0MB/s eta 0:00:01\r\u001b[K     |████████████████▌               | 102kB 4.8MB/s eta 0:00:01\r\u001b[K     |██████████████████              | 112kB 4.8MB/s eta 0:00:01\r\u001b[K     |███████████████████▊            | 122kB 4.8MB/s eta 0:00:01\r\u001b[K     |█████████████████████▍          | 133kB 4.8MB/s eta 0:00:01\r\u001b[K     |███████████████████████         | 143kB 4.8MB/s eta 0:00:01\r\u001b[K     |████████████████████████▊       | 153kB 4.8MB/s eta 0:00:01\r\u001b[K     |██████████████████████████▎     | 163kB 4.8MB/s eta 0:00:01\r\u001b[K     |████████████████████████████    | 174kB 4.8MB/s eta 0:00:01\r\u001b[K     |█████████████████████████████▋  | 184kB 4.8MB/s eta 0:00:01\r\u001b[K     |███████████████████████████████▎| 194kB 4.8MB/s eta 0:00:01\r\u001b[K     |████████████████████████████████| 204kB 4.8MB/s \n",
            "\u001b[?25hRequirement already satisfied, skipping upgrade: networkx in /usr/local/lib/python3.6/dist-packages (from pennylane) (2.4)\n",
            "Collecting semantic-version==2.6\n",
            "  Downloading https://files.pythonhosted.org/packages/28/be/3a7241d731ba89063780279a5433f5971c1cf41735b64a9f874b7c3ff995/semantic_version-2.6.0-py3-none-any.whl\n",
            "Requirement already satisfied, skipping upgrade: autograd in /usr/local/lib/python3.6/dist-packages (from pennylane) (1.3)\n",
            "Collecting appdirs\n",
            "  Downloading https://files.pythonhosted.org/packages/56/eb/810e700ed1349edde4cbdc1b2a21e28cdf115f9faf263f6bbf8447c1abf3/appdirs-1.4.3-py2.py3-none-any.whl\n",
            "Requirement already satisfied, skipping upgrade: scipy in /usr/local/lib/python3.6/dist-packages (from pennylane) (1.4.1)\n",
            "Requirement already satisfied, skipping upgrade: numpy in /usr/local/lib/python3.6/dist-packages (from pennylane) (1.17.5)\n",
            "Collecting toml\n",
            "  Downloading https://files.pythonhosted.org/packages/a2/12/ced7105d2de62fa7c8fb5fce92cc4ce66b57c95fb875e9318dba7f8c5db0/toml-0.10.0-py2.py3-none-any.whl\n",
            "Requirement already satisfied, skipping upgrade: decorator>=4.3.0 in /usr/local/lib/python3.6/dist-packages (from networkx->pennylane) (4.4.1)\n",
            "Requirement already satisfied, skipping upgrade: future>=0.15.2 in /usr/local/lib/python3.6/dist-packages (from autograd->pennylane) (0.16.0)\n",
            "Installing collected packages: semantic-version, appdirs, toml, pennylane\n",
            "  Found existing installation: semantic-version 2.8.4\n",
            "    Uninstalling semantic-version-2.8.4:\n",
            "      Successfully uninstalled semantic-version-2.8.4\n",
            "Successfully installed appdirs-1.4.3 pennylane-0.8.1 semantic-version-2.6.0 toml-0.10.0\n"
          ],
          "name": "stdout"
        }
      ]
    },
    {
      "cell_type": "code",
      "metadata": {
        "id": "za8E41UuW4EL",
        "colab_type": "code",
        "colab": {
          "base_uri": "https://localhost:8080/",
          "height": 357
        },
        "outputId": "72042399-fb41-4b02-a6c3-2ae0e353a33f"
      },
      "source": [
        "import pennylane as qml\n",
        "from pennylane import numpy as np\n",
        "from matplotlib import pyplot as plt\n",
        "print(qml.about())\n",
        "np.set_printoptions(precision=20)\n",
        "plt.style.use(\"seaborn-paper\")"
      ],
      "execution_count": 1,
      "outputs": [
        {
          "output_type": "stream",
          "text": [
            "Name: PennyLane\n",
            "Version: 0.8.1\n",
            "Summary: PennyLane is a Python quantum machine learning library by Xanadu Inc.\n",
            "Home-page: https://github.com/XanaduAI/pennylane\n",
            "Author: None\n",
            "Author-email: None\n",
            "License: Apache License 2.0\n",
            "Location: /usr/local/lib/python3.6/dist-packages\n",
            "Requires: networkx, numpy, toml, scipy, semantic-version, appdirs, autograd\n",
            "Required-by: \n",
            "Platform info:           Linux-4.14.137+-x86_64-with-Ubuntu-18.04-bionic\n",
            "Python version:          3.6.9\n",
            "Numpy version:           1.17.5\n",
            "Scipy version:           1.4.1\n",
            "Installed devices:\n",
            "- default.gaussian (PennyLane-0.8.1)\n",
            "- default.qubit (PennyLane-0.8.1)\n",
            "- default.tensor (PennyLane-0.8.1)\n",
            "- default.tensor.tf (PennyLane-0.8.1)\n",
            "None\n"
          ],
          "name": "stdout"
        }
      ]
    },
    {
      "cell_type": "markdown",
      "metadata": {
        "id": "YE_hQ2ugFtFt",
        "colab_type": "text"
      },
      "source": [
        "### Quantum node initialization\n",
        "\n",
        "\n",
        "*   It's important to set analytic to False.\n",
        "*   The quantum layer consists of only one parameterized gate $R_y$ and a $CNOT$ because:\n",
        "\n",
        "  $\\displaystyle R_\\phi = e^{-i\\frac{\\phi_y}{2}} = \\begin{bmatrix} cos(\\frac{\\phi}{2}) & -sin(\\frac{\\phi}{2}) \\\\ sin(\\frac{\\phi}{2}) & cos(\\frac{\\phi}{2}) \\end{bmatrix}$ \n",
        "    \n",
        "  so that a value of $\\pi/2$ will result in a Hadamard gate:\n",
        "  \n",
        "  $\\displaystyle H = \\frac{1}{\\sqrt{2}}\\begin{bmatrix} 1 & 1 \\\\ 1 & -1 \\end{bmatrix}$ \n",
        "\n",
        "*   The above will result in an entangled state: $ \\left | \\psi  \\right \\rangle$ $=$ $\\frac{1}{\\sqrt{2}} \\left (\\left | 00  \\right \\rangle + \\left | 11  \\right \\rangle  \\right )$\n",
        "\n"
      ]
    },
    {
      "cell_type": "code",
      "metadata": {
        "id": "VS-_yS0VW4EU",
        "colab_type": "code",
        "colab": {}
      },
      "source": [
        "# the number of shots will be varied during the notebook\n",
        "dev1 = qml.device('default.qubit',wires=2,analytic=False,shots=1000)\n",
        "\n",
        "@qml.qnode(dev1)\n",
        "def circuit(params):\n",
        "\n",
        "    qml.RY(params[0],wires=0)\n",
        "    qml.CNOT(wires=[0,1])\n",
        "    return qml.expval(qml.Hermitian(H,wires=[0,1]))"
      ],
      "execution_count": 0,
      "outputs": []
    },
    {
      "cell_type": "markdown",
      "metadata": {
        "id": "hLHe4rtqKZXZ",
        "colab_type": "text"
      },
      "source": [
        "\n",
        "\n",
        "*   The most important thing in our circuit is the observable that we will measure. Pennylane offers us a way to do that by computing an arbitrary observable. \n",
        "*   By computing the density matrix $\\rho = |\\psi\\rangle\\langle\\psi|$ we can use it directly as the Hermitian obervable $A$.\n",
        "$\\langle A\\rangle = \\langle \\psi|A|\\psi\\rangle$\n"
      ]
    },
    {
      "cell_type": "code",
      "metadata": {
        "id": "yVFx6PR-W4Eb",
        "colab_type": "code",
        "outputId": "e5b29c2e-39a0-4355-f4c2-0adfc9690e97",
        "colab": {
          "base_uri": "https://localhost:8080/",
          "height": 51
        }
      },
      "source": [
        "y = np.array([1/np.sqrt(2),0,0,1/np.sqrt(2)])\n",
        "H = np.outer(y,y)\n",
        "print(circuit([np.pi/2]))\n",
        "\n",
        "# verifying \n",
        "\n",
        "state = dev1.state\n",
        "abs(state.conj().T.dot(H).dot(state))"
      ],
      "execution_count": 115,
      "outputs": [
        {
          "output_type": "stream",
          "text": [
            "0.9999999999999999\n"
          ],
          "name": "stdout"
        },
        {
          "output_type": "execute_result",
          "data": {
            "text/plain": [
              "0.9999999999999998"
            ]
          },
          "metadata": {
            "tags": []
          },
          "execution_count": 115
        }
      ]
    },
    {
      "cell_type": "code",
      "metadata": {
        "id": "91PzhUiEW4Em",
        "colab_type": "code",
        "colab": {}
      },
      "source": [
        "# this loss function is used for dealing with probabilities\n",
        "def cross_entropy(predictions, targets, epsilon=1e-20):\n",
        "    predictions = np.clip(predictions, epsilon, 1. - epsilon)\n",
        "    N = predictions.shape[0]\n",
        "    ce = -np.sum(targets*np.log10(predictions+epsilon))/N\n",
        "    return ce"
      ],
      "execution_count": 0,
      "outputs": []
    },
    {
      "cell_type": "markdown",
      "metadata": {
        "id": "MFWhV_wqNxJM",
        "colab_type": "text"
      },
      "source": [
        "### Creating cost fucntion"
      ]
    },
    {
      "cell_type": "code",
      "metadata": {
        "id": "zwIrQNevW4Es",
        "colab_type": "code",
        "colab": {}
      },
      "source": [
        "ground_labels = np.array([0.5,0,0,0.5])\n",
        "\n",
        "def cost(var):\n",
        "#    return cross_entropy(circuit(var),la) if i'm going to use probs value form qnode\n",
        "    return abs(1 - circuit(var))"
      ],
      "execution_count": 0,
      "outputs": []
    },
    {
      "cell_type": "markdown",
      "metadata": {
        "id": "xXHbIBB_N1kd",
        "colab_type": "text"
      },
      "source": [
        "### Weight initialization"
      ]
    },
    {
      "cell_type": "code",
      "metadata": {
        "id": "yzWvqX0pW4Ez",
        "colab_type": "code",
        "outputId": "7165a6ca-94d3-4fd5-e429-076530605ad3",
        "colab": {
          "base_uri": "https://localhost:8080/",
          "height": 51
        }
      },
      "source": [
        "np.random.seed(1000)\n",
        "init_params = np.random.rand(1) \n",
        "print(init_params)\n",
        "print(cost(init_params))"
      ],
      "execution_count": 118,
      "outputs": [
        {
          "output_type": "stream",
          "text": [
            "[0.6535895854646095]\n",
            "0.22000000000000008\n"
          ],
          "name": "stdout"
        }
      ]
    },
    {
      "cell_type": "markdown",
      "metadata": {
        "id": "xGlR2go3N5lQ",
        "colab_type": "text"
      },
      "source": [
        "## Training section\n",
        "\n",
        "this cell will run the quantum circuits with $1000$ shots"
      ]
    },
    {
      "cell_type": "code",
      "metadata": {
        "id": "PSvJ5qFEW4E6",
        "colab_type": "code",
        "colab": {
          "base_uri": "https://localhost:8080/",
          "height": 374
        },
        "outputId": "d67178fe-dfbd-4691-87f3-a04935497717"
      },
      "source": [
        "opt = qml.GradientDescentOptimizer(stepsize=0.1)\n",
        "\n",
        "# set the number of steps\n",
        "steps = 2000\n",
        "# set the initial parameter values\n",
        "params = init_params\n",
        "dev1.shots = 1000\n",
        "dev1.analytic = False\n",
        "\n",
        "cost1000 = []\n",
        "for i in range(steps):\n",
        "    # update the circuit parameters\n",
        "    params = opt.step(cost, params)\n",
        "    t = cost(params)\n",
        "    cost1000.append(t)\n",
        "\n",
        "    if (i + 1) % 100 == 0:\n",
        "        print(\"Cost after step {:5d}: {: .30f}\".format(i + 1, t))\n",
        "\n",
        "print(\"Optimized rotation angles: {}\".format(params))\n",
        "final_1000 = params "
      ],
      "execution_count": 119,
      "outputs": [
        {
          "output_type": "stream",
          "text": [
            "Cost after step   100:  0.000000000000000111022302462516\n",
            "Cost after step   200:  0.000000000000000111022302462516\n",
            "Cost after step   300:  0.000000000000000111022302462516\n",
            "Cost after step   400:  0.000000000000000111022302462516\n",
            "Cost after step   500:  0.000000000000000111022302462516\n",
            "Cost after step   600:  0.000000000000000111022302462516\n",
            "Cost after step   700:  0.000000000000000111022302462516\n",
            "Cost after step   800:  0.000000000000000111022302462516\n",
            "Cost after step   900:  0.000000000000000111022302462516\n",
            "Cost after step  1000:  0.000000000000000111022302462516\n",
            "Cost after step  1100:  0.000000000000000111022302462516\n",
            "Cost after step  1200:  0.000000000000000111022302462516\n",
            "Cost after step  1300:  0.000000000000000111022302462516\n",
            "Cost after step  1400:  0.000000000000000111022302462516\n",
            "Cost after step  1500:  0.000000000000000111022302462516\n",
            "Cost after step  1600:  0.000000000000000111022302462516\n",
            "Cost after step  1700:  0.000000000000000111022302462516\n",
            "Cost after step  1800:  0.000000000000000111022302462516\n",
            "Cost after step  1900:  0.000000000000000111022302462516\n",
            "Cost after step  2000:  0.000000000000000111022302462516\n",
            "Optimized rotation angles: [1.5712895854646094]\n"
          ],
          "name": "stdout"
        }
      ]
    },
    {
      "cell_type": "markdown",
      "metadata": {
        "id": "EM5SuHazQCzF",
        "colab_type": "text"
      },
      "source": [
        "**$100$ shots** for this cell"
      ]
    },
    {
      "cell_type": "code",
      "metadata": {
        "id": "BrQBTsDLW4FA",
        "colab_type": "code",
        "colab": {
          "base_uri": "https://localhost:8080/",
          "height": 374
        },
        "outputId": "008a3622-59b6-4cfb-db4d-d23613bae4c8"
      },
      "source": [
        "opt = qml.GradientDescentOptimizer(stepsize=0.1)\n",
        "\n",
        "# set the number of steps\n",
        "steps = 2000\n",
        "# set the initial parameter values\n",
        "params = init_params\n",
        "dev1.shots = 100\n",
        "dev1.analytic = False\n",
        "cost100 = []\n",
        "for i in range(steps):\n",
        "    # update the circuit parameters\n",
        "    params = opt.step(cost, params)\n",
        "    t = cost(params)\n",
        "    cost100.append(t)\n",
        "\n",
        "    if (i + 1) % 100 == 0:\n",
        "        print(\"Cost after step {:5d}: {: .30f}\".format(i + 1, t))\n",
        "\n",
        "print(\"Optimized rotation angles: {}\".format(params))\n",
        "final_100 = params"
      ],
      "execution_count": 120,
      "outputs": [
        {
          "output_type": "stream",
          "text": [
            "Cost after step   100:  0.000000000000000111022302462516\n",
            "Cost after step   200:  0.000000000000000111022302462516\n",
            "Cost after step   300:  0.000000000000000111022302462516\n",
            "Cost after step   400:  0.000000000000000111022302462516\n",
            "Cost after step   500:  0.000000000000000111022302462516\n",
            "Cost after step   600:  0.000000000000000111022302462516\n",
            "Cost after step   700:  0.000000000000000111022302462516\n",
            "Cost after step   800:  0.000000000000000111022302462516\n",
            "Cost after step   900:  0.000000000000000111022302462516\n",
            "Cost after step  1000:  0.000000000000000111022302462516\n",
            "Cost after step  1100:  0.000000000000000111022302462516\n",
            "Cost after step  1200:  0.000000000000000111022302462516\n",
            "Cost after step  1300:  0.000000000000000111022302462516\n",
            "Cost after step  1400:  0.000000000000000111022302462516\n",
            "Cost after step  1500:  0.000000000000000111022302462516\n",
            "Cost after step  1600:  0.000000000000000111022302462516\n",
            "Cost after step  1700:  0.000000000000000111022302462516\n",
            "Cost after step  1800:  0.000000000000000111022302462516\n",
            "Cost after step  1900:  0.000000000000000111022302462516\n",
            "Cost after step  2000:  0.000000000000000111022302462516\n",
            "Optimized rotation angles: [1.5730895854646096]\n"
          ],
          "name": "stdout"
        }
      ]
    },
    {
      "cell_type": "markdown",
      "metadata": {
        "id": "8lXz9_NiQVhM",
        "colab_type": "text"
      },
      "source": [
        "**$10$ shots**"
      ]
    },
    {
      "cell_type": "code",
      "metadata": {
        "id": "dd6uuyQJW4FF",
        "colab_type": "code",
        "colab": {
          "base_uri": "https://localhost:8080/",
          "height": 374
        },
        "outputId": "16aa604e-bcbc-4d7f-cab8-e72af1c5577e"
      },
      "source": [
        "opt = qml.GradientDescentOptimizer(stepsize=0.1)\n",
        "\n",
        "# set the number of steps\n",
        "steps = 2000\n",
        "# set the initial parameter values\n",
        "params = init_params\n",
        "dev1.shots = 10\n",
        "dev1.analytic = False\n",
        "cost10 = []\n",
        "for i in range(steps):\n",
        "    # update the circuit parameters\n",
        "    params = opt.step(cost, params)\n",
        "    t = cost(params)\n",
        "    cost10.append(t)\n",
        "\n",
        "    if (i + 1) % 100 == 0:\n",
        "        print(\"Cost after step {:5d}: {: .30f}\".format(i + 1, t))\n",
        "\n",
        "print(\"Optimized rotation angles: {}\".format(params))\n",
        "final_10 = params"
      ],
      "execution_count": 121,
      "outputs": [
        {
          "output_type": "stream",
          "text": [
            "Cost after step   100:  0.000000000000000222044604925031\n",
            "Cost after step   200:  0.000000000000000222044604925031\n",
            "Cost after step   300:  0.000000000000000222044604925031\n",
            "Cost after step   400:  0.000000000000000222044604925031\n",
            "Cost after step   500:  0.000000000000000222044604925031\n",
            "Cost after step   600:  0.000000000000000222044604925031\n",
            "Cost after step   700:  0.000000000000000222044604925031\n",
            "Cost after step   800:  0.000000000000000222044604925031\n",
            "Cost after step   900:  0.000000000000000222044604925031\n",
            "Cost after step  1000:  0.000000000000000222044604925031\n",
            "Cost after step  1100:  0.000000000000000222044604925031\n",
            "Cost after step  1200:  0.000000000000000222044604925031\n",
            "Cost after step  1300:  0.000000000000000222044604925031\n",
            "Cost after step  1400:  0.000000000000000222044604925031\n",
            "Cost after step  1500:  0.000000000000000222044604925031\n",
            "Cost after step  1600:  0.000000000000000222044604925031\n",
            "Cost after step  1700:  0.000000000000000222044604925031\n",
            "Cost after step  1800:  0.000000000000000222044604925031\n",
            "Cost after step  1900:  0.000000000000000222044604925031\n",
            "Cost after step  2000:  0.000000000000000222044604925031\n",
            "Optimized rotation angles: [1.6135895854646107]\n"
          ],
          "name": "stdout"
        }
      ]
    },
    {
      "cell_type": "markdown",
      "metadata": {
        "id": "yzGZVVX9Qfw5",
        "colab_type": "text"
      },
      "source": [
        "**only $1$ shot**"
      ]
    },
    {
      "cell_type": "code",
      "metadata": {
        "id": "sxH2cVRnW4FK",
        "colab_type": "code",
        "colab": {
          "base_uri": "https://localhost:8080/",
          "height": 374
        },
        "outputId": "a34066eb-ac63-46e7-a024-93aeadd64fb4"
      },
      "source": [
        "opt = qml.GradientDescentOptimizer(stepsize=0.1)\n",
        "\n",
        "# set the number of steps\n",
        "steps = 2000\n",
        "# set the initial parameter values\n",
        "params1 = init_params\n",
        "dev1.shots = 1\n",
        "dev1.analytic = False\n",
        "cost1 = []\n",
        "for i in range(steps):\n",
        "    # update the circuit parameters\n",
        "    params1 = opt.step(cost, params1)\n",
        "    t = cost(params1)\n",
        "    cost1.append(t)\n",
        "\n",
        "    if (i + 1) % 100 == 0:\n",
        "        print(\"Cost after step {:5d}: {: .30f}\".format(i + 1, t))\n",
        "\n",
        "print(\"Optimized rotation angles: {}\".format(params1))\n",
        "final_1 = params"
      ],
      "execution_count": 122,
      "outputs": [
        {
          "output_type": "stream",
          "text": [
            "Cost after step   100:  0.000000000000000222044604925031\n",
            "Cost after step   200:  0.000000000000000222044604925031\n",
            "Cost after step   300:  0.000000000000000222044604925031\n",
            "Cost after step   400:  0.000000000000000222044604925031\n",
            "Cost after step   500:  0.000000000000000222044604925031\n",
            "Cost after step   600:  0.000000000000000222044604925031\n",
            "Cost after step   700:  0.000000000000000222044604925031\n",
            "Cost after step   800:  0.000000000000000222044604925031\n",
            "Cost after step   900:  0.000000000000000222044604925031\n",
            "Cost after step  1000:  0.000000000000000222044604925031\n",
            "Cost after step  1100:  0.000000000000000222044604925031\n",
            "Cost after step  1200:  0.000000000000000222044604925031\n",
            "Cost after step  1300:  0.000000000000000222044604925031\n",
            "Cost after step  1400:  0.000000000000000222044604925031\n",
            "Cost after step  1500:  0.000000000000000222044604925031\n",
            "Cost after step  1600:  0.000000000000000222044604925031\n",
            "Cost after step  1700:  0.000000000000000222044604925031\n",
            "Cost after step  1800:  0.000000000000000222044604925031\n",
            "Cost after step  1900:  0.000000000000000222044604925031\n",
            "Cost after step  2000:  0.000000000000000222044604925031\n",
            "Optimized rotation angles: [1.6035895854646103]\n"
          ],
          "name": "stdout"
        }
      ]
    },
    {
      "cell_type": "markdown",
      "metadata": {
        "id": "g3bcze_OQnsd",
        "colab_type": "text"
      },
      "source": [
        "**Analytical simulation**"
      ]
    },
    {
      "cell_type": "code",
      "metadata": {
        "id": "Gnb7fvD3W4FS",
        "colab_type": "code",
        "colab": {
          "base_uri": "https://localhost:8080/",
          "height": 204
        },
        "outputId": "01357b40-d7b3-4387-abe8-4e1bffbe021f"
      },
      "source": [
        "opt = qml.GradientDescentOptimizer(stepsize=0.1)\n",
        "\n",
        "# set the number of steps\n",
        "steps = 1000\n",
        "# set the initial parameter values\n",
        "params = init_params\n",
        "dev1.shots = 1024\n",
        "dev1.analytic = True\n",
        "\n",
        "cost_analytic = []\n",
        "for i in range(steps):\n",
        "    # update the circuit parameters\n",
        "    params = opt.step(cost, params)\n",
        "    t = cost(params)\n",
        "    cost_analytic.append(t)\n",
        "\n",
        "    if (i + 1) % 100 == 0:\n",
        "        print(\"Cost after step {:5d}: {: .30f}\".format(i + 1, t))\n",
        "\n",
        "print(\"Optimized rotation angles: {}\".format(params))\n",
        "final = params"
      ],
      "execution_count": 123,
      "outputs": [
        {
          "output_type": "stream",
          "text": [
            "Cost after step   100:  0.000008643152367482365150408441\n",
            "Cost after step   200:  0.000000000302968539145354043285\n",
            "Cost after step   300:  0.000000000000011102230246251565\n",
            "Cost after step   400:  0.000000000000000444089209850063\n",
            "Cost after step   500:  0.000000000000000444089209850063\n",
            "Cost after step   600:  0.000000000000000444089209850063\n",
            "Cost after step   700:  0.000000000000000444089209850063\n",
            "Cost after step   800:  0.000000000000000444089209850063\n",
            "Cost after step   900:  0.000000000000000444089209850063\n",
            "Cost after step  1000:  0.000000000000000444089209850063\n",
            "Optimized rotation angles: [1.5707963267948943]\n"
          ],
          "name": "stdout"
        }
      ]
    },
    {
      "cell_type": "markdown",
      "metadata": {
        "id": "CNIJwkFoSe9S",
        "colab_type": "text"
      },
      "source": [
        "### Plotting the training history"
      ]
    },
    {
      "cell_type": "code",
      "metadata": {
        "id": "d1jguXv_W4Ff",
        "colab_type": "code",
        "outputId": "d098a96b-2e73-43b7-b5ae-95e72b542afe",
        "colab": {
          "base_uri": "https://localhost:8080/",
          "height": 305
        }
      },
      "source": [
        "plt.plot(cost1000[:500] ,label=\"QSGD (1000 shots)\")\n",
        "plt.legend()"
      ],
      "execution_count": 124,
      "outputs": [
        {
          "output_type": "execute_result",
          "data": {
            "text/plain": [
              "<matplotlib.legend.Legend at 0x7f7bfe00d940>"
            ]
          },
          "metadata": {
            "tags": []
          },
          "execution_count": 124
        },
        {
          "output_type": "display_data",
          "data": {
            "image/png": "[encoded data removed]",
            "text/plain": [
              "<Figure size 460.8x316.8 with 1 Axes>"
            ]
          },
          "metadata": {
            "tags": []
          }
        }
      ]
    },
    {
      "cell_type": "code",
      "metadata": {
        "id": "mJvwy-8iW4Fl",
        "colab_type": "code",
        "outputId": "90324ff6-daea-484d-84d0-6bff4bd13552",
        "colab": {
          "base_uri": "https://localhost:8080/",
          "height": 305
        }
      },
      "source": [
        "plt.plot(cost100[:500], \"*\", label=\"QSGD (100 shots)\")\n",
        "plt.legend()"
      ],
      "execution_count": 125,
      "outputs": [
        {
          "output_type": "execute_result",
          "data": {
            "text/plain": [
              "<matplotlib.legend.Legend at 0x7f7bfe1f9940>"
            ]
          },
          "metadata": {
            "tags": []
          },
          "execution_count": 125
        },
        {
          "output_type": "display_data",
          "data": {
            "image/png": "[encoded data removed]",
            "text/plain": [
              "<Figure size 460.8x316.8 with 1 Axes>"
            ]
          },
          "metadata": {
            "tags": []
          }
        }
      ]
    },
    {
      "cell_type": "code",
      "metadata": {
        "id": "-YWIy9Q4W4Fq",
        "colab_type": "code",
        "outputId": "3396ba06-ce6b-4d6e-d8a5-0d072b79e03e",
        "colab": {
          "base_uri": "https://localhost:8080/",
          "height": 305
        }
      },
      "source": [
        "plt.plot(cost10[:500],\".\", label=\"QSGD (10 shot)\")\n",
        "plt.legend()"
      ],
      "execution_count": 126,
      "outputs": [
        {
          "output_type": "execute_result",
          "data": {
            "text/plain": [
              "<matplotlib.legend.Legend at 0x7f7bfe15cd68>"
            ]
          },
          "metadata": {
            "tags": []
          },
          "execution_count": 126
        },
        {
          "output_type": "display_data",
          "data": {
            "image/png": "[encoded data removed]",
            "text/plain": [
              "<Figure size 460.8x316.8 with 1 Axes>"
            ]
          },
          "metadata": {
            "tags": []
          }
        }
      ]
    },
    {
      "cell_type": "code",
      "metadata": {
        "id": "CQPSSCf0W4Fx",
        "colab_type": "code",
        "outputId": "882fe926-cc54-4bf4-893f-5b3fee34edd8",
        "colab": {
          "base_uri": "https://localhost:8080/",
          "height": 305
        }
      },
      "source": [
        "plt.plot(cost1[:500],\"^\", label=\"QSGD (1 shot)\")\n",
        "plt.legend()"
      ],
      "execution_count": 127,
      "outputs": [
        {
          "output_type": "execute_result",
          "data": {
            "text/plain": [
              "<matplotlib.legend.Legend at 0x7f7bfdfc1a90>"
            ]
          },
          "metadata": {
            "tags": []
          },
          "execution_count": 127
        },
        {
          "output_type": "display_data",
          "data": {
            "image/png": "[encoded data removed]",
            "text/plain": [
              "<Figure size 460.8x316.8 with 1 Axes>"
            ]
          },
          "metadata": {
            "tags": []
          }
        }
      ]
    },
    {
      "cell_type": "code",
      "metadata": {
        "id": "7nYyLPK6W4F4",
        "colab_type": "code",
        "outputId": "a3cf2c00-0f87-4aaf-daf1-22982b0bad2c",
        "colab": {
          "base_uri": "https://localhost:8080/",
          "height": 305
        }
      },
      "source": [
        "plt.plot(cost_analytic[:500],\"-\", label=\"gradient descent\")\n",
        "plt.legend()"
      ],
      "execution_count": 128,
      "outputs": [
        {
          "output_type": "execute_result",
          "data": {
            "text/plain": [
              "<matplotlib.legend.Legend at 0x7f7bfde549e8>"
            ]
          },
          "metadata": {
            "tags": []
          },
          "execution_count": 128
        },
        {
          "output_type": "display_data",
          "data": {
            "image/png": "[encoded data removed]",
            "text/plain": [
              "<Figure size 460.8x316.8 with 1 Axes>"
            ]
          },
          "metadata": {
            "tags": []
          }
        }
      ]
    },
    {
      "cell_type": "markdown",
      "metadata": {
        "id": "HYBlbwHFWyzL",
        "colab_type": "text"
      },
      "source": [
        "The lowest value for each simulation"
      ]
    },
    {
      "cell_type": "code",
      "metadata": {
        "id": "Vx4yEzvgW7Cs",
        "colab_type": "code",
        "colab": {
          "base_uri": "https://localhost:8080/",
          "height": 102
        },
        "outputId": "063fd1bb-f82b-449d-bfce-746b9c6e745c"
      },
      "source": [
        "print(\"1000 shots = \",cost1000[np.argmin(cost1000)], ' iter value is ', np.argmin(cost1000))\n",
        "print(\"100 shots = \",cost100[np.argmin(cost100)], ' iter value is ', np.argmin(cost100))\n",
        "print(\"10 shots = \",cost10[np.argmin(cost10)], ' iter value is ', np.argmin(cost10))\n",
        "print(\"1 shots = \",cost1[np.argmin(cost1)], ' iter value is ', np.argmin(cost1))\n",
        "print(\"Analytic = \",cost_analytic[np.argmin(cost_analytic)], ' iter value is ', np.argmin(cost_analytic))"
      ],
      "execution_count": 136,
      "outputs": [
        {
          "output_type": "stream",
          "text": [
            "1000 shots =  1.1102230246251565e-16  iter value is  46\n",
            "100 shots =  1.1102230246251565e-16  iter value is  22\n",
            "10 shots =  2.220446049250313e-16  iter value is  8\n",
            "1 shots =  2.220446049250313e-16  iter value is  0\n",
            "Analytic =  2.220446049250313e-16  iter value is  357\n"
          ],
          "name": "stdout"
        }
      ]
    },
    {
      "cell_type": "code",
      "metadata": {
        "id": "Kj2HdPRYW4GR",
        "colab_type": "code",
        "outputId": "2d7f4278-be4a-42b4-c2ed-eee7fed1378a",
        "colab": {
          "base_uri": "https://localhost:8080/",
          "height": 102
        }
      },
      "source": [
        "# values of the final weights\n",
        "final,final_1000,final_100,final_10,final_1"
      ],
      "execution_count": 111,
      "outputs": [
        {
          "output_type": "execute_result",
          "data": {
            "text/plain": [
              "(array([1.5707963267948943]),\n",
              " array([1.571308958546461]),\n",
              " array([1.5733589585464625]),\n",
              " array([1.610358958546463]),\n",
              " array([1.610358958546463]))"
            ]
          },
          "metadata": {
            "tags": []
          },
          "execution_count": 111
        }
      ]
    }
  ]
}