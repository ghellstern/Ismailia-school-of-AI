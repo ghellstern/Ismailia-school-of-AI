{
  "nbformat": 4,
  "nbformat_minor": 0,
  "metadata": {
    "kernelspec": {
      "display_name": "Python 3",
      "language": "python",
      "name": "python3"
    },
    "language_info": {
      "codemirror_mode": {
        "name": "ipython",
        "version": 3
      },
      "file_extension": ".py",
      "mimetype": "text/x-python",
      "name": "python",
      "nbconvert_exporter": "python",
      "pygments_lexer": "ipython3",
      "version": "3.6.9"
    },
    "colab": {
      "name": "pennylane-quantum-state-learning.ipynb",
      "provenance": [],
      "include_colab_link": true
    }
  },
  "cells": [
    {
      "cell_type": "markdown",
      "metadata": {
        "id": "view-in-github",
        "colab_type": "text"
      },
      "source": [
        "<a href=\"https://colab.research.google.com/github/kareem1925/Ismailia-school-of-AI/blob/master/machine%20learning%20for%20classifying%20quantum%20states/pennylane-quantum-state-learning.ipynb\" target=\"_parent\"><img src=\"https://colab.research.google.com/assets/colab-badge.svg\" alt=\"Open In Colab\"/></a>"
      ]
    },
    {
      "cell_type": "code",
      "metadata": {
        "id": "Hq1xp_OiW5OF",
        "colab_type": "code",
        "colab": {
          "base_uri": "https://localhost:8080/",
          "height": 377
        },
        "outputId": "b8c1631c-860f-4c93-ab45-d2ed27d897a7"
      },
      "source": [
        "!pip install pennylane --upgrade"
      ],
      "execution_count": 1,
      "outputs": [
        {
          "output_type": "stream",
          "text": [
            "Collecting pennylane\n",
            "\u001b[?25l  Downloading https://files.pythonhosted.org/packages/c5/41/29728add010dbe35f1c6682dd79e7369e9a69659328df0050f5b589052df/PennyLane-0.8.1-py3-none-any.whl (199kB)\n",
            "\r\u001b[K     |█▋                              | 10kB 19.2MB/s eta 0:00:01\r\u001b[K     |███▎                            | 20kB 1.8MB/s eta 0:00:01\r\u001b[K     |█████                           | 30kB 2.6MB/s eta 0:00:01\r\u001b[K     |██████▋                         | 40kB 3.5MB/s eta 0:00:01\r\u001b[K     |████████▎                       | 51kB 2.2MB/s eta 0:00:01\r\u001b[K     |█████████▉                      | 61kB 2.6MB/s eta 0:00:01\r\u001b[K     |███████████▌                    | 71kB 3.0MB/s eta 0:00:01\r\u001b[K     |█████████████▏                  | 81kB 3.4MB/s eta 0:00:01\r\u001b[K     |██████████████▉                 | 92kB 3.8MB/s eta 0:00:01\r\u001b[K     |████████████████▌               | 102kB 2.9MB/s eta 0:00:01\r\u001b[K     |██████████████████              | 112kB 2.9MB/s eta 0:00:01\r\u001b[K     |███████████████████▊            | 122kB 2.9MB/s eta 0:00:01\r\u001b[K     |█████████████████████▍          | 133kB 2.9MB/s eta 0:00:01\r\u001b[K     |███████████████████████         | 143kB 2.9MB/s eta 0:00:01\r\u001b[K     |████████████████████████▊       | 153kB 2.9MB/s eta 0:00:01\r\u001b[K     |██████████████████████████▎     | 163kB 2.9MB/s eta 0:00:01\r\u001b[K     |████████████████████████████    | 174kB 2.9MB/s eta 0:00:01\r\u001b[K     |█████████████████████████████▋  | 184kB 2.9MB/s eta 0:00:01\r\u001b[K     |███████████████████████████████▎| 194kB 2.9MB/s eta 0:00:01\r\u001b[K     |████████████████████████████████| 204kB 2.9MB/s \n",
            "\u001b[?25hCollecting appdirs\n",
            "  Downloading https://files.pythonhosted.org/packages/56/eb/810e700ed1349edde4cbdc1b2a21e28cdf115f9faf263f6bbf8447c1abf3/appdirs-1.4.3-py2.py3-none-any.whl\n",
            "Requirement already satisfied, skipping upgrade: numpy in /usr/local/lib/python3.6/dist-packages (from pennylane) (1.17.5)\n",
            "Collecting toml\n",
            "  Downloading https://files.pythonhosted.org/packages/a2/12/ced7105d2de62fa7c8fb5fce92cc4ce66b57c95fb875e9318dba7f8c5db0/toml-0.10.0-py2.py3-none-any.whl\n",
            "Requirement already satisfied, skipping upgrade: networkx in /usr/local/lib/python3.6/dist-packages (from pennylane) (2.4)\n",
            "Requirement already satisfied, skipping upgrade: scipy in /usr/local/lib/python3.6/dist-packages (from pennylane) (1.4.1)\n",
            "Requirement already satisfied, skipping upgrade: autograd in /usr/local/lib/python3.6/dist-packages (from pennylane) (1.3)\n",
            "Collecting semantic-version==2.6\n",
            "  Downloading https://files.pythonhosted.org/packages/28/be/3a7241d731ba89063780279a5433f5971c1cf41735b64a9f874b7c3ff995/semantic_version-2.6.0-py3-none-any.whl\n",
            "Requirement already satisfied, skipping upgrade: decorator>=4.3.0 in /usr/local/lib/python3.6/dist-packages (from networkx->pennylane) (4.4.1)\n",
            "Requirement already satisfied, skipping upgrade: future>=0.15.2 in /usr/local/lib/python3.6/dist-packages (from autograd->pennylane) (0.16.0)\n",
            "Installing collected packages: appdirs, toml, semantic-version, pennylane\n",
            "  Found existing installation: semantic-version 2.8.4\n",
            "    Uninstalling semantic-version-2.8.4:\n",
            "      Successfully uninstalled semantic-version-2.8.4\n",
            "Successfully installed appdirs-1.4.3 pennylane-0.8.1 semantic-version-2.6.0 toml-0.10.0\n"
          ],
          "name": "stdout"
        }
      ]
    },
    {
      "cell_type": "code",
      "metadata": {
        "id": "PxFczF-9W9ez",
        "colab_type": "code",
        "colab": {}
      },
      "source": [
        "import os\n",
        "os.kill(os.getpid(), 9)"
      ],
      "execution_count": 0,
      "outputs": []
    },
    {
      "cell_type": "code",
      "metadata": {
        "id": "za8E41UuW4EL",
        "colab_type": "code",
        "colab": {}
      },
      "source": [
        "import pennylane as qml\n",
        "from pennylane import numpy as np"
      ],
      "execution_count": 0,
      "outputs": []
    },
    {
      "cell_type": "code",
      "metadata": {
        "id": "VS-_yS0VW4EU",
        "colab_type": "code",
        "colab": {}
      },
      "source": [
        "dev1 = qml.device('default.qubit',wires=2,analytic=False,shots=1000)\n",
        "\n",
        "@qml.qnode(dev1)\n",
        "def circuit(params):\n",
        "    qml.RY(params[0],wires=0)\n",
        "    qml.CNOT(wires=[0,1])\n",
        "    return qml.expval(qml.Hermitian(H,wires=[0,1]))"
      ],
      "execution_count": 0,
      "outputs": []
    },
    {
      "cell_type": "code",
      "metadata": {
        "id": "yVFx6PR-W4Eb",
        "colab_type": "code",
        "colab": {
          "base_uri": "https://localhost:8080/",
          "height": 51
        },
        "outputId": "57e630fc-d5bd-4f42-cd86-f79815f7b0dc"
      },
      "source": [
        "y = np.array([1/np.sqrt(2),0,0,1/np.sqrt(2)])\n",
        "H = np.outer(y,y)\n",
        "print(circuit([np.pi/2]))\n",
        "dev1.state"
      ],
      "execution_count": 3,
      "outputs": [
        {
          "output_type": "stream",
          "text": [
            "0.9999999999999999\n"
          ],
          "name": "stdout"
        },
        {
          "output_type": "execute_result",
          "data": {
            "text/plain": [
              "array([0.70710678+0.j, 0.        +0.j, 0.        +0.j, 0.70710678+0.j])"
            ]
          },
          "metadata": {
            "tags": []
          },
          "execution_count": 3
        }
      ]
    },
    {
      "cell_type": "code",
      "metadata": {
        "id": "91PzhUiEW4Em",
        "colab_type": "code",
        "colab": {}
      },
      "source": [
        "def cross_entropy(predictions, targets, epsilon=1e-20):\n",
        "    \"\"\"\n",
        "    Computes cross entropy between targets (encoded as one-hot vectors)\n",
        "    and predictions. \n",
        "    Input: predictions (N, k) ndarray\n",
        "           targets (N, k) ndarray        \n",
        "    Returns: scalar\n",
        "    \"\"\"\n",
        "    predictions = np.clip(predictions, epsilon, 1. - epsilon)\n",
        "    N = predictions.shape[0]\n",
        "    ce = -np.sum(targets*np.log10(predictions+epsilon))/N\n",
        "    return ce"
      ],
      "execution_count": 0,
      "outputs": []
    },
    {
      "cell_type": "code",
      "metadata": {
        "id": "zwIrQNevW4Es",
        "colab_type": "code",
        "colab": {}
      },
      "source": [
        "la = np.array([0.5,0,0,0.5])\n",
        "def cost(var):\n",
        "#    return cross_entropy(circuit(var),la) if i'm going to use probs value form qnode\n",
        "    return abs(1 - circuit(var))"
      ],
      "execution_count": 0,
      "outputs": []
    },
    {
      "cell_type": "code",
      "metadata": {
        "id": "yzWvqX0pW4Ez",
        "colab_type": "code",
        "colab": {
          "base_uri": "https://localhost:8080/",
          "height": 51
        },
        "outputId": "de47aded-8b74-466c-a3d4-228e8ccdf8f8"
      },
      "source": [
        "np.random.seed(6)\n",
        "init_params = np.random.rand(1)\n",
        "print(init_params)\n",
        "print(cost(init_params))"
      ],
      "execution_count": 6,
      "outputs": [
        {
          "output_type": "stream",
          "text": [
            "[0.89286015]\n",
            "0.10100000000000009\n"
          ],
          "name": "stdout"
        }
      ]
    },
    {
      "cell_type": "code",
      "metadata": {
        "id": "PSvJ5qFEW4E6",
        "colab_type": "code",
        "colab": {}
      },
      "source": [
        "opt = qml.GradientDescentOptimizer(stepsize=0.1)\n",
        "\n",
        "# set the number of steps\n",
        "steps = 1000\n",
        "# set the initial parameter values\n",
        "params = init_params\n",
        "los = np.inf\n",
        "\n",
        "cost1000 = []\n",
        "for i in range(steps):\n",
        "    # update the circuit parameters\n",
        "    params = opt.step(cost, params)\n",
        "    t = cost(params)\n",
        "    cost1000.append(t)\n",
        "\n",
        "    if (i + 1) % 1 == 0:\n",
        "        print(\"Cost after step {:5d}: {: .30f}\".format(i + 1, t))\n",
        "\n",
        "print(\"Optimized rotation angles: {}\".format(params))\n",
        "final_1000 = params "
      ],
      "execution_count": 0,
      "outputs": []
    },
    {
      "cell_type": "code",
      "metadata": {
        "id": "BrQBTsDLW4FA",
        "colab_type": "code",
        "colab": {}
      },
      "source": [
        "opt = qml.GradientDescentOptimizer(stepsize=0.1)\n",
        "\n",
        "# set the number of steps\n",
        "steps = 1000\n",
        "# set the initial parameter values\n",
        "params = init_params\n",
        "dev1.shots = 100\n",
        "\n",
        "cost100 = []\n",
        "for i in range(steps):\n",
        "    # update the circuit parameters\n",
        "    params = opt.step(cost, params)\n",
        "    t = cost(params)\n",
        "    cost100.append(t)\n",
        "\n",
        "    if (i + 1) % 1 == 0:\n",
        "        print(\"Cost after step {:5d}: {: .30f}\".format(i + 1, t))\n",
        "\n",
        "print(\"Optimized rotation angles: {}\".format(params))\n",
        "final_100 = params"
      ],
      "execution_count": 0,
      "outputs": []
    },
    {
      "cell_type": "code",
      "metadata": {
        "id": "dd6uuyQJW4FF",
        "colab_type": "code",
        "colab": {}
      },
      "source": [
        "opt = qml.GradientDescentOptimizer(stepsize=0.1)\n",
        "\n",
        "# set the number of steps\n",
        "steps = 1000\n",
        "# set the initial parameter values\n",
        "params = init_params\n",
        "dev1.shots = 10\n",
        "\n",
        "cost10 = []\n",
        "for i in range(steps):\n",
        "    # update the circuit parameters\n",
        "    params = opt.step(cost, params)\n",
        "    t = cost(params)\n",
        "    cost10.append(t)\n",
        "\n",
        "    if (i + 1) % 1 == 0:\n",
        "        print(\"Cost after step {:5d}: {: .30f}\".format(i + 1, t))\n",
        "\n",
        "print(\"Optimized rotation angles: {}\".format(params))\n",
        "final_10 = params"
      ],
      "execution_count": 0,
      "outputs": []
    },
    {
      "cell_type": "code",
      "metadata": {
        "id": "sxH2cVRnW4FK",
        "colab_type": "code",
        "colab": {}
      },
      "source": [
        "opt = qml.GradientDescentOptimizer(stepsize=0.1)\n",
        "\n",
        "# set the number of steps\n",
        "steps = 1000\n",
        "# set the initial parameter values\n",
        "params1 = init_params\n",
        "dev1.shots = 1\n",
        "\n",
        "cost1 = []\n",
        "for i in range(steps):\n",
        "    # update the circuit parameters\n",
        "    params1 = opt.step(cost, params1)\n",
        "    t = cost(params1)\n",
        "    cost1.append(t)\n",
        "\n",
        "    if (i + 1) % 1 == 0:\n",
        "        print(\"Cost after step {:5d}: {: .30f}\".format(i + 1, t))\n",
        "\n",
        "print(\"Optimized rotation angles: {}\".format(params1))\n",
        "final_1 = params"
      ],
      "execution_count": 0,
      "outputs": []
    },
    {
      "cell_type": "code",
      "metadata": {
        "id": "Gnb7fvD3W4FS",
        "colab_type": "code",
        "colab": {}
      },
      "source": [
        "opt = qml.GradientDescentOptimizer(stepsize=0.1)\n",
        "\n",
        "# set the number of steps\n",
        "steps = 1000\n",
        "# set the initial parameter values\n",
        "params = init_params\n",
        "dev1.analytic = True\n",
        "\n",
        "cost_analytic = []\n",
        "for i in range(steps):\n",
        "    # update the circuit parameters\n",
        "    params = opt.step(cost, params)\n",
        "    t = cost(params)\n",
        "    cost_analytic.append(t)\n",
        "\n",
        "    if (i + 1) % 1 == 0:\n",
        "        print(\"Cost after step {:5d}: {: .30f}\".format(i + 1, t))\n",
        "\n",
        "print(\"Optimized rotation angles: {}\".format(params))\n",
        "final = params"
      ],
      "execution_count": 0,
      "outputs": []
    },
    {
      "cell_type": "code",
      "metadata": {
        "id": "hRjNpxrcW4FZ",
        "colab_type": "code",
        "colab": {}
      },
      "source": [
        "from matplotlib import pyplot as plt\n",
        "plt.style.use(\"fast\")"
      ],
      "execution_count": 0,
      "outputs": []
    },
    {
      "cell_type": "code",
      "metadata": {
        "id": "d1jguXv_W4Ff",
        "colab_type": "code",
        "colab": {
          "base_uri": "https://localhost:8080/",
          "height": 282
        },
        "outputId": "528357c8-066d-48f1-8c00-990fed68e231"
      },
      "source": [
        "plt.plot(cost1000[:500] ,label=\"QSGD (1000 shots)\")\n",
        "plt.legend()"
      ],
      "execution_count": 15,
      "outputs": [
        {
          "output_type": "execute_result",
          "data": {
            "text/plain": [
              "<matplotlib.legend.Legend at 0x7fab9266ddd8>"
            ]
          },
          "metadata": {
            "tags": []
          },
          "execution_count": 15
        },
        {
          "output_type": "display_data",
          "data": {
            "image/png": "[encoded data removed]",
            "text/plain": [
              "<Figure size 432x288 with 1 Axes>"
            ]
          },
          "metadata": {
            "tags": []
          }
        }
      ]
    },
    {
      "cell_type": "code",
      "metadata": {
        "id": "mJvwy-8iW4Fl",
        "colab_type": "code",
        "colab": {
          "base_uri": "https://localhost:8080/",
          "height": 282
        },
        "outputId": "4d7f897f-0da4-4341-d04f-d98eb4d058c8"
      },
      "source": [
        "plt.plot(cost100[:500], \"*\", label=\"QSGD (100 shots)\")\n",
        "plt.legend()"
      ],
      "execution_count": 16,
      "outputs": [
        {
          "output_type": "execute_result",
          "data": {
            "text/plain": [
              "<matplotlib.legend.Legend at 0x7fab925527b8>"
            ]
          },
          "metadata": {
            "tags": []
          },
          "execution_count": 16
        },
        {
          "output_type": "display_data",
          "data": {
            "image/png": "[encoded data removed]",
            "text/plain": [
              "<Figure size 432x288 with 1 Axes>"
            ]
          },
          "metadata": {
            "tags": []
          }
        }
      ]
    },
    {
      "cell_type": "code",
      "metadata": {
        "id": "-YWIy9Q4W4Fq",
        "colab_type": "code",
        "colab": {
          "base_uri": "https://localhost:8080/",
          "height": 282
        },
        "outputId": "c454c8e5-0d30-4f20-b849-e0f4ea3e1ebb"
      },
      "source": [
        "plt.plot(cost10[:500],\".\", label=\"QSGD (10 shot)\")\n",
        "plt.legend()"
      ],
      "execution_count": 17,
      "outputs": [
        {
          "output_type": "execute_result",
          "data": {
            "text/plain": [
              "<matplotlib.legend.Legend at 0x7fab92552cf8>"
            ]
          },
          "metadata": {
            "tags": []
          },
          "execution_count": 17
        },
        {
          "output_type": "display_data",
          "data": {
            "image/png": "[encoded data removed]",
            "text/plain": [
              "<Figure size 432x288 with 1 Axes>"
            ]
          },
          "metadata": {
            "tags": []
          }
        }
      ]
    },
    {
      "cell_type": "code",
      "metadata": {
        "id": "CQPSSCf0W4Fx",
        "colab_type": "code",
        "colab": {
          "base_uri": "https://localhost:8080/",
          "height": 282
        },
        "outputId": "c00d2b05-c6c1-4e7b-8f07-717672ce0017"
      },
      "source": [
        "plt.plot(cost1[:500],\"^\", label=\"QSGD (1 shot)\")\n",
        "plt.legend()"
      ],
      "execution_count": 18,
      "outputs": [
        {
          "output_type": "execute_result",
          "data": {
            "text/plain": [
              "<matplotlib.legend.Legend at 0x7fab924efe48>"
            ]
          },
          "metadata": {
            "tags": []
          },
          "execution_count": 18
        },
        {
          "output_type": "display_data",
          "data": {
            "image/png": "[encoded data removed]",
            "text/plain": [
              "<Figure size 432x288 with 1 Axes>"
            ]
          },
          "metadata": {
            "tags": []
          }
        }
      ]
    },
    {
      "cell_type": "code",
      "metadata": {
        "id": "7nYyLPK6W4F4",
        "colab_type": "code",
        "colab": {
          "base_uri": "https://localhost:8080/",
          "height": 282
        },
        "outputId": "45bfd957-7a1b-440c-9c6e-9f334d5188fc"
      },
      "source": [
        "plt.plot(cost_analytic[:500],\"-\", label=\"gradient descent\")\n",
        "plt.legend()"
      ],
      "execution_count": 21,
      "outputs": [
        {
          "output_type": "execute_result",
          "data": {
            "text/plain": [
              "<matplotlib.legend.Legend at 0x7fab923cbf60>"
            ]
          },
          "metadata": {
            "tags": []
          },
          "execution_count": 21
        },
        {
          "output_type": "display_data",
          "data": {
            "image/png": "[encoded data removed]",
            "text/plain": [
              "<Figure size 432x288 with 1 Axes>"
            ]
          },
          "metadata": {
            "tags": []
          }
        }
      ]
    },
    {
      "cell_type": "code",
      "metadata": {
        "id": "O9k678a7W4F9",
        "colab_type": "code",
        "colab": {
          "base_uri": "https://localhost:8080/",
          "height": 34
        },
        "outputId": "9149e706-fab6-42bd-acf0-c7184d4a5e25"
      },
      "source": [
        "print(cost1000[np.argmin(cost1000)],cost100[np.argmin(cost100)],cost10[np.argmin(cost10)],cost1[np.argmin(cost1)],cost_analytic[np.argmin(cost_analytic)])"
      ],
      "execution_count": 29,
      "outputs": [
        {
          "output_type": "stream",
          "text": [
            "1.1102230246251565e-16 1.1102230246251565e-16 2.220446049250313e-16 2.220446049250313e-16 2.220446049250313e-16\n"
          ],
          "name": "stdout"
        }
      ]
    },
    {
      "cell_type": "code",
      "metadata": {
        "id": "74GY-JeaW4GD",
        "colab_type": "code",
        "colab": {
          "base_uri": "https://localhost:8080/",
          "height": 34
        },
        "outputId": "a2487165-5eb3-4f19-dbcc-fee06edc5771"
      },
      "source": [
        "abs(np.dot(dev1.state.conj().T,y))**2"
      ],
      "execution_count": 23,
      "outputs": [
        {
          "output_type": "execute_result",
          "data": {
            "text/plain": [
              "1.0"
            ]
          },
          "metadata": {
            "tags": []
          },
          "execution_count": 23
        }
      ]
    },
    {
      "cell_type": "code",
      "metadata": {
        "id": "VJzd3vYEW4GL",
        "colab_type": "code",
        "colab": {
          "base_uri": "https://localhost:8080/",
          "height": 34
        },
        "outputId": "662b921d-6711-4679-f2d3-55ee4712de9e"
      },
      "source": [
        "dev1.state"
      ],
      "execution_count": 24,
      "outputs": [
        {
          "output_type": "execute_result",
          "data": {
            "text/plain": [
              "array([0.70710678+0.j, 0.        +0.j, 0.        +0.j, 0.70710678+0.j])"
            ]
          },
          "metadata": {
            "tags": []
          },
          "execution_count": 24
        }
      ]
    },
    {
      "cell_type": "code",
      "metadata": {
        "id": "Kj2HdPRYW4GR",
        "colab_type": "code",
        "colab": {
          "base_uri": "https://localhost:8080/",
          "height": 102
        },
        "outputId": "0d0dba1d-d54d-4662-f5cf-391c7169930d"
      },
      "source": [
        "final,final_1000,final_100,final_10,final_1"
      ],
      "execution_count": 25,
      "outputs": [
        {
          "output_type": "execute_result",
          "data": {
            "text/plain": [
              "(array([1.57079633]),\n",
              " array([1.56786015]),\n",
              " array([1.57436015]),\n",
              " array([1.57286015]),\n",
              " array([1.57286015]))"
            ]
          },
          "metadata": {
            "tags": []
          },
          "execution_count": 25
        }
      ]
    },
    {
      "cell_type": "code",
      "metadata": {
        "id": "fLQ9SgtCZQvk",
        "colab_type": "code",
        "colab": {}
      },
      "source": [
        ""
      ],
      "execution_count": 0,
      "outputs": []
    }
  ]
}